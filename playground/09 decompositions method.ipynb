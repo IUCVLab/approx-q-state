{
 "cells": [
  {
   "cell_type": "code",
   "execution_count": 1,
   "id": "a6668951-f5f5-4794-8411-3113dbe410a4",
   "metadata": {},
   "outputs": [],
   "source": [
    "import tensorly as tl\n",
    "from tensorly import decomposition\n",
    "import numpy as np\n",
    "from qiskit import transpile, QuantumCircuit, quantum_info\n",
    "from qiskit.providers.aer.backends import AerSimulator\n",
    "from qclib.state_preparation import LowRankInitialize, BaaLowRankInitialize\n",
    "from ncon import ncon\n",
    "from qiskit.quantum_info import Statevector\n",
    "\n",
    "backend = AerSimulator()\n",
    "\n",
    "def to_state(vector):\n",
    "    return vector / sum(abs(vector)) ** .5\n",
    "\n",
    "def to_tensor(vector):\n",
    "    n = int(np.log2(vector.size))\n",
    "    return vector.reshape([2] * n)"
   ]
  },
  {
   "cell_type": "markdown",
   "id": "049a5e77-d1a3-49e6-8312-4c982be7a589",
   "metadata": {},
   "source": [
    "# Equivalence check - `qclib`"
   ]
  },
  {
   "cell_type": "code",
   "execution_count": 2,
   "id": "2c0570d4-e10e-4ae1-9cef-b4100bda2d83",
   "metadata": {},
   "outputs": [],
   "source": [
    "one_vs_all = np.zeros((128,), dtype=np.float64)\n",
    "one_vs_all[0] = 1\n",
    "one_vs_all[-1] = 1\n",
    "some_state = np.array([-1, 1])\n",
    "one_vs_all = to_tensor(to_state(np.kron(some_state, one_vs_all)))\n",
    "one_vs_all = tl.moveaxis(one_vs_all, list(range(8)), [1, 2, 3, 4, 0, 5, 6, 7])\n",
    "\n",
    "\n",
    "two_vs_all = np.zeros((64,), dtype=np.float64)\n",
    "two_vs_all[0] = 1\n",
    "two_vs_all[-1] = 1\n",
    "two_vs_all = to_tensor(to_state(np.kron(np.array([1, 1, 1, 1]), two_vs_all)))\n",
    "two_vs_all = tl.moveaxis(two_vs_all, list(range(8)), [2, 0, 3, 4, 5, 1, 6, 7])\n",
    "\n",
    "fully = np.ones((256,), dtype=np.float64)\n",
    "fully[0] = 4\n",
    "fully[-1] = 4\n",
    "fully = to_tensor(to_state(fully))\n",
    "\n",
    "disent = to_tensor(to_state(np.ones((256,), dtype=np.float64)))\n",
    "\n",
    "np.random.seed(1)\n",
    "randomstate = to_tensor(to_state(np.random.random((256,)) - .5))"
   ]
  },
  {
   "cell_type": "code",
   "execution_count": 3,
   "id": "da763f6b-d863-4864-b9f5-ddab6ea7460e",
   "metadata": {},
   "outputs": [],
   "source": [
    "def qclib_method(input_vector, loss=0.05, strategy='single_split'):\n",
    "    return BaaLowRankInitialize(\n",
    "                input_vector.reshape(-1), \n",
    "                opt_params={\n",
    "                    \"max_fidelity_loss\": loss,\n",
    "                    \"strategy\": strategy,\n",
    "                })\n",
    "\n",
    "def extract_subparts(circuit):\n",
    "    unitaries = circuit.data\n",
    "    groups = [sorted([qubit.register._size - qubit.index - 1 for qubit in uni[1]]) for uni in unitaries]\n",
    "    return groups"
   ]
  },
  {
   "cell_type": "code",
   "execution_count": 4,
   "id": "c455ad0a-911a-4819-9bbe-4ad411be1221",
   "metadata": {},
   "outputs": [],
   "source": [
    "def compare_circuit_to_state(circuit, state):\n",
    "    circuit = transpile(circuit, backend)\n",
    "    circuit.save_statevector()\n",
    "    state_vector = backend.run(circuit).result().get_statevector()\n",
    "    # fidelity by hands\n",
    "    return abs(np.dot(state_vector, state.reshape(-1).conj())) ** 2\n",
    "\n",
    "\n",
    "def report_qclib(state, statename=\"\", loss=.05):\n",
    "    print(f\"\\n==== {statename} ====\")\n",
    "    decomp = qclib_method(state, loss=loss, strategy='greedy')\n",
    "    print(\"Greedy:\", extract_subparts(decomp.definition))\n",
    "    print(f\"\\tFidelity: {compare_circuit_to_state(decomp.definition, state)}\")\n",
    "    \n",
    "    decomp = qclib_method(state, loss=loss, strategy='single_split')\n",
    "    print(\"Single Split:\", extract_subparts(decomp.definition))\n",
    "    print(f\"\\tFidelity: {compare_circuit_to_state(decomp.definition, state)}\")\n",
    "    \n",
    "    decomp = qclib_method(state, loss=loss, strategy='split')\n",
    "    print(\"Split:\", extract_subparts(decomp.definition))\n",
    "    print(f\"\\tFidelity: {compare_circuit_to_state(decomp.definition, state)}\")\n",
    "    \n",
    "    decomp = qclib_method(state, loss=loss, strategy='canonical')\n",
    "    print(\"Canonical:\", extract_subparts(decomp.definition))\n",
    "    print(f\"\\tFidelity: {compare_circuit_to_state(decomp.definition, state)}\")\n",
    "          \n",
    "    decomp = qclib_method(state, loss=loss, strategy='brute_force')\n",
    "    print(\"Brute Force:\", extract_subparts(decomp.definition))\n",
    "    print(f\"\\tFidelity: {compare_circuit_to_state(decomp.definition, state)}\")"
   ]
  },
  {
   "cell_type": "code",
   "execution_count": 5,
   "id": "766d181b-eb0f-42a6-9c0b-26b5cecd88d5",
   "metadata": {},
   "outputs": [
    {
     "name": "stdout",
     "output_type": "stream",
     "text": [
      "\n",
      "==== One-vs-all ====\n",
      "Greedy: [[0, 1, 2, 3, 4, 5, 6, 7]]\n"
     ]
    },
    {
     "name": "stderr",
     "output_type": "stream",
     "text": [
      "/var/folders/1g/92np41k92x9fz2f207vmq_ch0000gn/T/ipykernel_4458/515595509.py:11: DeprecationWarning: Back-references to from Bit instances to their containing Registers have been deprecated. Instead, inspect Registers to find their contained Bits.\n",
      "  groups = [sorted([qubit.register._size - qubit.index - 1 for qubit in uni[1]]) for uni in unitaries]\n"
     ]
    },
    {
     "name": "stdout",
     "output_type": "stream",
     "text": [
      "\tFidelity: 0.9999999999999991\n",
      "Single Split: [[1], [0, 2, 3, 4, 5, 6, 7]]\n",
      "\tFidelity: 0.9999999999999998\n",
      "Split: [[0, 1, 2, 3, 4, 5, 6, 7]]\n",
      "\tFidelity: 0.9999999999999991\n",
      "Canonical: [[0, 1, 2, 3, 4, 5, 6, 7]]\n",
      "\tFidelity: 0.9999999999999991\n",
      "Brute Force: [[1], [0, 2, 3, 4, 5, 6, 7]]\n",
      "\tFidelity: 0.9999999999999998\n",
      "\n",
      "==== two-vs-all ====\n",
      "Greedy: [[0, 1, 2, 3, 4, 5, 6, 7]]\n",
      "\tFidelity: 0.9999999999999989\n",
      "Single Split: [[0], [2], [1, 3, 4, 5, 6, 7]]\n",
      "\tFidelity: 0.9999999999999996\n",
      "Split: [[0, 1, 2, 3, 4, 5, 6, 7]]\n",
      "\tFidelity: 0.9999999999999989\n",
      "Canonical: [[0, 1, 2, 3, 4, 5, 6, 7]]\n",
      "\tFidelity: 0.9999999999999989\n",
      "Brute Force: [[0], [2], [1, 3, 4, 5, 6, 7]]\n",
      "\tFidelity: 0.9999999999999996\n",
      "\n",
      "==== Fully ====\n",
      "Greedy: [[2], [3], [4], [5], [0], [1], [6], [7]]\n",
      "\tFidelity: 1.0234374999999967\n",
      "Single Split: [[2], [3], [4], [5], [0], [1], [6], [7]]\n",
      "\tFidelity: 1.0234374999999967\n",
      "Split: [[2], [3], [4], [5], [0], [1], [6], [7]]\n",
      "\tFidelity: 1.0234374999999967\n",
      "Canonical: [[2], [3], [4], [5], [0], [1], [6], [7]]\n",
      "\tFidelity: 1.0234374999999967\n",
      "Brute Force: [[2], [3], [4], [5], [0], [1], [6], [7]]\n",
      "\tFidelity: 1.0234374999999967\n",
      "\n",
      "==== Disentangled ====\n",
      "Greedy: [[0, 1, 2, 3, 4, 5, 6, 7]]\n",
      "\tFidelity: 1.0\n",
      "Single Split: [[0, 1, 2, 3, 4, 5, 6, 7]]\n",
      "\tFidelity: 1.0\n",
      "Split: [[0, 1, 2, 3, 4, 5, 6, 7]]\n",
      "\tFidelity: 1.0\n",
      "Canonical: [[0, 1, 2, 3, 4, 5, 6, 7]]\n",
      "\tFidelity: 1.0\n",
      "Brute Force: [[0, 1, 2, 3, 4, 5, 6, 7]]\n",
      "\tFidelity: 1.0\n",
      "\n",
      "==== Random ====\n",
      "Greedy: [[0, 1, 2, 3, 4, 5, 6, 7]]\n",
      "\tFidelity: 0.34998254545933233\n",
      "Single Split: [[0, 1, 2, 3, 4, 5, 6, 7]]\n",
      "\tFidelity: 0.34998254545933233\n",
      "Split: [[0, 1, 2, 3, 4, 5, 6, 7]]\n",
      "\tFidelity: 0.34998254545933233\n",
      "Canonical: [[0, 1, 2, 3, 4, 5, 6, 7]]\n",
      "\tFidelity: 0.34998254545933233\n",
      "Brute Force: [[0, 1, 2, 3, 4, 5, 6, 7]]\n",
      "\tFidelity: 0.34998254545933233\n"
     ]
    }
   ],
   "source": [
    "report_qclib(one_vs_all, \"One-vs-all\")\n",
    "report_qclib(two_vs_all, \"two-vs-all\")\n",
    "report_qclib(fully, \"Fully\")\n",
    "report_qclib(disent, \"Disentangled\")\n",
    "report_qclib(randomstate, \"Random\")"
   ]
  },
  {
   "cell_type": "markdown",
   "id": "cb333a7d-4f9a-48a3-ae4b-9c14555fd9f8",
   "metadata": {},
   "source": [
    "# Equivalence methods"
   ]
  },
  {
   "cell_type": "code",
   "execution_count": 6,
   "id": "72bc3472-0708-4394-964c-03e2e56b4420",
   "metadata": {},
   "outputs": [],
   "source": [
    "def test_tensor_legs(T):\n",
    "    # array legs contracted\n",
    "    result = np.zeros((T.ndim,))\n",
    "\n",
    "    plus = np.array([1, 1]) * .5 ** .5\n",
    "    one = np.array([0, 1])\n",
    "\n",
    "    c, m = decomposition.tucker(T, rank=T.shape)\n",
    "    cabs = abs(c)\n",
    "    mc = m.copy()\n",
    "    \n",
    "    for i in range(T.ndim):\n",
    "        \n",
    "        # for each mode i we will replace m[i] with I tensor\n",
    "        # while for the others we will contract to |+>\n",
    "        measurements = [plus] * T.ndim\n",
    "        measurements[i] = one        \n",
    "        tensors = [cabs] + measurements\n",
    "        contractions = []\n",
    "        # outgoing contractions of core tensor\n",
    "        contractions.append(list(range(1, T.ndim + 1)))\n",
    "        # measurements\n",
    "        contractions += [[q] for q in contractions[0]]\n",
    "        # hang a free leg\n",
    "        result[i] = ncon(tensors, contractions)\n",
    "    return result\n",
    "\n",
    "\n",
    "def report_test_tensor(T, title=\"\"):\n",
    "    print(f\"=== {title} ===\")\n",
    "    print([round(v, 5) for v in test_tensor_legs(T)])\n",
    "    \n",
    "    \n",
    "def initialize_with_leg_cut(T, thresold):\n",
    "    legs = test_tensor_legs(T)\n",
    "    c, m = tl.decomposition.tucker(T, rank=T.shape)\n",
    "    result = {}\n",
    "    tensors = [c]\n",
    "    contractions = [list(range(-1, -T.ndim-1, -1)), ]\n",
    "        \n",
    "    for i, leg in enumerate(legs):\n",
    "        if leg < thresold:\n",
    "            state = to_state(m[i][:, 0].reshape(2,))\n",
    "            result[i] = state\n",
    "            n = len(contractions)\n",
    "            contractions[0][i] = n\n",
    "            contractions += [[n]]\n",
    "            tensors.append(state)\n",
    "\n",
    "    if not result:\n",
    "        return {-1: T.reshape(-1)}\n",
    "            \n",
    "    result[-1] = to_state(ncon(tensors, contractions).reshape(-1))\n",
    "    return result\n",
    "\n",
    "\n",
    "def get_leg_cut_circuit(T, threshold):\n",
    "    qc = QuantumCircuit(T.ndim)\n",
    "    result = initialize_with_leg_cut(T, threshold)\n",
    "    other = set(range(T.ndim))    \n",
    "    for key in result:\n",
    "        if key != -1:\n",
    "            qc.initialize(result[key] / np.linalg.norm(result[key]), 7 - key)\n",
    "            other.remove(7 - key)\n",
    "    if other:\n",
    "        qc.initialize(result[-1] / np.linalg.norm(result[-1]), sorted(list(other)))\n",
    "    return qc"
   ]
  },
  {
   "cell_type": "code",
   "execution_count": 7,
   "id": "e8efbfe5-b9b1-49b5-8990-275d4449be86",
   "metadata": {},
   "outputs": [
    {
     "name": "stdout",
     "output_type": "stream",
     "text": [
      "=== One-vs-all ===\n",
      "[0.0625, 0.0, 0.0625, 0.0625, 0.0625, 0.0625, 0.0625, 0.0625]\n",
      "=== two-vs-all ===\n",
      "[0.0, 0.0625, 0.0, 0.0625, 0.0625, 0.0625, 0.0625, 0.0625]\n",
      "=== Fully ===\n",
      "[0.13106, 0.13106, 0.13106, 0.13106, 0.13106, 0.13106, 0.13106, 0.13106]\n",
      "=== Disentangled ===\n",
      "[0.0, 0.0, 0.0, 0.0, 0.0, 0.0, 0.0, 0.0]\n",
      "=== Random ===\n",
      "[0.32517, 0.32942, 0.32456, 0.33048, 0.3104, 0.32512, 0.33834, 0.32268]\n"
     ]
    }
   ],
   "source": [
    "report_test_tensor(one_vs_all, \"One-vs-all\")\n",
    "report_test_tensor(two_vs_all, \"two-vs-all\")\n",
    "report_test_tensor(fully, \"Fully\")\n",
    "report_test_tensor(disent, \"Disentangled\")\n",
    "report_test_tensor(randomstate, \"Random\")"
   ]
  },
  {
   "cell_type": "code",
   "execution_count": 8,
   "id": "aa90e0f0-eda3-419e-8053-11b2abf6f784",
   "metadata": {},
   "outputs": [
    {
     "data": {
      "text/plain": [
       "{0: array([-0.59460356, -0.59460356]),\n",
       " 1: array([-0.59460356, -0.59460356]),\n",
       " 2: array([-0.59460356, -0.59460356]),\n",
       " 3: array([-0.59460356, -0.59460356]),\n",
       " 4: array([-0.59460356, -0.59460356]),\n",
       " 5: array([-0.59460356, -0.59460356]),\n",
       " 6: array([-0.59460356, -0.59460356]),\n",
       " 7: array([-0.59460356, -0.59460356]),\n",
       " -1: array([0.125])}"
      ]
     },
     "execution_count": 8,
     "metadata": {},
     "output_type": "execute_result"
    }
   ],
   "source": [
    "initialize_with_leg_cut(to_tensor(disent), 0.001)"
   ]
  },
  {
   "cell_type": "code",
   "execution_count": 9,
   "id": "aa031ba8-ae24-4f4b-9b98-beebbe34afc7",
   "metadata": {},
   "outputs": [
    {
     "name": "stdout",
     "output_type": "stream",
     "text": [
      "1.0\n",
      "1.0916030534351124\n",
      "1.0000000000000004\n"
     ]
    },
    {
     "data": {
      "image/png": "[encoded data removed]",
      "text/plain": [
       "<Figure size 507.997x505.68 with 1 Axes>"
      ]
     },
     "metadata": {},
     "output_type": "display_data"
    },
    {
     "name": "stdout",
     "output_type": "stream",
     "text": [
      "1.0\n"
     ]
    }
   ],
   "source": [
    "qc = get_leg_cut_circuit(disent, 0.001)\n",
    "print(compare_circuit_to_state(qc, disent))\n",
    "\n",
    "qc = get_leg_cut_circuit(fully, 0.001)\n",
    "print(compare_circuit_to_state(qc, fully))\n",
    "\n",
    "qc = get_leg_cut_circuit(one_vs_all, 0.001)\n",
    "print(compare_circuit_to_state(qc, one_vs_all))\n",
    "display(qc.draw(output='mpl'))\n",
    "\n",
    "qc = get_leg_cut_circuit(two_vs_all, 0.001)\n",
    "print(compare_circuit_to_state(qc, two_vs_all))"
   ]
  },
  {
   "cell_type": "markdown",
   "id": "0f805277-5456-4f9a-9128-679285308c9a",
   "metadata": {},
   "source": [
    "# Finally simple method"
   ]
  },
  {
   "cell_type": "code",
   "execution_count": 10,
   "id": "21cced7c-495c-49d3-8048-3bc22a00c38a",
   "metadata": {},
   "outputs": [],
   "source": [
    "def get_singular_sum(tensor):\n",
    "    import itertools\n",
    "    from collections import Counter\n",
    "    core, matrices = tl.decomposition.tucker(tensor, tensor.shape)\n",
    "    result = np.zeros((tensor.ndim,))\n",
    "    for index in itertools.product([0, 1], repeat=tensor.ndim):\n",
    "        for i, v in enumerate(index):\n",
    "            if v == 1: \n",
    "                result[i] += abs(core[index]) ** 2\n",
    "    return result\n",
    "\n",
    "def report_singular_sum(tensor):\n",
    "    return str([round(x, 4) for x in get_singular_sum(tensor)])"
   ]
  },
  {
   "cell_type": "code",
   "execution_count": 11,
   "id": "d156dfc1-526e-4a81-be13-29ee3da57491",
   "metadata": {},
   "outputs": [
    {
     "name": "stdout",
     "output_type": "stream",
     "text": [
      "[0.5, 0.0, 0.5, 0.5, 0.5, 0.5, 0.5, 0.5] One-vs-all\n",
      "[0.0, 0.5, 0.0, 0.5, 0.5, 0.5, 0.5, 0.5] two-vs-all\n",
      "[0.0344, 0.0344, 0.0344, 0.0344, 0.0344, 0.0344, 0.0344, 0.0344] Fully\n",
      "[0.0, 0.0, 0.0, 0.0, 0.0, 0.0, 0.0, 0.0] Disentangled\n",
      "[0.1585, 0.1675, 0.1537, 0.1613, 0.1518, 0.1649, 0.1699, 0.1637] Random\n"
     ]
    }
   ],
   "source": [
    "print(report_singular_sum(one_vs_all), \"One-vs-all\")\n",
    "print(report_singular_sum(two_vs_all), \"two-vs-all\")\n",
    "print(report_singular_sum(fully), \"Fully\")\n",
    "print(report_singular_sum(disent), \"Disentangled\")\n",
    "print(report_singular_sum(randomstate), \"Random\")"
   ]
  },
  {
   "cell_type": "code",
   "execution_count": null,
   "id": "058dde7f-0f49-4942-a429-4eabf73746ad",
   "metadata": {},
   "outputs": [],
   "source": []
  }
 ],
 "metadata": {
  "kernelspec": {
   "display_name": "qiskit",
   "language": "python",
   "name": "qiskit"
  },
  "language_info": {
   "codemirror_mode": {
    "name": "ipython",
    "version": 3
   },
   "file_extension": ".py",
   "mimetype": "text/x-python",
   "name": "python",
   "nbconvert_exporter": "python",
   "pygments_lexer": "ipython3",
   "version": "3.9.7"
  }
 },
 "nbformat": 4,
 "nbformat_minor": 5
}
