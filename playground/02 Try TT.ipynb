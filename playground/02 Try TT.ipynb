{
 "cells": [
  {
   "cell_type": "markdown",
   "id": "cdf33235-c7c3-4bb6-9c93-d9766b93d9e2",
   "metadata": {},
   "source": [
    "Installing [tensorly](http://tensorly.org/)"
   ]
  },
  {
   "cell_type": "code",
   "execution_count": null,
   "id": "24ca42a0-2d31-423d-9e32-45d2dfd4b311",
   "metadata": {},
   "outputs": [],
   "source": [
    "!pip install -U tensorly"
   ]
  },
  {
   "cell_type": "code",
   "execution_count": 68,
   "id": "d8c8be1e-79ca-4643-b24e-8f768ba4127e",
   "metadata": {},
   "outputs": [],
   "source": [
    "import tensorly as tl\n",
    "import numpy as np\n",
    "np.set_printoptions(formatter={'float': lambda x: \"{0:0.3f}\".format(x)})\n",
    "from tensorly import decomposition"
   ]
  },
  {
   "cell_type": "markdown",
   "id": "7548ae1e-82c1-4e83-99ab-8a4688845ddc",
   "metadata": {},
   "source": [
    "Define a NumPy array of 3 dimensions, which here represents 3 qubits state."
   ]
  },
  {
   "cell_type": "code",
   "execution_count": 69,
   "id": "074a8bf6-c598-4658-8686-6147d317d151",
   "metadata": {},
   "outputs": [
    {
     "name": "stdout",
     "output_type": "stream",
     "text": [
      "[[[[0.000 1.000]\n",
      "   [1.000 0.050]]\n",
      "\n",
      "  [[0.000 2.000]\n",
      "   [2.000 0.000]]]\n",
      "\n",
      "\n",
      " [[[0.000 1.000]\n",
      "   [1.000 0.050]]\n",
      "\n",
      "  [[0.000 2.000]\n",
      "   [2.000 -0.100]]]]\n"
     ]
    }
   ],
   "source": [
    "tensor = tl.tensor([0, 1, 1, 0.05, 0, 2, 2, 0, 0, 1, 1, 0.05, 0, 2, 2, -0.1]).reshape(2,2,2,2)\n",
    "print(tensor)"
   ]
  },
  {
   "cell_type": "code",
   "execution_count": 77,
   "id": "56cc74bb-39dd-466b-9a05-bda48b97b4af",
   "metadata": {},
   "outputs": [
    {
     "data": {
      "text/plain": [
       "[array([[[-0.707, -0.707],\n",
       "         [-0.707, 0.707]]]),\n",
       " array([[[-0.447, -0.717],\n",
       "         [-0.894, 0.359]],\n",
       " \n",
       "        [[-0.000, -0.000],\n",
       "         [-0.000, -0.598]]]),\n",
       " array([[[0.729, 0.683],\n",
       "         [-0.684, 0.730]],\n",
       " \n",
       "        [[0.000, 0.000],\n",
       "         [0.027, 0.026]]]),\n",
       " array([[[-2.162],\n",
       "         [2.331]],\n",
       " \n",
       "        [[2.307],\n",
       "         [2.141]]])]"
      ]
     },
     "execution_count": 77,
     "metadata": {},
     "output_type": "execute_result"
    }
   ],
   "source": [
    "tt = decomposition.tensor_train(tensor, rank=2)\n",
    "tt.factors"
   ]
  },
  {
   "cell_type": "code",
   "execution_count": 78,
   "id": "85af2c56-eec2-4ee3-9fbc-4c6c6c244492",
   "metadata": {},
   "outputs": [
    {
     "name": "stdout",
     "output_type": "stream",
     "text": [
      "[[[[0.000 1.000]\n",
      "   [1.000 0.050]]\n",
      "\n",
      "  [[0.000 2.000]\n",
      "   [2.000 0.000]]]\n",
      "\n",
      "\n",
      " [[[0.000 1.000]\n",
      "   [1.000 0.050]]\n",
      "\n",
      "  [[-0.000 2.000]\n",
      "   [2.000 -0.100]]]]\n"
     ]
    }
   ],
   "source": [
    "print(tt.to_tensor())"
   ]
  },
  {
   "cell_type": "code",
   "execution_count": 79,
   "id": "549a1448-205f-4b6e-855a-07ee0b0e7c29",
   "metadata": {},
   "outputs": [
    {
     "data": {
      "text/plain": [
       "True"
      ]
     },
     "execution_count": 79,
     "metadata": {},
     "output_type": "execute_result"
    }
   ],
   "source": [
    "np.allclose(tt.to_tensor(), tensor)"
   ]
  },
  {
   "cell_type": "code",
   "execution_count": null,
   "id": "5ad1bc54-5418-41f2-930e-012d21050358",
   "metadata": {},
   "outputs": [],
   "source": []
  }
 ],
 "metadata": {
  "kernelspec": {
   "display_name": "qiskit",
   "language": "python",
   "name": "qiskit"
  },
  "language_info": {
   "codemirror_mode": {
    "name": "ipython",
    "version": 3
   },
   "file_extension": ".py",
   "mimetype": "text/x-python",
   "name": "python",
   "nbconvert_exporter": "python",
   "pygments_lexer": "ipython3",
   "version": "3.9.7"
  }
 },
 "nbformat": 4,
 "nbformat_minor": 5
}
