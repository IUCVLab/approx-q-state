{
 "cells": [
  {
   "cell_type": "markdown",
   "id": "cdf33235-c7c3-4bb6-9c93-d9766b93d9e2",
   "metadata": {},
   "source": [
    "# Assessing the module\n",
    "\n",
    "Installing [tensorly](http://tensorly.org/)"
   ]
  },
  {
   "cell_type": "code",
   "execution_count": 1,
   "id": "24ca42a0-2d31-423d-9e32-45d2dfd4b311",
   "metadata": {},
   "outputs": [
    {
     "name": "stdout",
     "output_type": "stream",
     "text": [
      "Requirement already satisfied: tensorly in /Users/sprotasov/opt/anaconda3/lib/python3.9/site-packages (0.7.0)\n",
      "Requirement already satisfied: scipy in /Users/sprotasov/opt/anaconda3/lib/python3.9/site-packages (from tensorly) (1.8.0)\n",
      "Requirement already satisfied: numpy in /Users/sprotasov/opt/anaconda3/lib/python3.9/site-packages (from tensorly) (1.22.3)\n",
      "Requirement already satisfied: nose in /Users/sprotasov/opt/anaconda3/lib/python3.9/site-packages (from tensorly) (1.3.7)\n"
     ]
    }
   ],
   "source": [
    "!pip install -U tensorly"
   ]
  },
  {
   "cell_type": "code",
   "execution_count": 118,
   "id": "d8c8be1e-79ca-4643-b24e-8f768ba4127e",
   "metadata": {},
   "outputs": [],
   "source": [
    "import tensorly as tl\n",
    "import numpy as np\n",
    "np.set_printoptions(formatter={'float': lambda x: \"{0:0.3f}\".format(x)})\n",
    "from tensorly import decomposition"
   ]
  },
  {
   "cell_type": "markdown",
   "id": "7548ae1e-82c1-4e83-99ab-8a4688845ddc",
   "metadata": {},
   "source": [
    "Define a NumPy array of 4 dimensions, which here represents 4 qubits state."
   ]
  },
  {
   "cell_type": "code",
   "execution_count": 119,
   "id": "074a8bf6-c598-4658-8686-6147d317d151",
   "metadata": {},
   "outputs": [
    {
     "name": "stdout",
     "output_type": "stream",
     "text": [
      "[[[[0.000 0.129]\n",
      "   [0.387 0.006]]\n",
      "\n",
      "  [[0.000 0.258]\n",
      "   [0.774 0.000]]]\n",
      "\n",
      "\n",
      " [[[0.000 0.129]\n",
      "   [0.129 0.006]]\n",
      "\n",
      "  [[0.000 0.258]\n",
      "   [0.258 -0.013]]]]\n"
     ]
    }
   ],
   "source": [
    "tensor = tl.tensor([0, 1, 3, 0.05, 0, 2, 6, 0, 0, 1, 1, 0.05, 0, 2, 2, -0.1]).reshape(2, 2, 2, 2)\n",
    "\n",
    "# be a valid quantum state!\n",
    "tensor = tensor / sum((tensor.flatten() ** 2)) ** .5\n",
    "print(tensor)"
   ]
  },
  {
   "cell_type": "code",
   "execution_count": 130,
   "id": "56cc74bb-39dd-466b-9a05-bda48b97b4af",
   "metadata": {},
   "outputs": [
    {
     "data": {
      "text/plain": [
       "[array([[[-0.924, -0.383],\n",
       "         [-0.383, 0.924]]]),\n",
       " array([[[0.447, -0.003],\n",
       "         [0.894, 0.001]],\n",
       " \n",
       "        [[0.000, -0.445],\n",
       "         [0.000, -0.896]]]),\n",
       " array([[[-0.000, 0.924],\n",
       "         [-0.997, -0.002]],\n",
       " \n",
       "        [[-0.000, 0.383],\n",
       "         [0.071, -0.022]]]),\n",
       " array([[[0.913],\n",
       "         [0.000]],\n",
       " \n",
       "        [[0.000],\n",
       "         [-0.408]]])]"
      ]
     },
     "execution_count": 130,
     "metadata": {},
     "output_type": "execute_result"
    }
   ],
   "source": [
    "tt = decomposition.tensor_train(tensor, rank=2)\n",
    "tt.factors"
   ]
  },
  {
   "cell_type": "markdown",
   "id": "554bd520-6f99-46d4-9d31-54a2a51f922f",
   "metadata": {},
   "source": [
    "How the train looks like:"
   ]
  },
  {
   "cell_type": "code",
   "execution_count": 131,
   "id": "1102d5d7-82ed-4f65-a70e-df6099ba8214",
   "metadata": {},
   "outputs": [
    {
     "name": "stdout",
     "output_type": "stream",
     "text": [
      "Original tensor shape:  (2, 2, 2, 2)\n",
      "\n",
      "Total elements:  16\n",
      "\n",
      "Train length:  4\n",
      "\n",
      "Train cars: \n",
      "\t (1, 2, 2)->\t (2, 2, 2)->\t (2, 2, 2)->\t (2, 2, 1)->\n",
      "\n",
      "Total train size:  24\n"
     ]
    }
   ],
   "source": [
    "from functools import reduce\n",
    "\n",
    "print(\"Original tensor shape: \", tensor.shape)\n",
    "print(\"\\nTotal elements: \", reduce(lambda a, b: a * b, tensor.shape, 1))\n",
    "print(\"\\nTrain length: \", len(tensor.shape))\n",
    "print(\"\\nTrain cars: \")\n",
    "size = 0\n",
    "for f in tt.factors:\n",
    "    print(\"\\t\", f.shape, end=\"->\")\n",
    "    size += reduce(lambda a, b: a * b, f.shape, 1)\n",
    "print(\"\\n\\nTotal train size: \", size)"
   ]
  },
  {
   "cell_type": "markdown",
   "id": "12293ec5-a01d-46cb-8c4a-60a068e812fb",
   "metadata": {},
   "source": [
    "How to restore a tensor"
   ]
  },
  {
   "cell_type": "code",
   "execution_count": 132,
   "id": "85af2c56-eec2-4ee3-9fbc-4c6c6c244492",
   "metadata": {},
   "outputs": [
    {
     "name": "stdout",
     "output_type": "stream",
     "text": [
      "[[[[0.000 0.129]\n",
      "   [0.387 0.001]]\n",
      "\n",
      "  [[0.000 0.258]\n",
      "   [0.774 0.003]]]\n",
      "\n",
      "\n",
      " [[[-0.000 0.129]\n",
      "   [0.129 -0.004]]\n",
      "\n",
      "  [[-0.000 0.258]\n",
      "   [0.258 -0.008]]]]\n"
     ]
    }
   ],
   "source": [
    "print(tt.to_tensor())"
   ]
  },
  {
   "cell_type": "code",
   "execution_count": 133,
   "id": "549a1448-205f-4b6e-855a-07ee0b0e7c29",
   "metadata": {},
   "outputs": [
    {
     "name": "stdout",
     "output_type": "stream",
     "text": [
      "Allclose:  False\n",
      "Error:  0.012889545659941715\n"
     ]
    }
   ],
   "source": [
    "print(\"Allclose: \", np.allclose(tt.to_tensor(), tensor, atol=1e-5))\n",
    "print(\"Error: \", np.linalg.norm(tensor - tt.to_tensor()))"
   ]
  },
  {
   "cell_type": "markdown",
   "id": "caace9f9-c778-49c7-9c86-15f0aac623a6",
   "metadata": {},
   "source": [
    "Restore the tensor with our hands!"
   ]
  },
  {
   "cell_type": "code",
   "execution_count": 140,
   "id": "53dbbfa6-98dc-4a28-a5d1-b25d5f2ca0fa",
   "metadata": {},
   "outputs": [
    {
     "data": {
      "text/plain": [
       "array([[[[0.000, 0.156],\n",
       "         [0.376, -0.000]],\n",
       "\n",
       "        [[0.000, 0.312],\n",
       "         [0.752, -0.001]]],\n",
       "\n",
       "\n",
       "       [[[0.000, 0.065],\n",
       "         [0.156, -0.000]],\n",
       "\n",
       "        [[0.000, 0.129],\n",
       "         [0.312, -0.000]]]])"
      ]
     },
     "execution_count": 140,
     "metadata": {},
     "output_type": "execute_result"
    }
   ],
   "source": [
    "t_core_copy = t_core.reshape(2, 2)\n",
    "\n",
    "# along the mode 3 we keep the size\n",
    "t_core_copy = (t_matrices[3] @ t_core_copy.reshape(2, 2).T).T.reshape((1, 1, 2, 2))\n",
    "\n",
    "# along the mode 2 we keep the size\n",
    "t_core_copy = (t_matrices[2] @ t_core_copy.reshape(2, 2)).reshape((1, 1, 2, 2))\n",
    "\n",
    "# along the mode 1 we make size from 1 to 2\n",
    "t_core_copy = np.kron(t_matrices[1], t_core_copy.reshape(4, 1)).reshape((1, 2, 2, 2))\n",
    "\n",
    "# along the mode 0 we make size from 1 to 2\n",
    "t_core_copy = np.kron(t_matrices[0], t_core_copy.reshape(8, 1)).reshape((2, 2, 2, 2))\n",
    "t_core_copy"
   ]
  },
  {
   "cell_type": "markdown",
   "id": "39692787-ea77-4919-976e-6dfa4a608dac",
   "metadata": {},
   "source": [
    "Did we do it right?"
   ]
  },
  {
   "cell_type": "code",
   "execution_count": 142,
   "id": "0e1fd0c3-d480-4624-8577-bd44995ac05c",
   "metadata": {},
   "outputs": [
    {
     "data": {
      "text/plain": [
       "True"
      ]
     },
     "execution_count": 142,
     "metadata": {},
     "output_type": "execute_result"
    }
   ],
   "source": [
    "np.allclose(t_core_copy, tl.tucker_tensor.tucker_to_tensor((t_core, t_matrices)))"
   ]
  }
 ],
 "metadata": {
  "kernelspec": {
   "display_name": "qiskit",
   "language": "python",
   "name": "qiskit"
  },
  "language_info": {
   "codemirror_mode": {
    "name": "ipython",
    "version": 3
   },
   "file_extension": ".py",
   "mimetype": "text/x-python",
   "name": "python",
   "nbconvert_exporter": "python",
   "pygments_lexer": "ipython3",
   "version": "3.9.7"
  }
 },
 "nbformat": 4,
 "nbformat_minor": 5
}
