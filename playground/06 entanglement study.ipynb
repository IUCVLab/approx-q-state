{
 "cells": [
  {
   "cell_type": "code",
   "execution_count": 1,
   "id": "96af3835-8b74-47f4-8c7c-630be2705edc",
   "metadata": {},
   "outputs": [],
   "source": [
    "import tensorly as tl\n",
    "from tensorly import decomposition\n",
    "import numpy as np"
   ]
  },
  {
   "cell_type": "code",
   "execution_count": 2,
   "id": "94e1809c-185b-4e33-9edf-c39a9a891f46",
   "metadata": {},
   "outputs": [],
   "source": [
    "PLUS = np.array([.5 ** .5, .5 ** .5])\n",
    "GHZ = np.array([.5 ** .5, 0, 0, 0, 0, 0, 0, .5 ** .5])\n",
    "BELL = np.array([.5 ** .5, 0, 0, .5 ** .5])\n",
    "\n",
    "noise16 = (np.random.random((16,)) - .5) / 1000.0\n",
    "noise32 = (np.random.random((32,)) - .5) / 1000.0\n",
    "noise64 = (np.random.random((64,)) - .5) / 1000.0\n",
    "noise8 = (np.random.random((8,)) - .5) / 1000.0"
   ]
  },
  {
   "cell_type": "code",
   "execution_count": 3,
   "id": "fcdf8ff9-6a19-46ef-a253-6734d4c6bf4c",
   "metadata": {},
   "outputs": [],
   "source": [
    "def to_state(vector):\n",
    "    return vector / sum(abs(vector)) ** .5\n",
    "\n",
    "def to_tensor(vector):\n",
    "    n = int(np.log2(vector.size))\n",
    "    return vector.reshape([2] * n)"
   ]
  },
  {
   "cell_type": "code",
   "execution_count": 4,
   "id": "02522648-8a2f-4c97-a096-039e40a0294e",
   "metadata": {},
   "outputs": [],
   "source": [
    "GHZ_ = to_state(GHZ + noise8)\n",
    "BELL_PLUS = to_state(np.kron(BELL, PLUS) + noise8)\n",
    "BELL_BELL = to_state(np.kron(BELL, BELL) + noise16)\n",
    "PLUS_GHZ = to_state(np.kron(PLUS, GHZ) + noise16)\n",
    "GHZ_PLUS = to_state(np.kron(GHZ, PLUS) + noise16)\n",
    "GHZ_BELL = to_state(np.kron(GHZ, BELL) + noise32)\n",
    "BELL_GHZ = to_state(np.kron(BELL, GHZ) + noise32)\n",
    "GHZ_GHZ = to_state(np.kron(GHZ, GHZ) + noise64)"
   ]
  },
  {
   "cell_type": "code",
   "execution_count": 5,
   "id": "2260bb89-98cd-4951-9014-936f6f1bcc74",
   "metadata": {},
   "outputs": [],
   "source": [
    "GHZ_ = to_tensor(GHZ_)\n",
    "BELL_PLUS = to_tensor(BELL_PLUS)\n",
    "BELL_BELL = to_tensor(BELL_BELL)\n",
    "PLUS_GHZ = to_tensor(PLUS_GHZ)\n",
    "GHZ_PLUS = to_tensor(GHZ_PLUS)\n",
    "GHZ_BELL = to_tensor(GHZ_BELL)\n",
    "BELL_GHZ = to_tensor(BELL_GHZ)\n",
    "GHZ_GHZ = to_tensor(GHZ_GHZ)\n",
    "G_PLUS_HZ = tl.moveaxis(PLUS_GHZ.copy(), [0, 1, 2, 3], [1, 0, 2, 3])\n",
    "GH_PLUS_Z = tl.moveaxis(GHZ_PLUS.copy(), [0, 1, 2, 3], [0, 1, 3, 2])"
   ]
  },
  {
   "cell_type": "code",
   "execution_count": 6,
   "id": "c2dc2e34-91ad-4250-b1a9-65b0a5735c09",
   "metadata": {},
   "outputs": [],
   "source": [
    "def get_singular_sum(tensor):\n",
    "    import itertools\n",
    "    from collections import Counter\n",
    "    core, matrices = tl.decomposition.tucker(tensor, rank=tensor.shape)\n",
    "    result = Counter()\n",
    "    for index in itertools.product([0, 1], repeat=tensor.ndim):\n",
    "        for i, v in enumerate(index):\n",
    "            if v == 1: \n",
    "                result[i] += abs(core[index])\n",
    "    return result.most_common()[::-1]"
   ]
  },
  {
   "cell_type": "code",
   "execution_count": 7,
   "id": "4b31076d-e995-42d2-b3e3-175a7a3c7021",
   "metadata": {},
   "outputs": [
    {
     "name": "stdout",
     "output_type": "stream",
     "text": [
      "[(0, 0.0016230791796551466), (3, 0.7937914339010752), (2, 0.7996046970411729), (1, 0.8303123270849451)]\n",
      "[(3, 0.0008881589903181157), (2, 0.7802071332348177), (0, 0.7954247692669874), (1, 0.8176675405857983)]\n",
      "[(1, 0.0016230791796549987), (3, 0.7937914339010745), (2, 0.7996046970411553), (0, 0.830312327084943)]\n",
      "[(2, 0.0008881589903177198), (3, 0.780207133234927), (0, 0.7954247692670728), (1, 0.8176675405859024)]\n"
     ]
    }
   ],
   "source": [
    "print(get_singular_sum(PLUS_GHZ))\n",
    "print(get_singular_sum(GHZ_PLUS))\n",
    "print(get_singular_sum(G_PLUS_HZ))\n",
    "print(get_singular_sum(GH_PLUS_Z))"
   ]
  },
  {
   "cell_type": "code",
   "execution_count": 8,
   "id": "15693326-d730-4751-967e-503eb9160385",
   "metadata": {},
   "outputs": [
    {
     "data": {
      "text/plain": [
       "[(0, 0.7064486579664196),\n",
       " (3, 0.7067934422070685),\n",
       " (1, 0.7069398569079268),\n",
       " (2, 0.7070620128295165)]"
      ]
     },
     "execution_count": 8,
     "metadata": {},
     "output_type": "execute_result"
    }
   ],
   "source": [
    "get_singular_sum(BELL_BELL) # does not work as good as for a single qubit"
   ]
  },
  {
   "cell_type": "code",
   "execution_count": 9,
   "id": "b9ca3b81-2dc8-4968-818f-8a7c87b01ead",
   "metadata": {},
   "outputs": [],
   "source": [
    "def to_plot(data):\n",
    "    d = [x[1] for x in data]\n",
    "    l = [x[0] for x in data]\n",
    "    return d, l"
   ]
  },
  {
   "cell_type": "code",
   "execution_count": 10,
   "id": "5ce7a8d6-56c6-4f5c-b44b-89d0ae7a8b35",
   "metadata": {},
   "outputs": [
    {
     "data": {
      "image/png": "[encoded data removed]",
      "text/plain": [
       "<Figure size 432x288 with 1 Axes>"
      ]
     },
     "metadata": {
      "needs_background": "light"
     },
     "output_type": "display_data"
    }
   ],
   "source": [
    "import matplotlib.pyplot as plt\n",
    "data, labels = to_plot(get_singular_sum(GH_PLUS_Z))\n",
    "plt.plot(data)\n",
    "for i, label in enumerate(labels):\n",
    "    plt.annotate(str(label), (i, data[i]))"
   ]
  },
  {
   "cell_type": "markdown",
   "id": "a7996eaa-9d33-481e-b631-6fc2f0c69efb",
   "metadata": {},
   "source": [
    "# Rolling the Bell-Bell tensor"
   ]
  },
  {
   "cell_type": "code",
   "execution_count": 11,
   "id": "21e5ac97-486f-45ee-a830-b6f624345efa",
   "metadata": {},
   "outputs": [],
   "source": [
    "core, matrices = tl.decomposition.tucker(BELL_BELL, rank=BELL_BELL.shape)"
   ]
  },
  {
   "cell_type": "code",
   "execution_count": 12,
   "id": "dcc76c42-a1c4-40c1-8449-b02e438b6e7f",
   "metadata": {},
   "outputs": [
    {
     "data": {
      "image/png": "[encoded data removed]",
      "text/plain": [
       "<Figure size 432x288 with 1 Axes>"
      ]
     },
     "metadata": {
      "needs_background": "light"
     },
     "output_type": "display_data"
    },
    {
     "data": {
      "image/png": "[encoded data removed]",
      "text/plain": [
       "<Figure size 432x288 with 1 Axes>"
      ]
     },
     "metadata": {
      "needs_background": "light"
     },
     "output_type": "display_data"
    },
    {
     "data": {
      "image/png": "[encoded data removed]",
      "text/plain": [
       "<Figure size 432x288 with 1 Axes>"
      ]
     },
     "metadata": {
      "needs_background": "light"
     },
     "output_type": "display_data"
    },
    {
     "data": {
      "image/png": "[encoded data removed]",
      "text/plain": [
       "<Figure size 432x288 with 1 Axes>"
      ]
     },
     "metadata": {
      "needs_background": "light"
     },
     "output_type": "display_data"
    }
   ],
   "source": [
    "for i in range(4):\n",
    "    plt.imshow(core.reshape(2, 2, -1)[:, :, i], vmax=1, vmin=-1, cmap=\"RdBu\")\n",
    "    plt.show()"
   ]
  },
  {
   "cell_type": "markdown",
   "id": "c56de8a8-0842-4369-8b61-66562a63b194",
   "metadata": {},
   "source": [
    "# Hypothesis test"
   ]
  },
  {
   "cell_type": "code",
   "execution_count": 13,
   "id": "6e829938-8e55-49cd-b212-3652896deded",
   "metadata": {},
   "outputs": [],
   "source": [
    "def get_singular_group_sum(tensor, k=2):\n",
    "    import itertools\n",
    "    from collections import Counter\n",
    "    core, matrices = tl.decomposition.tucker(tensor, rank=tensor.shape)\n",
    "    result = Counter()\n",
    "    for index in itertools.product([0, 1], repeat=len(tensor.shape)):\n",
    "        value = core[index]\n",
    "        for subindex in itertools.product([0, 1], repeat=k):\n",
    "            for pair in itertools.combinations(range(len(tensor.shape)), r=k):\n",
    "                tpl = tuple(subindex + pair)\n",
    "                if all(index[pair[i]] == subindex[i] for i in range(k)):\n",
    "                    result[tpl] += abs(value)\n",
    "            \n",
    "    return result.most_common()[::-1]"
   ]
  },
  {
   "cell_type": "code",
   "execution_count": 14,
   "id": "48dcee45-1982-4580-9732-ba1d51247394",
   "metadata": {},
   "outputs": [
    {
     "data": {
      "text/plain": [
       "[((0, 1, 0, 2, 3, 4), 0.0003424370814304064),\n",
       " ((0, 0, 1, 1, 3, 4), 0.00037869900474348265),\n",
       " ((1, 0, 1, 2, 3, 4), 0.0003989204425747573),\n",
       " ((1, 0, 1, 0, 3, 4), 0.000428878978302552),\n",
       " ((1, 1, 0, 1, 3, 4), 0.0004771699641930704),\n",
       " ((0, 0, 1, 0, 3, 4), 0.0004985319700486052),\n",
       " ((0, 0, 1, 2, 3, 4), 0.0005284905057763999),\n",
       " ((1, 0, 1, 1, 3, 4), 0.0005487119436076745),\n",
       " ((1, 1, 0, 0, 3, 4), 0.0005596947634013472),\n",
       " ((0, 1, 0, 0, 3, 4), 0.0007192400271342882),\n",
       " ((0, 1, 0, 1, 3, 4), 0.0008017648263425651),\n",
       " ((1, 1, 0, 2, 3, 4), 0.0009364977091052291),\n",
       " ((1, 0, 1, 0, 1, 2), 0.02188593970779415),\n",
       " ((1, 0, 1, 0, 1, 4), 0.046707440720086174),\n",
       " ((1, 0, 0, 0, 1, 3), 0.04683157736874978),\n",
       " ((1, 0, 1, 0, 1, 3), 0.0468488055585945),\n",
       " ((1, 0, 0, 0, 1, 4), 0.046972942207258096),\n",
       " ((0, 1, 0, 0, 1, 2), 0.049482770775784356),\n",
       " ((0, 1, 1, 0, 1, 3), 0.0529731296255303),\n",
       " ((0, 1, 1, 0, 1, 4), 0.053034122551535376),\n",
       " ((0, 1, 0, 0, 1, 4), 0.05320790620254799),\n",
       " ((0, 1, 0, 0, 1, 3), 0.053268899128553066),\n",
       " ((0, 1, 1, 0, 1, 2), 0.05675925797829901),\n",
       " ((1, 0, 0, 0, 1, 2), 0.07179444321955011),\n",
       " ((0, 1, 0, 1, 2, 3), 0.0864368880309687),\n",
       " ((0, 1, 1, 1, 2, 4), 0.08664598834078324),\n",
       " ((0, 1, 0, 1, 2, 4), 0.08686539332213937),\n",
       " ((0, 1, 1, 1, 2, 3), 0.08707449363195391),\n",
       " ((1, 0, 0, 1, 2, 4), 0.09686047493927367),\n",
       " ((1, 0, 0, 1, 2, 3), 0.09704108889404807),\n",
       " ((1, 0, 1, 1, 2, 3), 0.09734141364171839),\n",
       " ((1, 0, 1, 1, 2, 4), 0.0975220275964928),\n",
       " ((0, 1, 1, 0, 2, 4), 0.10391712440690076),\n",
       " ((0, 1, 0, 0, 2, 3), 0.10413909842965292),\n",
       " ((0, 1, 1, 0, 2, 3), 0.10424560150377454),\n",
       " ((0, 1, 0, 0, 2, 4), 0.1044675755265267),\n",
       " ((1, 0, 0, 0, 2, 4), 0.10822769314837112),\n",
       " ((1, 0, 0, 0, 2, 3), 0.10830597753292902),\n",
       " ((1, 0, 1, 0, 2, 3), 0.10838819744660322),\n",
       " ((1, 0, 1, 0, 2, 4), 0.10846648183116112),\n",
       " ((1, 1, 0, 0, 1, 2), 0.1448997317599821),\n",
       " ((0, 0, 1, 0, 1, 2), 0.15162544195512845),\n",
       " ((1, 1, 0, 0, 2, 3), 0.3541894542098854),\n",
       " ((1, 1, 1, 0, 2, 4), 0.3542702445690667),\n",
       " ((1, 1, 0, 0, 2, 4), 0.3543985543795421),\n",
       " ((1, 1, 1, 0, 2, 3), 0.3544793447387234),\n",
       " ((0, 0, 1, 0, 2, 3), 0.36736443020937654),\n",
       " ((0, 0, 1, 0, 2, 4), 0.36747219924916463),\n",
       " ((0, 0, 0, 0, 2, 4), 0.36779668763789264),\n",
       " ((0, 0, 0, 0, 2, 3), 0.36790445667768074),\n",
       " ((1, 1, 1, 1, 2, 4), 0.3715413806351842),\n",
       " ((1, 1, 1, 1, 2, 3), 0.371650452610544),\n",
       " ((1, 1, 0, 1, 2, 3), 0.37189166460856965),\n",
       " ((1, 1, 0, 1, 2, 4), 0.37200073658392946),\n",
       " ((0, 0, 1, 1, 2, 3), 0.3784112140142614),\n",
       " ((0, 0, 1, 1, 2, 4), 0.37841665348383297),\n",
       " ((0, 0, 0, 1, 2, 4), 0.3791639058469901),\n",
       " ((0, 0, 0, 1, 2, 3), 0.37916934531656166),\n",
       " ((1, 1, 0, 0, 1, 4), 0.41565330532065514),\n",
       " ((1, 1, 0, 0, 1, 3), 0.41566385437406467),\n",
       " ((1, 1, 1, 0, 1, 3), 0.41601873662673206),\n",
       " ((1, 1, 1, 0, 1, 4), 0.41602928568014164),\n",
       " ((0, 0, 1, 0, 1, 4), 0.41835520110453006),\n",
       " ((0, 0, 1, 0, 1, 3), 0.41863690208762083),\n",
       " ((0, 0, 0, 0, 1, 3), 0.4187746559787806),\n",
       " ((0, 0, 0, 0, 1, 4), 0.4190563569618714),\n",
       " ((1, 1, 1, 2, 3, 4), 0.4577884485333927),\n",
       " ((1, 0, 0, 2, 3, 4), 0.4579296321969636),\n",
       " ((1, 0, 0, 0, 3, 4), 0.4620665527645119),\n",
       " ((1, 1, 1, 0, 3, 4), 0.4623078474219252),\n",
       " ((0, 1, 1, 1, 3, 4), 0.46468394281987274),\n",
       " ((0, 0, 0, 1, 3, 4), 0.4652275343427869),\n",
       " ((1, 0, 0, 1, 3, 4), 0.46838404155901003),\n",
       " ((1, 1, 1, 1, 3, 4), 0.4685146962880693),\n",
       " ((0, 1, 1, 0, 3, 4), 0.47089079168601683),\n",
       " ((0, 0, 0, 0, 3, 4), 0.4715450231372851),\n",
       " ((0, 1, 1, 2, 3, 4), 0.47541019057454936),\n",
       " ((0, 0, 0, 2, 3, 4), 0.4756819437048334),\n",
       " ((0, 0, 0, 0, 1, 2), 0.6857861161112729),\n",
       " ((1, 1, 1, 0, 1, 2), 0.6867828592408146)]"
      ]
     },
     "execution_count": 14,
     "metadata": {},
     "output_type": "execute_result"
    }
   ],
   "source": [
    "get_singular_group_sum(GHZ_BELL, k=3)"
   ]
  }
 ],
 "metadata": {
  "kernelspec": {
   "display_name": "qiskit",
   "language": "python",
   "name": "qiskit"
  },
  "language_info": {
   "codemirror_mode": {
    "name": "ipython",
    "version": 3
   },
   "file_extension": ".py",
   "mimetype": "text/x-python",
   "name": "python",
   "nbconvert_exporter": "python",
   "pygments_lexer": "ipython3",
   "version": "3.9.7"
  }
 },
 "nbformat": 4,
 "nbformat_minor": 5
}
