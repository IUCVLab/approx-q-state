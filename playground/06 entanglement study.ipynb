{
 "cells": [
  {
   "cell_type": "code",
   "execution_count": 1,
   "id": "96af3835-8b74-47f4-8c7c-630be2705edc",
   "metadata": {},
   "outputs": [],
   "source": [
    "import tensorly as tl\n",
    "from tensorly import decomposition\n",
    "import numpy as np"
   ]
  },
  {
   "cell_type": "code",
   "execution_count": 2,
   "id": "94e1809c-185b-4e33-9edf-c39a9a891f46",
   "metadata": {},
   "outputs": [],
   "source": [
    "PLUS = np.array([.5 ** .5, .5 ** .5])\n",
    "GHZ = np.array([.5 ** .5, 0, 0, 0, 0, 0, 0, .5 ** .5])\n",
    "BELL = np.array([.5 ** .5, 0, 0, .5 ** .5])\n",
    "\n",
    "noise16 = (np.random.random((16,)) - .5) / 1000.0\n",
    "noise32 = (np.random.random((32,)) - .5) / 1000.0\n",
    "noise64 = (np.random.random((64,)) - .5) / 1000.0\n",
    "noise8 = (np.random.random((8,)) - .5) / 1000.0"
   ]
  },
  {
   "cell_type": "code",
   "execution_count": 3,
   "id": "fcdf8ff9-6a19-46ef-a253-6734d4c6bf4c",
   "metadata": {},
   "outputs": [],
   "source": [
    "def to_state(vector):\n",
    "    return vector / sum(abs(vector)) ** .5\n",
    "\n",
    "def to_tensor(vector):\n",
    "    n = int(np.log2(vector.size))\n",
    "    return vector.reshape([2] * n)"
   ]
  },
  {
   "cell_type": "code",
   "execution_count": 4,
   "id": "02522648-8a2f-4c97-a096-039e40a0294e",
   "metadata": {},
   "outputs": [],
   "source": [
    "GHZ_ = to_state(GHZ + noise8)\n",
    "BELL_PLUS = to_state(np.kron(BELL, PLUS) + noise8)\n",
    "BELL_BELL = to_state(np.kron(BELL, BELL) + noise16)\n",
    "PLUS_GHZ = to_state(np.kron(PLUS, GHZ) + noise16)\n",
    "GHZ_PLUS = to_state(np.kron(GHZ, PLUS) + noise16)\n",
    "GHZ_BELL = to_state(np.kron(GHZ, BELL) + noise32)\n",
    "BELL_GHZ = to_state(np.kron(BELL, GHZ) + noise32)\n",
    "GHZ_GHZ = to_state(np.kron(GHZ, GHZ) + noise64)"
   ]
  },
  {
   "cell_type": "code",
   "execution_count": 5,
   "id": "2260bb89-98cd-4951-9014-936f6f1bcc74",
   "metadata": {},
   "outputs": [],
   "source": [
    "GHZ_ = to_tensor(GHZ_)\n",
    "BELL_PLUS = to_tensor(BELL_PLUS)\n",
    "BELL_BELL = to_tensor(BELL_BELL)\n",
    "PLUS_GHZ = to_tensor(PLUS_GHZ)\n",
    "GHZ_PLUS = to_tensor(GHZ_PLUS)\n",
    "GHZ_BELL = to_tensor(GHZ_BELL)\n",
    "BELL_GHZ = to_tensor(BELL_GHZ)\n",
    "GHZ_GHZ = to_tensor(GHZ_GHZ)\n",
    "G_PLUS_HZ = tl.moveaxis(PLUS_GHZ.copy(), [0, 1, 2, 3], [1, 0, 2, 3])\n",
    "GH_PLUS_Z = tl.moveaxis(GHZ_PLUS.copy(), [0, 1, 2, 3], [0, 1, 3, 2])"
   ]
  },
  {
   "cell_type": "code",
   "execution_count": 6,
   "id": "c2dc2e34-91ad-4250-b1a9-65b0a5735c09",
   "metadata": {},
   "outputs": [],
   "source": [
    "def get_singular_sum(tensor):\n",
    "    import itertools\n",
    "    from collections import Counter\n",
    "    core, matrices = tl.decomposition.tucker(tensor, tensor.shape)\n",
    "    result = Counter()\n",
    "    for index in itertools.product([0, 1], repeat=tensor.ndim):\n",
    "        for i, v in enumerate(index):\n",
    "            if v == 1: \n",
    "                result[i] += abs(core[index]) ** 2\n",
    "    return result.most_common()[::-1]"
   ]
  },
  {
   "cell_type": "code",
   "execution_count": 7,
   "id": "4b31076d-e995-42d2-b3e3-175a7a3c7021",
   "metadata": {},
   "outputs": [
    {
     "name": "stdout",
     "output_type": "stream",
     "text": [
      "[(0, 4.4717201429803447e-07), (1, 0.24928294468328757), (3, 0.24933727193792987), (2, 0.2494131476696888)]\n",
      "[(3, 3.6665221616322395e-07), (1, 0.24921782057395778), (0, 0.24925739644627243), (2, 0.2492733082199975)]\n",
      "[(1, 4.4717201429803034e-07), (0, 0.2492829446832877), (3, 0.24933727193793004), (2, 0.249413147669689)]\n",
      "[(2, 3.6665221616322813e-07), (1, 0.2492178205739579), (0, 0.24925739644627257), (3, 0.24927330821999757)]\n"
     ]
    }
   ],
   "source": [
    "print(get_singular_sum(PLUS_GHZ))\n",
    "print(get_singular_sum(GHZ_PLUS))\n",
    "print(get_singular_sum(G_PLUS_HZ))\n",
    "print(get_singular_sum(GH_PLUS_Z))"
   ]
  },
  {
   "cell_type": "code",
   "execution_count": 8,
   "id": "15693326-d730-4751-967e-503eb9160385",
   "metadata": {},
   "outputs": [
    {
     "data": {
      "text/plain": [
       "[(2, 0.2494587743953053),\n",
       " (3, 0.2494589611204548),\n",
       " (1, 0.24955613077076577),\n",
       " (0, 0.24955617856328108)]"
      ]
     },
     "execution_count": 8,
     "metadata": {},
     "output_type": "execute_result"
    }
   ],
   "source": [
    "get_singular_sum(BELL_BELL) # does not work as good as for a single qubit"
   ]
  },
  {
   "cell_type": "code",
   "execution_count": 9,
   "id": "b9ca3b81-2dc8-4968-818f-8a7c87b01ead",
   "metadata": {},
   "outputs": [],
   "source": [
    "def to_plot(data):\n",
    "    d = [x[1] for x in data]\n",
    "    l = [x[0] for x in data]\n",
    "    return d, l"
   ]
  },
  {
   "cell_type": "code",
   "execution_count": 10,
   "id": "5ce7a8d6-56c6-4f5c-b44b-89d0ae7a8b35",
   "metadata": {},
   "outputs": [
    {
     "data": {
      "image/png": "[encoded data removed]",
      "text/plain": [
       "<Figure size 432x288 with 1 Axes>"
      ]
     },
     "metadata": {
      "needs_background": "light"
     },
     "output_type": "display_data"
    }
   ],
   "source": [
    "import matplotlib.pyplot as plt\n",
    "data, labels = to_plot(get_singular_sum(GH_PLUS_Z))\n",
    "plt.plot(data)\n",
    "for i, label in enumerate(labels):\n",
    "    plt.annotate(str(label), (i, data[i]))"
   ]
  },
  {
   "cell_type": "markdown",
   "id": "a7996eaa-9d33-481e-b631-6fc2f0c69efb",
   "metadata": {},
   "source": [
    "# Rolling the Bell-Bell tensor"
   ]
  },
  {
   "cell_type": "code",
   "execution_count": 11,
   "id": "21e5ac97-486f-45ee-a830-b6f624345efa",
   "metadata": {},
   "outputs": [],
   "source": [
    "core, matrices = tl.decomposition.tucker(BELL_BELL, rank=BELL_BELL.shape)"
   ]
  },
  {
   "cell_type": "code",
   "execution_count": 12,
   "id": "dcc76c42-a1c4-40c1-8449-b02e438b6e7f",
   "metadata": {},
   "outputs": [
    {
     "data": {
      "image/png": "[encoded data removed]",
      "text/plain": [
       "<Figure size 432x288 with 1 Axes>"
      ]
     },
     "metadata": {
      "needs_background": "light"
     },
     "output_type": "display_data"
    },
    {
     "data": {
      "image/png": "[encoded data removed]",
      "text/plain": [
       "<Figure size 432x288 with 1 Axes>"
      ]
     },
     "metadata": {
      "needs_background": "light"
     },
     "output_type": "display_data"
    },
    {
     "data": {
      "image/png": "[encoded data removed]",
      "text/plain": [
       "<Figure size 432x288 with 1 Axes>"
      ]
     },
     "metadata": {
      "needs_background": "light"
     },
     "output_type": "display_data"
    },
    {
     "data": {
      "image/png": "[encoded data removed]",
      "text/plain": [
       "<Figure size 432x288 with 1 Axes>"
      ]
     },
     "metadata": {
      "needs_background": "light"
     },
     "output_type": "display_data"
    }
   ],
   "source": [
    "for i in range(4):\n",
    "    plt.imshow(core.reshape(2, 2, -1)[:, :, i], vmax=1, vmin=-1, cmap=\"RdBu\")\n",
    "    plt.show()"
   ]
  },
  {
   "cell_type": "markdown",
   "id": "c56de8a8-0842-4369-8b61-66562a63b194",
   "metadata": {},
   "source": [
    "# Hypothesis test"
   ]
  },
  {
   "cell_type": "code",
   "execution_count": 13,
   "id": "6e829938-8e55-49cd-b212-3652896deded",
   "metadata": {},
   "outputs": [],
   "source": [
    "def get_singular_group_sum(tensor, k=2):\n",
    "    import itertools\n",
    "    from collections import Counter\n",
    "    core, matrices = tl.decomposition.tucker(tensor, rank=tensor.shape)\n",
    "    result = Counter()\n",
    "    for index in itertools.product([0, 1], repeat=len(tensor.shape)):\n",
    "        value = core[index]\n",
    "        for subindex in itertools.product([0, 1], repeat=k):\n",
    "            for pair in itertools.combinations(range(len(tensor.shape)), r=k):\n",
    "                tpl = tuple(subindex + pair)\n",
    "                if all(index[pair[i]] == subindex[i] for i in range(k)):\n",
    "                    result[tpl] += abs(value) ** 2\n",
    "            \n",
    "    return result.most_common()[::-1]"
   ]
  },
  {
   "cell_type": "code",
   "execution_count": 14,
   "id": "48dcee45-1982-4580-9732-ba1d51247394",
   "metadata": {},
   "outputs": [
    {
     "data": {
      "text/plain": [
       "[((0, 1, 0, 1, 3, 4), 3.4223107581503633e-07),\n",
       " ((1, 0, 1, 1, 3, 4), 3.6840976328478004e-07),\n",
       " ((0, 1, 0, 0, 3, 4), 3.7504828062031555e-07),\n",
       " ((1, 0, 1, 0, 3, 4), 4.073026303406776e-07),\n",
       " ((0, 1, 0, 2, 3, 4), 4.777591697821706e-07),\n",
       " ((1, 0, 1, 2, 3, 4), 4.98220836517513e-07),\n",
       " ((0, 0, 1, 2, 3, 4), 5.818163649001804e-07),\n",
       " ((0, 0, 1, 0, 3, 4), 6.727345710770159e-07),\n",
       " ((0, 0, 1, 1, 3, 4), 7.116274381329133e-07),\n",
       " ((1, 1, 0, 2, 3, 4), 8.497615397601562e-07),\n",
       " ((1, 1, 0, 0, 3, 4), 9.524724289220113e-07),\n",
       " ((1, 1, 0, 1, 3, 4), 9.852896337272905e-07),\n",
       " ((0, 1, 1, 0, 1, 2), 0.0006720959777312039),\n",
       " ((1, 0, 1, 0, 1, 2), 0.0009686502465793846),\n",
       " ((1, 0, 0, 0, 1, 4), 0.005309839959745591),\n",
       " ((1, 0, 0, 0, 1, 3), 0.005309894233388004),\n",
       " ((0, 1, 1, 0, 1, 4), 0.005314439798399403),\n",
       " ((0, 1, 1, 0, 1, 3), 0.005314457234828852),\n",
       " ((0, 1, 0, 0, 1, 3), 0.005359857197918817),\n",
       " ((0, 1, 0, 0, 1, 4), 0.005359874634348266),\n",
       " ((1, 0, 1, 0, 1, 3), 0.005364860234065939),\n",
       " ((1, 0, 1, 0, 1, 4), 0.005364914507708352),\n",
       " ((1, 0, 0, 0, 1, 2), 0.009706104220874558),\n",
       " ((0, 1, 0, 0, 1, 2), 0.010002218455016466),\n",
       " ((0, 1, 1, 0, 2, 3), 0.030564705436608615),\n",
       " ((0, 1, 1, 0, 2, 4), 0.030564717236867208),\n",
       " ((1, 0, 0, 0, 2, 3), 0.030572738982576352),\n",
       " ((1, 0, 0, 0, 2, 4), 0.0305729208114131),\n",
       " ((0, 1, 0, 0, 2, 4), 0.030636940696502846),\n",
       " ((0, 1, 0, 0, 2, 3), 0.03063695249676144),\n",
       " ((1, 0, 1, 0, 2, 4), 0.030710422789384316),\n",
       " ((1, 0, 1, 0, 2, 3), 0.030710604618221064),\n",
       " ((0, 1, 1, 1, 2, 3), 0.030722957076018954),\n",
       " ((0, 1, 1, 1, 2, 4), 0.03072300964271975),\n",
       " ((1, 0, 0, 1, 2, 3), 0.030761004576545008),\n",
       " ((1, 0, 0, 1, 2, 4), 0.030761217349011414),\n",
       " ((0, 1, 0, 1, 2, 4), 0.030775202559498487),\n",
       " ((0, 1, 0, 1, 2, 3), 0.030775255126199285),\n",
       " ((1, 0, 1, 1, 2, 4), 0.030818240485927913),\n",
       " ((1, 0, 1, 1, 2, 3), 0.030818453258394315),\n",
       " ((1, 1, 0, 0, 1, 2), 0.051577239379922854),\n",
       " ((0, 0, 1, 0, 1, 2), 0.060529561955638855),\n",
       " ((1, 1, 1, 1, 2, 4), 0.09365934360877409),\n",
       " ((1, 1, 1, 1, 2, 3), 0.09365974771617813),\n",
       " ((1, 1, 1, 0, 2, 4), 0.09381763601462664),\n",
       " ((1, 1, 1, 0, 2, 3), 0.09381799935558847),\n",
       " ((1, 1, 0, 1, 2, 3), 0.09383132934052701),\n",
       " ((1, 1, 0, 1, 2, 4), 0.09383173344793105),\n",
       " ((0, 0, 0, 1, 2, 4), 0.09387262260809606),\n",
       " ((0, 0, 0, 1, 2, 3), 0.09387293943775757),\n",
       " ((0, 0, 1, 1, 2, 3), 0.09390334195052694),\n",
       " ((0, 0, 1, 1, 2, 4), 0.09390365878018844),\n",
       " ((1, 1, 0, 0, 2, 3), 0.09396963196996486),\n",
       " ((1, 1, 0, 0, 2, 4), 0.09396999531092669),\n",
       " ((0, 0, 1, 0, 2, 3), 0.09401119059070019),\n",
       " ((0, 0, 1, 0, 2, 4), 0.09401147647673205),\n",
       " ((0, 0, 0, 0, 2, 4), 0.09406091914569437),\n",
       " ((0, 0, 0, 0, 2, 3), 0.09406120503172623),\n",
       " ((1, 1, 1, 0, 1, 4), 0.1191631442963026),\n",
       " ((1, 1, 1, 0, 1, 3), 0.1191637437397436),\n",
       " ((1, 1, 0, 0, 1, 3), 0.1192324767191532),\n",
       " ((1, 1, 0, 0, 1, 4), 0.1192330761625942),\n",
       " ((0, 0, 1, 0, 1, 3), 0.11926143879247995),\n",
       " ((0, 0, 1, 0, 1, 4), 0.11926175391519984),\n",
       " ((0, 0, 0, 0, 1, 4), 0.11933798520784894),\n",
       " ((0, 0, 0, 0, 1, 3), 0.11933830033056883),\n",
       " ((1, 1, 1, 2, 3, 4), 0.12438185503065732),\n",
       " ((1, 1, 1, 1, 3, 4), 0.12447721568493872),\n",
       " ((1, 1, 1, 0, 3, 4), 0.12452765150138062),\n",
       " ((1, 0, 0, 0, 3, 4), 0.12454196364991085),\n",
       " ((0, 1, 1, 0, 3, 4), 0.12457552097902817),\n",
       " ((1, 0, 0, 1, 3, 4), 0.12459196550730872),\n",
       " ((1, 0, 0, 2, 3, 4), 0.12460608624588977),\n",
       " ((0, 1, 1, 1, 3, 4), 0.12462595679547007),\n",
       " ((0, 0, 0, 2, 3, 4), 0.12463336219793768),\n",
       " ((0, 0, 0, 1, 3, 4), 0.12464748293651873),\n",
       " ((0, 0, 0, 0, 3, 4), 0.1246974847939166),\n",
       " ((0, 1, 1, 2, 3, 4), 0.12472131744975146),\n",
       " ((0, 0, 0, 0, 1, 2), 0.17807017716740994),\n",
       " ((1, 1, 1, 0, 1, 2), 0.18681898107897393)]"
      ]
     },
     "execution_count": 14,
     "metadata": {},
     "output_type": "execute_result"
    }
   ],
   "source": [
    "get_singular_group_sum(GHZ_BELL, k=3)"
   ]
  }
 ],
 "metadata": {
  "kernelspec": {
   "display_name": "qiskit",
   "language": "python",
   "name": "qiskit"
  },
  "language_info": {
   "codemirror_mode": {
    "name": "ipython",
    "version": 3
   },
   "file_extension": ".py",
   "mimetype": "text/x-python",
   "name": "python",
   "nbconvert_exporter": "python",
   "pygments_lexer": "ipython3",
   "version": "3.9.7"
  }
 },
 "nbformat": 4,
 "nbformat_minor": 5
}
