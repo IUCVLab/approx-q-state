{
 "cells": [
  {
   "cell_type": "code",
   "execution_count": 1,
   "id": "96af3835-8b74-47f4-8c7c-630be2705edc",
   "metadata": {},
   "outputs": [],
   "source": [
    "import tensorly as tl\n",
    "from tensorly import decomposition\n",
    "import numpy as np"
   ]
  },
  {
   "cell_type": "code",
   "execution_count": 2,
   "id": "94e1809c-185b-4e33-9edf-c39a9a891f46",
   "metadata": {},
   "outputs": [],
   "source": [
    "PLUS = np.array([.5 ** .5, .5 ** .5])\n",
    "GHZ = np.array([.5 ** .5, 0, 0, 0, 0, 0, 0, .5 ** .5])\n",
    "BELL = np.array([.5 ** .5, 0, 0, .5 ** .5])\n",
    "\n",
    "noise16 = (np.random.random((16,)) - .5) / 1000.0\n",
    "noise32 = (np.random.random((32,)) - .5) / 1000.0\n",
    "noise64 = (np.random.random((64,)) - .5) / 1000.0\n",
    "noise8 = (np.random.random((8,)) - .5) / 1000.0"
   ]
  },
  {
   "cell_type": "code",
   "execution_count": 3,
   "id": "fcdf8ff9-6a19-46ef-a253-6734d4c6bf4c",
   "metadata": {},
   "outputs": [],
   "source": [
    "def to_state(vector):\n",
    "    return vector / sum(abs(vector)) ** .5\n",
    "\n",
    "def to_tensor(vector):\n",
    "    n = int(np.log2(vector.size))\n",
    "    return vector.reshape([2] * n)"
   ]
  },
  {
   "cell_type": "code",
   "execution_count": 59,
   "id": "02522648-8a2f-4c97-a096-039e40a0294e",
   "metadata": {},
   "outputs": [],
   "source": [
    "GHZ_ = to_state(GHZ + noise8)\n",
    "BELL_PLUS = to_state(np.kron(BELL, PLUS) + noise8)\n",
    "BELL_BELL = to_state(np.kron(BELL, BELL) + noise16)\n",
    "PLUS_GHZ = to_state(np.kron(PLUS, GHZ) + noise16)\n",
    "GHZ_PLUS = to_state(np.kron(GHZ, PLUS) + noise16)\n",
    "GHZ_BELL = to_state(np.kron(GHZ, BELL) + noise32)\n",
    "BELL_GHZ = to_state(np.kron(BELL, GHZ) + noise32)\n",
    "GHZ_GHZ = to_state(np.kron(GHZ, GHZ) + noise64)"
   ]
  },
  {
   "cell_type": "code",
   "execution_count": 60,
   "id": "2260bb89-98cd-4951-9014-936f6f1bcc74",
   "metadata": {},
   "outputs": [],
   "source": [
    "GHZ_ = to_tensor(GHZ_)\n",
    "BELL_PLUS = to_tensor(BELL_PLUS)\n",
    "BELL_BELL = to_tensor(BELL_BELL)\n",
    "PLUS_GHZ = to_tensor(PLUS_GHZ)\n",
    "GHZ_PLUS = to_tensor(GHZ_PLUS)\n",
    "GHZ_BELL = to_tensor(GHZ_BELL)\n",
    "BELL_GHZ = to_tensor(BELL_GHZ)\n",
    "GHZ_GHZ = to_tensor(GHZ_GHZ)\n",
    "G_PLUS_HZ = tl.moveaxis(PLUS_GHZ.copy(), [0, 1, 2, 3], [1, 0, 2, 3])\n",
    "GH_PLUS_Z = tl.moveaxis(GHZ_PLUS.copy(), [0, 1, 2, 3], [0, 1, 3, 2])"
   ]
  },
  {
   "cell_type": "code",
   "execution_count": 52,
   "id": "c2dc2e34-91ad-4250-b1a9-65b0a5735c09",
   "metadata": {},
   "outputs": [],
   "source": [
    "def get_singular_sum(tensor):\n",
    "    import itertools\n",
    "    from collections import Counter\n",
    "    core, matrices = tl.decomposition.tucker(tensor, rank=tensor.shape)\n",
    "    result = Counter()\n",
    "    for index in itertools.product([0, 1], repeat=len(tensor.shape)):\n",
    "        value = core[index]\n",
    "        for i, v in enumerate(index):\n",
    "            if v == 1:\n",
    "                result[i] += abs(value)\n",
    "    return result.most_common()[::-1]"
   ]
  },
  {
   "cell_type": "code",
   "execution_count": 53,
   "id": "4b31076d-e995-42d2-b3e3-175a7a3c7021",
   "metadata": {},
   "outputs": [
    {
     "name": "stdout",
     "output_type": "stream",
     "text": [
      "[(0, 0.0006223970681416857), (2, 0.9089377292911854), (3, 0.9170392408184062), (1, 0.9420750683524431)]\n",
      "[(3, 0.0009316659865789348), (2, 0.9043701179093628), (0, 0.9265975243424831), (1, 0.9679805228018523)]\n",
      "[(1, 0.0006223970681416861), (2, 0.9089377292912105), (3, 0.9170392408183982), (0, 0.9420750683524617)]\n",
      "[(2, 0.000931665986578782), (3, 0.9043701179093938), (0, 0.9265975243424934), (1, 0.9679805228018855)]\n"
     ]
    }
   ],
   "source": [
    "print(get_singular_sum(PLUS_GHZ))\n",
    "print(get_singular_sum(GHZ_PLUS))\n",
    "print(get_singular_sum(G_PLUS_HZ))\n",
    "print(get_singular_sum(GH_PLUS_Z))"
   ]
  },
  {
   "cell_type": "code",
   "execution_count": 54,
   "id": "15693326-d730-4751-967e-503eb9160385",
   "metadata": {},
   "outputs": [
    {
     "data": {
      "text/plain": [
       "[(0, 0.7073819753431779),\n",
       " (2, 0.7074861211965506),\n",
       " (3, 0.7075492287201822),\n",
       " (1, 0.7077745645848705)]"
      ]
     },
     "execution_count": 54,
     "metadata": {},
     "output_type": "execute_result"
    }
   ],
   "source": [
    "get_singular_sum(BELL_BELL) # does not work as good as for a single qubit"
   ]
  },
  {
   "cell_type": "code",
   "execution_count": 55,
   "id": "b9ca3b81-2dc8-4968-818f-8a7c87b01ead",
   "metadata": {},
   "outputs": [],
   "source": [
    "def to_plot(data):\n",
    "    d = [x[1] for x in data]\n",
    "    l = [x[0] for x in data]\n",
    "    return d, l"
   ]
  },
  {
   "cell_type": "code",
   "execution_count": 56,
   "id": "5ce7a8d6-56c6-4f5c-b44b-89d0ae7a8b35",
   "metadata": {},
   "outputs": [
    {
     "data": {
      "image/png": "[encoded data removed]",
      "text/plain": [
       "<Figure size 432x288 with 1 Axes>"
      ]
     },
     "metadata": {
      "needs_background": "light"
     },
     "output_type": "display_data"
    }
   ],
   "source": [
    "import matplotlib.pyplot as plt\n",
    "data, labels = to_plot(get_singular_sum(GH_PLUS_Z))\n",
    "plt.plot(data)\n",
    "for i, label in enumerate(labels):\n",
    "    plt.annotate(str(label), (i, data[i]))"
   ]
  },
  {
   "cell_type": "markdown",
   "id": "a7996eaa-9d33-481e-b631-6fc2f0c69efb",
   "metadata": {},
   "source": [
    "# Rolling the Bell-Bell tensor"
   ]
  },
  {
   "cell_type": "code",
   "execution_count": 80,
   "id": "21e5ac97-486f-45ee-a830-b6f624345efa",
   "metadata": {},
   "outputs": [],
   "source": [
    "core, matrices = tl.decomposition.tucker(BELL_BELL, rank=BELL_BELL.shape)"
   ]
  },
  {
   "cell_type": "code",
   "execution_count": 81,
   "id": "dcc76c42-a1c4-40c1-8449-b02e438b6e7f",
   "metadata": {},
   "outputs": [
    {
     "data": {
      "image/png": "[encoded data removed]",
      "text/plain": [
       "<Figure size 432x288 with 1 Axes>"
      ]
     },
     "metadata": {
      "needs_background": "light"
     },
     "output_type": "display_data"
    },
    {
     "data": {
      "image/png": "[encoded data removed]",
      "text/plain": [
       "<Figure size 432x288 with 1 Axes>"
      ]
     },
     "metadata": {
      "needs_background": "light"
     },
     "output_type": "display_data"
    },
    {
     "data": {
      "image/png": "[encoded data removed]",
      "text/plain": [
       "<Figure size 432x288 with 1 Axes>"
      ]
     },
     "metadata": {
      "needs_background": "light"
     },
     "output_type": "display_data"
    },
    {
     "data": {
      "image/png": "[encoded data removed]",
      "text/plain": [
       "<Figure size 432x288 with 1 Axes>"
      ]
     },
     "metadata": {
      "needs_background": "light"
     },
     "output_type": "display_data"
    }
   ],
   "source": [
    "for i in range(4):\n",
    "    plt.imshow(core.reshape(2, 2, -1)[:, :, i], vmax=1, vmin=-1, cmap=\"RdBu\")\n",
    "    plt.show()"
   ]
  },
  {
   "cell_type": "markdown",
   "id": "c56de8a8-0842-4369-8b61-66562a63b194",
   "metadata": {},
   "source": [
    "# Hypothesis test"
   ]
  },
  {
   "cell_type": "code",
   "execution_count": 97,
   "id": "6e829938-8e55-49cd-b212-3652896deded",
   "metadata": {},
   "outputs": [],
   "source": [
    "def get_singular_group_sum(tensor, k=2):\n",
    "    import itertools\n",
    "    from collections import Counter\n",
    "    core, matrices = tl.decomposition.tucker(tensor, rank=tensor.shape)\n",
    "    result = Counter()\n",
    "    for index in itertools.product([0, 1], repeat=len(tensor.shape)):\n",
    "        value = core[index]\n",
    "        for subindex in itertools.product([0, 1], repeat=k):\n",
    "            for pair in itertools.combinations(range(len(tensor.shape)), r=k):\n",
    "                tpl = tuple(subindex + pair)\n",
    "                if all(index[pair[i]] == subindex[i] for i in range(k)):\n",
    "                    result[tpl] += abs(value)\n",
    "            \n",
    "    return result.most_common()[::-1]"
   ]
  },
  {
   "cell_type": "code",
   "execution_count": 99,
   "id": "48dcee45-1982-4580-9732-ba1d51247394",
   "metadata": {},
   "outputs": [
    {
     "data": {
      "text/plain": [
       "[((1, 0, 1, 0, 0, 1, 3, 4), 0.007042245239643521),\n",
       " ((0, 1, 1, 0, 0, 1, 3, 4), 0.007404001148594492),\n",
       " ((0, 1, 0, 1, 0, 1, 3, 4), 0.007494981898392379),\n",
       " ((1, 0, 0, 1, 0, 1, 3, 4), 0.008055964573092564),\n",
       " ((1, 0, 1, 0, 1, 2, 3, 4), 0.009701057006309955),\n",
       " ((1, 0, 0, 1, 1, 2, 3, 4), 0.01035597492809499),\n",
       " ((0, 1, 1, 0, 1, 2, 3, 4), 0.010901685783168634),\n",
       " ((1, 0, 1, 0, 0, 2, 3, 4), 0.011071809599010465),\n",
       " ((1, 1, 0, 1, 0, 3, 4, 5), 0.011541772836743153),\n",
       " ((0, 1, 0, 1, 2, 3, 4, 5), 0.011642491386921217),\n",
       " ((0, 1, 0, 1, 1, 3, 4, 5), 0.011686889595726448),\n",
       " ((1, 1, 0, 1, 1, 3, 4, 5), 0.011725572843184623),\n",
       " ((0, 1, 0, 1, 1, 2, 3, 4), 0.01176863930514481),\n",
       " ((1, 1, 0, 1, 2, 3, 4, 5), 0.011769971051989856),\n",
       " ((0, 1, 0, 1, 0, 3, 4, 5), 0.011870689602167922),\n",
       " ((1, 0, 0, 1, 0, 2, 3, 4), 0.011967259185317469),\n",
       " ((0, 1, 1, 0, 0, 2, 3, 4), 0.012634194284820113),\n",
       " ((0, 1, 0, 1, 0, 2, 3, 4), 0.012818940887667102),\n",
       " ((0, 1, 0, 1, 0, 1, 4, 5), 0.01299096570450518),\n",
       " ((0, 1, 1, 0, 0, 1, 4, 5), 0.013059492586127541),\n",
       " ((1, 0, 0, 1, 0, 1, 4, 5), 0.013370610396939752),\n",
       " ((1, 0, 1, 0, 0, 1, 4, 5), 0.01474089962272868),\n",
       " ((0, 1, 1, 0, 0, 1, 3, 5), 0.015375955124072221),\n",
       " ((0, 1, 0, 1, 0, 1, 3, 5), 0.015398408992247746),\n",
       " ((0, 0, 1, 0, 2, 3, 4, 5), 0.015818423064085655),\n",
       " ((1, 0, 0, 1, 0, 1, 3, 5), 0.01623311849279445),\n",
       " ((1, 0, 1, 0, 0, 1, 3, 5), 0.016589688385134332),\n",
       " ((0, 0, 1, 0, 0, 3, 4, 5), 0.016622383987607778),\n",
       " ((0, 0, 1, 0, 1, 3, 4, 5), 0.016912101860637307),\n",
       " ((1, 0, 1, 0, 1, 3, 4, 5), 0.01703071046430349),\n",
       " ((1, 0, 1, 0, 0, 3, 4, 5), 0.017320428337333018),\n",
       " ((1, 0, 1, 0, 2, 3, 4, 5), 0.01812438926085514),\n",
       " ((1, 0, 0, 1, 1, 2, 4, 5), 0.018264772667624492),\n",
       " ((1, 0, 1, 0, 1, 2, 4, 5), 0.018743994282662532),\n",
       " ((0, 1, 0, 1, 1, 2, 4, 5), 0.02051835288819115),\n",
       " ((1, 0, 0, 1, 0, 2, 4, 5), 0.020801073447362352),\n",
       " ((1, 0, 1, 0, 1, 2, 3, 5), 0.021435489536448006),\n",
       " ((1, 0, 0, 1, 1, 2, 3, 5), 0.021611185843195005),\n",
       " ((1, 0, 1, 0, 0, 2, 4, 5), 0.021846911346156704),\n",
       " ((0, 1, 1, 0, 1, 2, 4, 5), 0.022489351283007296),\n",
       " ((0, 1, 0, 1, 0, 2, 4, 5), 0.022675008975494435),\n",
       " ((0, 0, 1, 1, 2, 3, 4, 5), 0.023065014973285947),\n",
       " ((0, 0, 1, 1, 0, 3, 4, 5), 0.023112735752113457),\n",
       " ((0, 0, 1, 1, 1, 3, 4, 5), 0.023384000553784114),\n",
       " ((0, 1, 1, 0, 0, 2, 4, 5), 0.023910861309900333),\n",
       " ((0, 1, 0, 1, 1, 2, 3, 5), 0.024139353435454595),\n",
       " ((1, 0, 1, 1, 1, 3, 4, 5), 0.024161188603839506),\n",
       " ((1, 0, 1, 1, 0, 3, 4, 5), 0.02443245340551016),\n",
       " ((1, 0, 1, 1, 2, 3, 4, 5), 0.02448017418433767),\n",
       " ((1, 0, 0, 1, 0, 2, 3, 5), 0.024624087444875667),\n",
       " ((1, 0, 1, 0, 0, 2, 3, 5), 0.024774475757363017),\n",
       " ((0, 1, 1, 0, 1, 2, 3, 5), 0.025243398308294567),\n",
       " ((0, 1, 0, 0, 2, 3, 4, 5), 0.02535764468705211),\n",
       " ((0, 0, 1, 0, 0, 2, 3, 4), 0.02592832647496286),\n",
       " ((0, 1, 0, 1, 0, 2, 3, 5), 0.02631754553658856),\n",
       " ((0, 1, 0, 0, 1, 3, 4, 5), 0.026513875255105557),\n",
       " ((1, 1, 0, 0, 0, 3, 4, 5), 0.02665406559741281),\n",
       " ((0, 1, 0, 0, 0, 3, 4, 5), 0.026691831157615056),\n",
       " ((1, 1, 0, 0, 1, 3, 4, 5), 0.02683202149992231),\n",
       " ((0, 0, 0, 1, 0, 2, 3, 4), 0.02691617885205413),\n",
       " ((1, 1, 1, 0, 0, 2, 3, 4), 0.027124028835145496),\n",
       " ((0, 0, 1, 0, 1, 2, 3, 4), 0.02729907906766337),\n",
       " ((0, 1, 1, 0, 0, 2, 3, 5), 0.027368651268147463),\n",
       " ((0, 1, 0, 1, 0, 1, 2, 3), 0.027598318608497083),\n",
       " ((0, 1, 0, 1, 0, 1, 2, 4), 0.027717945154067655),\n",
       " ((0, 1, 0, 0, 0, 1, 2, 5), 0.02785936857045066),\n",
       " ((0, 1, 0, 1, 0, 1, 2, 5), 0.027962411445864685),\n",
       " ((1, 1, 0, 0, 2, 3, 4, 5), 0.02798825206797576),\n",
       " ((0, 1, 0, 0, 0, 1, 2, 4), 0.028103834862247688),\n",
       " ((0, 1, 0, 0, 0, 1, 2, 3), 0.028223461407818264),\n",
       " ((0, 0, 0, 1, 1, 2, 3, 4), 0.02852746310927661),\n",
       " ((1, 1, 1, 0, 1, 2, 3, 4), 0.028856537336796977),\n",
       " ((1, 1, 0, 1, 0, 2, 3, 4), 0.02978562255752571),\n",
       " ((1, 1, 0, 1, 1, 2, 3, 4), 0.030835924140048),\n",
       " ((1, 1, 1, 0, 0, 1, 3, 4), 0.03115359319451244),\n",
       " ((0, 0, 1, 0, 0, 1, 3, 4), 0.031158519611188484),\n",
       " ((0, 0, 0, 1, 0, 1, 3, 4), 0.032240137841328856),\n",
       " ((1, 1, 0, 1, 0, 1, 3, 4), 0.033696917169750616),\n",
       " ((0, 0, 0, 1, 0, 2, 4, 5), 0.04667473162331154),\n",
       " ((0, 0, 1, 0, 0, 2, 4, 5), 0.048574710866851965),\n",
       " ((0, 0, 0, 1, 1, 2, 4, 5), 0.04921103240304939),\n",
       " ((1, 1, 0, 1, 0, 2, 4, 5), 0.05035410868497472),\n",
       " ((0, 0, 1, 0, 1, 2, 4, 5), 0.05167762793034614),\n",
       " ((1, 0, 0, 0, 0, 1, 2, 4), 0.051806529500028446),\n",
       " ((1, 0, 0, 1, 0, 1, 2, 3), 0.05182739326014564),\n",
       " ((1, 0, 0, 1, 0, 1, 2, 5), 0.0518654014782789),\n",
       " ((1, 0, 0, 0, 0, 1, 2, 5), 0.05212867949198773),\n",
       " ((1, 0, 0, 0, 0, 1, 2, 3), 0.05216668771012099),\n",
       " ((1, 0, 0, 1, 0, 1, 2, 4), 0.05218755147023818),\n",
       " ((1, 1, 0, 1, 1, 2, 4, 5), 0.052510764772278),\n",
       " ((0, 0, 0, 1, 0, 2, 3, 5), 0.05427424121216295),\n",
       " ((1, 1, 1, 0, 0, 2, 4, 5), 0.05433460908771938),\n",
       " ((0, 1, 1, 0, 2, 3, 4, 5), 0.05460319914892301),\n",
       " ((0, 0, 1, 0, 0, 2, 3, 5), 0.05518636807861211),\n",
       " ((1, 1, 1, 0, 1, 2, 4, 5), 0.05575611911461242),\n",
       " ((0, 0, 0, 1, 2, 3, 4, 5), 0.055833313683752675),\n",
       " ((0, 1, 1, 0, 0, 3, 4, 5), 0.05586318818914452),\n",
       " ((0, 0, 0, 1, 0, 1, 4, 5), 0.05635877489430079),\n",
       " ((0, 1, 1, 0, 1, 3, 4, 5), 0.05725487735271612),\n",
       " ((0, 0, 0, 1, 1, 2, 3, 5), 0.05728714281384362),\n",
       " ((1, 1, 1, 0, 1, 3, 4, 5), 0.05746940293297146),\n",
       " ((0, 0, 0, 1, 0, 3, 4, 5), 0.05747905099663804),\n",
       " ((1, 1, 0, 1, 0, 1, 4, 5), 0.05778457173539731),\n",
       " ((0, 0, 0, 1, 1, 3, 4, 5), 0.0580424956955141),\n",
       " ((0, 0, 1, 0, 1, 2, 3, 5), 0.05852535429952712),\n",
       " ((1, 1, 1, 0, 0, 3, 4, 5), 0.05886109209654307),\n",
       " ((1, 0, 0, 1, 1, 3, 4, 5), 0.059049964596717866),\n",
       " ((1, 1, 0, 1, 0, 2, 3, 5), 0.05942177525622841),\n",
       " ((0, 0, 1, 0, 0, 1, 4, 5), 0.05942607959062476),\n",
       " ((1, 0, 0, 1, 0, 3, 4, 5), 0.05961340929559392),\n",
       " ((1, 1, 1, 0, 2, 3, 4, 5), 0.06012108113676457),\n",
       " ((1, 1, 1, 0, 0, 2, 3, 5), 0.060740681936592864),\n",
       " ((1, 0, 0, 1, 2, 3, 4, 5), 0.061259146608479295),\n",
       " ((1, 1, 1, 0, 0, 1, 4, 5), 0.0614406208111474),\n",
       " ((1, 1, 0, 1, 1, 2, 3, 5), 0.06159996735736237),\n",
       " ((1, 1, 1, 0, 1, 2, 3, 5), 0.06286593489644576),\n",
       " ((0, 0, 0, 1, 0, 1, 3, 5), 0.06519337775650376),\n",
       " ((0, 0, 1, 0, 0, 1, 3, 5), 0.06717906422268735),\n",
       " ((1, 1, 0, 1, 0, 1, 3, 5), 0.06781274420830963),\n",
       " ((1, 1, 1, 0, 0, 1, 3, 5), 0.06892546930882154),\n",
       " ((1, 0, 1, 0, 0, 1, 2, 4), 0.0713262135768431),\n",
       " ((1, 0, 1, 1, 0, 1, 2, 5), 0.07140195643599787),\n",
       " ((1, 0, 1, 1, 0, 1, 2, 3), 0.071796534546471),\n",
       " ((1, 0, 1, 0, 0, 1, 2, 3), 0.0719797747001996),\n",
       " ((1, 0, 1, 0, 0, 1, 2, 5), 0.07237435281067275),\n",
       " ((1, 0, 1, 1, 0, 1, 2, 4), 0.0724500956698275),\n",
       " ((0, 1, 1, 1, 0, 1, 2, 5), 0.08428594442962531),\n",
       " ((0, 1, 1, 1, 0, 1, 2, 4), 0.0845989376030447),\n",
       " ((0, 1, 1, 1, 0, 1, 2, 3), 0.08462758339881739),\n",
       " ((0, 1, 1, 0, 0, 1, 2, 3), 0.08529756483696067),\n",
       " ((0, 1, 1, 0, 0, 1, 2, 4), 0.08532621063273337),\n",
       " ((0, 1, 1, 0, 0, 1, 2, 5), 0.08563920380615277),\n",
       " ((0, 1, 1, 1, 0, 1, 3, 5), 0.09684994688324225),\n",
       " ((0, 1, 0, 0, 0, 1, 3, 5), 0.0981226172525312),\n",
       " ((0, 1, 1, 1, 0, 1, 4, 5), 0.09925739017098481),\n",
       " ((0, 1, 0, 0, 0, 1, 4, 5), 0.10043907979047588),\n",
       " ((0, 1, 1, 1, 0, 1, 3, 4), 0.10482190085871998),\n",
       " ((0, 1, 0, 0, 0, 1, 3, 4), 0.10602604434638656),\n",
       " ((1, 0, 1, 1, 0, 1, 3, 5), 0.10703423942148231),\n",
       " ((1, 0, 0, 0, 0, 1, 3, 5), 0.10791334391752615),\n",
       " ((1, 0, 0, 0, 0, 1, 4, 5), 0.10976213267993179),\n",
       " ((1, 0, 1, 1, 0, 1, 4, 5), 0.10989674751733701),\n",
       " ((0, 0, 1, 1, 0, 1, 2, 5), 0.11392533538847482),\n",
       " ((0, 0, 1, 1, 0, 1, 2, 3), 0.11463480215084165),\n",
       " ((0, 0, 1, 0, 0, 1, 2, 4), 0.11476946930896922),\n",
       " ((0, 0, 1, 1, 0, 1, 2, 4), 0.11484819454946132),\n",
       " ((0, 0, 1, 0, 0, 1, 2, 3), 0.1149828617075889),\n",
       " ((0, 0, 1, 0, 0, 1, 2, 5), 0.11569232846995572),\n",
       " ((1, 0, 0, 0, 0, 1, 3, 4), 0.11609049783722802),\n",
       " ((1, 0, 1, 1, 0, 1, 3, 4), 0.11658168256697313),\n",
       " ((1, 1, 0, 1, 0, 1, 2, 5), 0.13239519558871382),\n",
       " ((1, 1, 0, 1, 0, 1, 2, 3), 0.13258359211933443),\n",
       " ((1, 1, 0, 0, 0, 1, 2, 4), 0.13284718956550148),\n",
       " ((1, 1, 0, 1, 0, 1, 2, 4), 0.1331188834955489),\n",
       " ((1, 1, 0, 0, 0, 1, 2, 3), 0.13338248094171595),\n",
       " ((1, 1, 0, 0, 0, 1, 2, 5), 0.13357087747233656),\n",
       " ((1, 0, 1, 1, 1, 2, 3, 5), 0.1387464211913835),\n",
       " ((1, 0, 0, 0, 1, 2, 3, 5), 0.1399947565063392),\n",
       " ((1, 0, 1, 1, 1, 2, 4, 5), 0.14209283436695402),\n",
       " ((1, 0, 0, 0, 1, 2, 4, 5), 0.14268625176012467),\n",
       " ((1, 0, 1, 1, 1, 2, 3, 4), 0.15048085372152156),\n",
       " ((1, 0, 0, 0, 1, 2, 3, 4), 0.15124996742143923),\n",
       " ((1, 0, 1, 1, 0, 2, 3, 5), 0.15963650962211706),\n",
       " ((1, 0, 0, 0, 0, 2, 3, 5), 0.16092508120696125),\n",
       " ((0, 1, 1, 1, 1, 2, 3, 5), 0.1611879383890181),\n",
       " ((0, 1, 0, 0, 1, 2, 3, 5), 0.1628232829723339),\n",
       " ((1, 0, 1, 1, 0, 2, 4, 5), 0.16345952361963037),\n",
       " ((1, 0, 0, 0, 0, 2, 4, 5), 0.16385264561816756),\n",
       " ((0, 1, 1, 1, 1, 2, 4, 5), 0.16480893893628154),\n",
       " ((0, 1, 0, 0, 1, 2, 4, 5), 0.16557732999762118),\n",
       " ((0, 1, 1, 1, 0, 2, 3, 5), 0.17189373428151156),\n",
       " ((1, 0, 1, 1, 0, 2, 3, 4), 0.17333917578046962),\n",
       " ((1, 0, 0, 0, 0, 2, 3, 4), 0.17358190946651947),\n",
       " ((0, 1, 0, 0, 0, 2, 3, 5), 0.173962881007961),\n",
       " ((0, 1, 0, 0, 1, 2, 3, 4), 0.1751939971026437),\n",
       " ((0, 1, 1, 1, 1, 2, 3, 4), 0.17552965091414402),\n",
       " ((0, 1, 1, 1, 0, 2, 4, 5), 0.1755362708426057),\n",
       " ((0, 1, 0, 0, 0, 2, 4, 5), 0.17742067096620814),\n",
       " ((0, 1, 1, 1, 0, 2, 3, 4), 0.18662819126483893),\n",
       " ((0, 1, 0, 0, 0, 2, 3, 4), 0.18746148565688248),\n",
       " ((0, 0, 1, 1, 0, 2, 3, 5), 0.3592698206071316),\n",
       " ((0, 0, 0, 0, 0, 2, 3, 5), 0.3626292960906864),\n",
       " ((0, 0, 1, 1, 0, 2, 4, 5), 0.36686933019598295),\n",
       " ((0, 0, 0, 0, 0, 2, 4, 5), 0.3692409533024465),\n",
       " ((1, 1, 1, 1, 0, 1, 2, 5), 0.37919405722968286),\n",
       " ((1, 1, 1, 1, 0, 1, 2, 3), 0.38011838579957413),\n",
       " ((0, 0, 1, 1, 1, 2, 3, 5), 0.38015990903786506),\n",
       " ((1, 1, 1, 0, 0, 1, 2, 4), 0.38133111350857457),\n",
       " ((1, 1, 1, 1, 0, 1, 2, 4), 0.38212641839859784),\n",
       " ((1, 1, 1, 0, 0, 1, 2, 3), 0.3833391461075983),\n",
       " ((0, 0, 0, 0, 1, 2, 3, 5), 0.38355962079130845),\n",
       " ((1, 1, 1, 0, 0, 1, 2, 5), 0.38426347467748956),\n",
       " ((0, 0, 0, 1, 0, 1, 2, 5), 0.3855816503734298),\n",
       " ((0, 0, 0, 1, 0, 1, 2, 3), 0.3868578700772466),\n",
       " ((0, 0, 0, 1, 0, 1, 2, 4), 0.3877260959087673),\n",
       " ((0, 0, 0, 0, 0, 1, 2, 4), 0.3878118500635104),\n",
       " ((0, 0, 1, 1, 1, 2, 4, 5), 0.38823601944865926),\n",
       " ((0, 0, 1, 1, 0, 2, 3, 4), 0.3885278622107808),\n",
       " ((0, 0, 0, 0, 0, 1, 2, 3), 0.38868007589503106),\n",
       " ((0, 0, 0, 0, 0, 1, 2, 5), 0.3899562955988478),\n",
       " ((0, 0, 0, 0, 0, 2, 3, 4), 0.3899873584507952),\n",
       " ((0, 0, 0, 0, 1, 2, 4, 5), 0.3904073471604894),\n",
       " ((1, 1, 1, 1, 0, 2, 3, 5), 0.3911742384094523),\n",
       " ((1, 1, 0, 0, 0, 2, 3, 5), 0.39589714555156946),\n",
       " ((1, 1, 1, 1, 0, 2, 4, 5), 0.400241904980706),\n",
       " ((1, 1, 1, 1, 1, 2, 3, 5), 0.4018800343019458),\n",
       " ((1, 1, 0, 0, 0, 2, 4, 5), 0.402303218400443),\n",
       " ((1, 1, 0, 0, 1, 2, 3, 5), 0.40703674358719655),\n",
       " ((1, 1, 1, 1, 1, 2, 4, 5), 0.41096923688703013),\n",
       " ((0, 0, 1, 1, 1, 2, 3, 4), 0.4113861842697288),\n",
       " ((0, 0, 0, 0, 1, 2, 3, 4), 0.41231930049587545),\n",
       " ((1, 1, 0, 0, 1, 2, 4, 5), 0.41414655936902994),\n",
       " ((1, 1, 1, 1, 0, 2, 3, 4), 0.42479089151089966),\n",
       " ((1, 1, 0, 0, 0, 2, 3, 4), 0.4255332982502722),\n",
       " ((0, 0, 1, 1, 0, 1, 3, 5), 0.43431360800540086),\n",
       " ((1, 1, 1, 1, 1, 2, 3, 4), 0.43588943186159457),\n",
       " ((1, 1, 0, 0, 1, 2, 3, 4), 0.43780078680451096),\n",
       " ((0, 0, 0, 0, 0, 1, 3, 5), 0.4384695598461162),\n",
       " ((0, 0, 1, 1, 0, 1, 4, 5), 0.4431482108676038),\n",
       " ((1, 1, 1, 1, 0, 1, 3, 5), 0.44377650861008705),\n",
       " ((0, 0, 0, 0, 0, 1, 4, 5), 0.4462225444781788),\n",
       " ((1, 1, 0, 0, 0, 1, 3, 5), 0.44890888284100455),\n",
       " ((1, 1, 1, 1, 0, 1, 4, 5), 0.4538046810829994),\n",
       " ((1, 1, 0, 0, 0, 1, 4, 5), 0.4563937313386788),\n",
       " ((0, 0, 1, 1, 0, 1, 3, 4), 0.4703341526168997),\n",
       " ((0, 0, 0, 0, 0, 1, 3, 4), 0.4714227997612911),\n",
       " ((1, 1, 1, 1, 0, 1, 3, 4), 0.48154838472439615),\n",
       " ((1, 1, 0, 0, 0, 1, 3, 4), 0.48302470987956364),\n",
       " ((0, 1, 1, 1, 2, 3, 4, 5), 0.5072638388423274),\n",
       " ((0, 0, 0, 0, 2, 3, 4, 5), 0.507735954233562),\n",
       " ((0, 1, 1, 1, 0, 3, 4, 5), 0.5192928652864752),\n",
       " ((0, 0, 0, 0, 0, 3, 4, 5), 0.5199697931110396),\n",
       " ((1, 1, 1, 1, 1, 3, 4, 5), 0.5289008826501447),\n",
       " ((0, 0, 0, 0, 1, 3, 4, 5), 0.529470801903005),\n",
       " ((0, 1, 1, 1, 1, 3, 4, 5), 0.5296609578311567),\n",
       " ((1, 0, 0, 0, 1, 3, 4, 5), 0.5300007896292322),\n",
       " ((1, 1, 1, 1, 0, 3, 4, 5), 0.5392689751948262),\n",
       " ((1, 0, 0, 0, 0, 3, 4, 5), 0.5395017984211977),\n",
       " ((1, 1, 1, 1, 2, 3, 4, 5), 0.551298001638974),\n",
       " ((1, 0, 0, 0, 2, 3, 4, 5), 0.5517356372986754)]"
      ]
     },
     "execution_count": 99,
     "metadata": {},
     "output_type": "execute_result"
    }
   ],
   "source": [
    "get_singular_group_sum(GHZ_GHZ, k=4)"
   ]
  },
  {
   "cell_type": "code",
   "execution_count": 111,
   "id": "3b4b2e2c-6ccb-43b1-a599-0df44f96de58",
   "metadata": {},
   "outputs": [],
   "source": [
    "w, f = tl.decomposition.parafac(GHZ_GHZ, rank=1)"
   ]
  },
  {
   "cell_type": "code",
   "execution_count": 113,
   "id": "6a7a2a48-f098-4714-92a9-81bf24a0c1af",
   "metadata": {},
   "outputs": [
    {
     "data": {
      "text/plain": [
       "[array([[-1.48610242e-04],\n",
       "        [ 3.30846251e-01]]),\n",
       " array([[ 7.68853047e-05],\n",
       "        [-1.00687521e+00]]),\n",
       " array([[ 1.04239053e-03],\n",
       "        [-1.05027530e+00]]),\n",
       " array([[-1.00128708e+00],\n",
       "        [-2.17863485e-04]]),\n",
       " array([[-1.00036032e+00],\n",
       "        [-2.29808014e-04]]),\n",
       " array([[ 1.00587317e+00],\n",
       "        [-9.30003565e-04]])]"
      ]
     },
     "execution_count": 113,
     "metadata": {},
     "output_type": "execute_result"
    }
   ],
   "source": [
    "f"
   ]
  },
  {
   "cell_type": "code",
   "execution_count": null,
   "id": "0e4e3f3f-f951-400a-9aa5-a0106735f47d",
   "metadata": {},
   "outputs": [],
   "source": []
  }
 ],
 "metadata": {
  "kernelspec": {
   "display_name": "qiskit",
   "language": "python",
   "name": "qiskit"
  },
  "language_info": {
   "codemirror_mode": {
    "name": "ipython",
    "version": 3
   },
   "file_extension": ".py",
   "mimetype": "text/x-python",
   "name": "python",
   "nbconvert_exporter": "python",
   "pygments_lexer": "ipython3",
   "version": "3.9.7"
  }
 },
 "nbformat": 4,
 "nbformat_minor": 5
}
