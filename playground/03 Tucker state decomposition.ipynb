{
 "cells": [
  {
   "cell_type": "code",
   "execution_count": 1,
   "id": "7e33f39f-ad24-46b3-89be-e9d1775ccee3",
   "metadata": {},
   "outputs": [],
   "source": [
    "import tensorly as tl\n",
    "from tensorly import decomposition\n",
    "import numpy as np\n",
    "np.set_printoptions(formatter={'float': lambda x: \"{0:0.4f}\".format(x)})"
   ]
  },
  {
   "cell_type": "markdown",
   "id": "6a575b69-32d6-451b-a190-1df2105c7b9d",
   "metadata": {},
   "source": [
    "# Let us use Tucker decomposition to observe unentangled qubits\n",
    "\n",
    "NB with method only detects single qubits, not their groups!\n",
    "\n",
    "We will reshape a 4-qubit state into a tensor $\\mathbb{R}^{\\{0,1\\}^4}$."
   ]
  },
  {
   "cell_type": "code",
   "execution_count": 2,
   "id": "c0cffdef-a68c-4dad-8a6e-a69331f75192",
   "metadata": {},
   "outputs": [
    {
     "name": "stdout",
     "output_type": "stream",
     "text": [
      "[0.0000 0.1291 0.3872 0.0065 0.0000 0.2582 0.7745 0.0000 0.0000 0.1291\n",
      " 0.1291 0.0065 0.0000 0.2582 0.2582 -0.0129]\n",
      "<class 'numpy.ndarray'> (2, 2, 2, 2)\n"
     ]
    }
   ],
   "source": [
    "state = np.array([0, 1, 3, 0.05, 0, 2, 6, 0, 0, 1, 1, 0.05, 0, 2, 2, -0.1])\n",
    "# normalize the vector to a valid quantum state \n",
    "state = state / sum((state ** 2)) ** .5\n",
    "print(state)\n",
    "tensor = state.reshape(2, 2, 2, 2)\n",
    "print(type(tensor), tensor.shape)"
   ]
  },
  {
   "cell_type": "markdown",
   "id": "2cbe4d94-a4c4-42e6-b191-283f5e7ba156",
   "metadata": {},
   "source": [
    "This tensor is then resorganized in a Tucker format -- a core tensor, and the matrices, corresponding to each of the modes. As soon as our tensor has the biggest rank of 2 for each mode (qubit), for the rank `(2, 2, 2, 2)` we can reconstruct in back from the Tucker format with no loss."
   ]
  },
  {
   "cell_type": "code",
   "execution_count": 3,
   "id": "00b072b9-0aaf-49d6-835e-38d200b6b343",
   "metadata": {},
   "outputs": [],
   "source": [
    "# the lossless decomposition\n",
    "t_core, t_matrices = tl.decomposition.tucker(tensor, rank=(2, 2, 2, 2))"
   ]
  },
  {
   "cell_type": "code",
   "execution_count": 4,
   "id": "b659351a-a944-4c6d-b252-39d963e32115",
   "metadata": {},
   "outputs": [
    {
     "data": {
      "text/plain": [
       "(2, 2, 2, 2)"
      ]
     },
     "execution_count": 4,
     "metadata": {},
     "output_type": "execute_result"
    }
   ],
   "source": [
    "t_core.shape"
   ]
  },
  {
   "cell_type": "code",
   "execution_count": 5,
   "id": "97b0a281-a61e-4916-bbb7-bf2c0bff3f7a",
   "metadata": {},
   "outputs": [
    {
     "name": "stdout",
     "output_type": "stream",
     "text": [
      "(2, 2)\n",
      "(2, 2)\n",
      "(2, 2)\n",
      "(2, 2)\n"
     ]
    }
   ],
   "source": [
    "for m in t_matrices: print(m.shape)"
   ]
  },
  {
   "cell_type": "code",
   "execution_count": 6,
   "id": "4202f807-2418-4dcf-bcf0-1dd70f6db077",
   "metadata": {},
   "outputs": [
    {
     "data": {
      "text/plain": [
       "True"
      ]
     },
     "execution_count": 6,
     "metadata": {},
     "output_type": "execute_result"
    }
   ],
   "source": [
    "tensor_restored = tl.tucker_tensor.tucker_to_tensor((t_core, t_matrices))\n",
    "np.allclose(tensor, tensor_restored)"
   ]
  },
  {
   "cell_type": "markdown",
   "id": "ce1a1af0-a8e8-4d94-a976-b2f158e637e5",
   "metadata": {},
   "source": [
    "Let us explore some Tucker reduced forms:"
   ]
  },
  {
   "cell_type": "code",
   "execution_count": 7,
   "id": "c2121e37-b599-4daa-b590-25f2e5b35dda",
   "metadata": {},
   "outputs": [
    {
     "name": "stdout",
     "output_type": "stream",
     "text": [
      "Tucker Rank (1, 2, 2, 2)\n",
      "\tCore tensor shape (1, 2, 2, 2)\n",
      "\tMatrices shapes   (2, 1) (2, 2) (2, 2) (2, 2)\n",
      "\tReconstruction error 0.1695\n",
      "\n",
      "Tucker Rank (2, 1, 2, 2)\n",
      "\tCore tensor shape (2, 1, 2, 2)\n",
      "\tMatrices shapes   (2, 2) (2, 1) (2, 2) (2, 2)\n",
      "\tReconstruction error 0.0129\n",
      "\n",
      "Tucker Rank (2, 2, 1, 2)\n",
      "\tCore tensor shape (2, 2, 1, 2)\n",
      "\tMatrices shapes   (2, 2) (2, 2) (2, 1) (2, 2)\n",
      "\tReconstruction error 0.4082\n",
      "\n",
      "Tucker Rank (2, 2, 2, 1)\n",
      "\tCore tensor shape (2, 2, 2, 1)\n",
      "\tMatrices shapes   (2, 2) (2, 2) (2, 2) (2, 1)\n",
      "\tReconstruction error 0.4085\n",
      "\n",
      "Tucker Rank (1, 1, 2, 2)\n",
      "\tCore tensor shape (1, 1, 2, 2)\n",
      "\tMatrices shapes   (2, 1) (2, 1) (2, 2) (2, 2)\n",
      "\tReconstruction error 0.1698\n",
      "\n",
      "Tucker Rank (2, 2, 1, 1)\n",
      "\tCore tensor shape (2, 2, 1, 1)\n",
      "\tMatrices shapes   (2, 2) (2, 2) (2, 1) (2, 1)\n",
      "\tReconstruction error 0.4085\n",
      "\n",
      "Tucker Rank (2, 1, 2, 1)\n",
      "\tCore tensor shape (2, 1, 2, 1)\n",
      "\tMatrices shapes   (2, 2) (2, 1) (2, 2) (2, 1)\n",
      "\tReconstruction error 0.4085\n",
      "\n",
      "Tucker Rank (1, 2, 1, 2)\n",
      "\tCore tensor shape (1, 2, 1, 2)\n",
      "\tMatrices shapes   (2, 1) (2, 2) (2, 1) (2, 2)\n",
      "\tReconstruction error 0.4084\n",
      "\n",
      "Tucker Rank (2, 1, 1, 2)\n",
      "\tCore tensor shape (2, 1, 1, 2)\n",
      "\tMatrices shapes   (2, 2) (2, 1) (2, 1) (2, 2)\n",
      "\tReconstruction error 0.4084\n",
      "\n",
      "Tucker Rank (1, 2, 2, 1)\n",
      "\tCore tensor shape (1, 2, 2, 1)\n",
      "\tMatrices shapes   (2, 1) (2, 2) (2, 2) (2, 1)\n",
      "\tReconstruction error 0.4085\n",
      "\n"
     ]
    }
   ],
   "source": [
    "for rank in [(1, 2, 2, 2), (2, 1, 2, 2), (2, 2, 1, 2), (2, 2, 2, 1), \n",
    "             (1, 1, 2, 2), (2, 2, 1, 1), (2, 1, 2, 1), (1, 2, 1, 2), \n",
    "             (2, 1, 1, 2), (1, 2, 2, 1)]:\n",
    "    t_core, t_matrices = tl.decomposition.tucker(tensor, rank)\n",
    "    print(\"Tucker Rank\", rank)\n",
    "    print(\"\\tCore tensor shape\", t_core.shape)\n",
    "    print(\"\\tMatrices shapes  \", *[mx.shape for mx in t_matrices])\n",
    "    approx_tensor = tl.tucker_tensor.tucker_to_tensor((t_core, t_matrices))\n",
    "    error = np.linalg.norm((tensor - approx_tensor).flatten())\n",
    "    print(f\"\\tReconstruction error {error:.4f}\")\n",
    "    print()"
   ]
  },
  {
   "cell_type": "markdown",
   "id": "49b488d7-2eb8-437b-8681-c8b12f8ad44f",
   "metadata": {},
   "source": [
    "For ranks of 2 modes we observed lower reconstruction error. How can we utilize this for state initialization?"
   ]
  },
  {
   "cell_type": "code",
   "execution_count": 8,
   "id": "ee44b85d-c0ef-4f5d-8964-05f12625f842",
   "metadata": {},
   "outputs": [],
   "source": [
    "t_core, t_matrices = tl.decomposition.tucker(tensor, (1, 1, 2, 2))"
   ]
  },
  {
   "cell_type": "markdown",
   "id": "2073d1ed-9535-42e2-85c8-3bfd5d21e7ce",
   "metadata": {},
   "source": [
    "Restore the tensor by hands to check we understand the method correctly."
   ]
  },
  {
   "cell_type": "code",
   "execution_count": 9,
   "id": "190943f4-1d20-4629-be2a-119a4bd79f4c",
   "metadata": {},
   "outputs": [
    {
     "data": {
      "text/plain": [
       "array([[[[0.0000, 0.1558],\n",
       "         [0.3762, -0.0003]],\n",
       "\n",
       "        [[0.0000, 0.3116],\n",
       "         [0.7524, -0.0005]]],\n",
       "\n",
       "\n",
       "       [[[0.0000, 0.0645],\n",
       "         [0.1558, -0.0001]],\n",
       "\n",
       "        [[0.0000, 0.1291],\n",
       "         [0.3116, -0.0002]]]])"
      ]
     },
     "execution_count": 9,
     "metadata": {},
     "output_type": "execute_result"
    }
   ],
   "source": [
    "restored_tensor = t_core\n",
    "\n",
    "# along the mode 3 we keep the size\n",
    "restored_tensor = (t_matrices[3] @ restored_tensor.reshape(2, 2).T).T.reshape((1, 1, 2, 2))\n",
    "\n",
    "# along the mode 2 we keep the size\n",
    "restored_tensor = (t_matrices[2] @ restored_tensor.reshape(2, t_matrices[2].shape[1])).reshape((1, 1, 2, 2))\n",
    "\n",
    "# along the mode 1 we make size from 1 to 2\n",
    "restored_tensor = np.kron(t_matrices[1], restored_tensor.reshape(-1, t_matrices[1].shape[1])).reshape((1, 2, 2, 2))\n",
    "\n",
    "# along the mode 0 we make size from 1 to 2\n",
    "restored_tensor = np.kron(t_matrices[0], restored_tensor.reshape(-1, t_matrices[0].shape[1])).reshape((2, 2, 2, 2))\n",
    "restored_tensor"
   ]
  },
  {
   "cell_type": "code",
   "execution_count": 10,
   "id": "864d2048-427b-47c4-8cd4-f4f82f06b7e8",
   "metadata": {},
   "outputs": [
    {
     "data": {
      "text/plain": [
       "True"
      ]
     },
     "execution_count": 10,
     "metadata": {},
     "output_type": "execute_result"
    }
   ],
   "source": [
    "np.allclose(restored_tensor, tl.tucker_tensor.tucker_to_tensor((t_core, t_matrices)))"
   ]
  },
  {
   "cell_type": "markdown",
   "id": "e6362621-83c1-4d58-9103-ed66f8cdaa03",
   "metadata": {},
   "source": [
    "Let us do the same using tensor products instead of matrix"
   ]
  },
  {
   "cell_type": "code",
   "execution_count": 11,
   "id": "d6647e70-7bd5-40df-aacb-16b918f31da2",
   "metadata": {},
   "outputs": [
    {
     "data": {
      "text/plain": [
       "True"
      ]
     },
     "execution_count": 11,
     "metadata": {},
     "output_type": "execute_result"
    }
   ],
   "source": [
    "# along the mode 3 we keep the size\n",
    "d = (t_matrices[3] @ t_core.reshape(2, 2).T).T.reshape((1, 1, 2, 2))\n",
    "# along the mode 2 we keep the size\n",
    "cd = (t_matrices[2] @ d.reshape(2, 2)).reshape((1, 1, 2, 2))\n",
    "\n",
    "# un-entangled states\n",
    "a = np.array(t_matrices[0].reshape(2, 1))\n",
    "b = np.array(t_matrices[1].reshape(2, 1))\n",
    "\n",
    "final_state = np.kron(np.kron(a, b), cd)\n",
    "restored_tensor_2 = final_state.reshape((2, 2, 2, 2))\n",
    "np.allclose(restored_tensor_2, restored_tensor)"
   ]
  },
  {
   "cell_type": "markdown",
   "id": "eede948e-8b07-4b1e-a3a6-0ffe409aeb54",
   "metadata": {},
   "source": [
    "# Quantum part\n",
    "\n",
    "Let us put these values to the quantum circuit with initialize algorithm, and see that simulation produces the desired state."
   ]
  },
  {
   "cell_type": "code",
   "execution_count": 16,
   "id": "44a08063-b1a0-4fe8-b021-5f4afda66f4e",
   "metadata": {},
   "outputs": [],
   "source": [
    "from qiskit import QuantumCircuit, QuantumRegister, execute, BasicAer, quantum_info, transpile"
   ]
  },
  {
   "cell_type": "markdown",
   "id": "77ef1dc1-ff38-480b-96e9-d12d6e7725be",
   "metadata": {},
   "source": [
    "Add precision and convert the normalize states to valid quantum states"
   ]
  },
  {
   "cell_type": "code",
   "execution_count": 13,
   "id": "9917af2f-5c4e-47d3-bd5f-b02ec491fc80",
   "metadata": {},
   "outputs": [],
   "source": [
    "# increase precision\n",
    "a = a.astype(np.float64)\n",
    "b = b.astype(np.float64)\n",
    "cd = cd.astype(np.float64)\n",
    "\n",
    "# norm to quantum states\n",
    "a = a.reshape(-1) / sum(a.reshape(-1) ** 2) ** .5\n",
    "b = b.reshape(-1) / sum(b.reshape(-1) ** 2) ** .5\n",
    "cd = cd.reshape(-1) / sum(cd.reshape(-1) ** 2) ** .5"
   ]
  },
  {
   "cell_type": "code",
   "execution_count": 14,
   "id": "8cd1cee1-0ef3-4ac6-ba5a-7c58c51c4d96",
   "metadata": {},
   "outputs": [
    {
     "data": {
      "text/html": [
       "<pre style=\"word-wrap: normal;white-space: pre;background: #fff0;line-height: 1.1;font-family: &quot;Courier New&quot;,Courier,monospace\">         ┌────────────────────────────────────────────┐\n",
       "qbits_0: ┤0                                           ├\n",
       "         │  Initialize(0,-0.38268,-0.92388,0.0006567) │\n",
       "qbits_1: ┤1                                           ├\n",
       "         └──────┬─────────────────────────────┬───────┘\n",
       "qbits_2: ───────┤ Initialize(0.44721,0.89443) ├────────\n",
       "               ┌┴─────────────────────────────┴┐       \n",
       "qbits_3: ──────┤ Initialize(-0.92388,-0.38269) ├───────\n",
       "               └───────────────────────────────┘       </pre>"
      ],
      "text/plain": [
       "         ┌────────────────────────────────────────────┐\n",
       "qbits_0: ┤0                                           ├\n",
       "         │  Initialize(0,-0.38268,-0.92388,0.0006567) │\n",
       "qbits_1: ┤1                                           ├\n",
       "         └──────┬─────────────────────────────┬───────┘\n",
       "qbits_2: ───────┤ Initialize(0.44721,0.89443) ├────────\n",
       "               ┌┴─────────────────────────────┴┐       \n",
       "qbits_3: ──────┤ Initialize(-0.92388,-0.38269) ├───────\n",
       "               └───────────────────────────────┘       "
      ]
     },
     "execution_count": 14,
     "metadata": {},
     "output_type": "execute_result"
    }
   ],
   "source": [
    "qr = QuantumRegister(4, \"qbits\")\n",
    "qc = QuantumCircuit(qr)\n",
    "\n",
    "qc.initialize(a, qubits=[3])\n",
    "qc.initialize(b, qubits=[2])\n",
    "qc.initialize(cd, qubits=[0, 1])\n",
    "qc.draw()"
   ]
  },
  {
   "cell_type": "code",
   "execution_count": 19,
   "id": "721cc3cc-c5c3-4562-9cbe-bdeae86e9d62",
   "metadata": {},
   "outputs": [
    {
     "name": "stdout",
     "output_type": "stream",
     "text": [
      "[0.0000 0.1581 0.3817 -0.0003 0.0000 0.3162 0.7634 -0.0005 0.0000 0.0655\n",
      " 0.1581 -0.0001 0.0000 0.1310 0.3162 -0.0002]\n",
      "Finally, the fidelity of the prapared state is 0.97116\n",
      "CNOT count: 2\n"
     ]
    }
   ],
   "source": [
    "backend = BasicAer.get_backend(\"statevector_simulator\")\n",
    "qc = transpile(qc, backend)\n",
    "job = execute(qc, backend=backend)\n",
    "statevector = job.result().get_statevector().real\n",
    "print(statevector)\n",
    "print(f\"Finally, the fidelity of the prapared state is {quantum_info.state_fidelity(statevector, state):.5f}\") \n",
    "print(f\"CNOT count: {qc.count_ops()['cx']}\")"
   ]
  },
  {
   "cell_type": "code",
   "execution_count": 20,
   "id": "03d8461a-954d-4a87-a7ec-0d72acb5c30e",
   "metadata": {},
   "outputs": [
    {
     "name": "stdout",
     "output_type": "stream",
     "text": [
      "[0.0000 0.1291 0.3872 0.0065 0.0000 0.2582 0.7745 0.0000 0.0000 0.1291\n",
      " 0.1291 0.0065 0.0000 0.2582 0.2582 -0.0129]\n",
      "Finally, the fidelity of the prapared state is 1.00000\n",
      "CNOT count: 22\n"
     ]
    }
   ],
   "source": [
    "qr0 = QuantumRegister(4, \"qbits\")\n",
    "qc0 = QuantumCircuit(qr)\n",
    "\n",
    "qc0.initialize(state, qubits=range(4))\n",
    "qc0.draw()\n",
    "qc0 = transpile(qc0, backend)\n",
    "job0 = execute(qc0, backend=backend)\n",
    "statevector0 = job0.result().get_statevector().real\n",
    "print(statevector0)\n",
    "print(f\"Finally, the fidelity of the prapared state is {quantum_info.state_fidelity(statevector0, state):.5f}\") \n",
    "print(f\"CNOT count: {qc0.count_ops()['cx']}\")"
   ]
  }
 ],
 "metadata": {
  "kernelspec": {
   "display_name": "qiskit",
   "language": "python",
   "name": "qiskit"
  },
  "language_info": {
   "codemirror_mode": {
    "name": "ipython",
    "version": 3
   },
   "file_extension": ".py",
   "mimetype": "text/x-python",
   "name": "python",
   "nbconvert_exporter": "python",
   "pygments_lexer": "ipython3",
   "version": "3.9.7"
  }
 },
 "nbformat": 4,
 "nbformat_minor": 5
}
