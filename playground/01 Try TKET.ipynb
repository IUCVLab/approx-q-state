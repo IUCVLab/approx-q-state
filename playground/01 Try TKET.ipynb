{
 "cells": [
  {
   "cell_type": "code",
   "execution_count": 1,
   "id": "6071738b-a67e-4cbb-b07b-d95abf921cba",
   "metadata": {
    "collapsed": true,
    "jupyter": {
     "outputs_hidden": true
    },
    "tags": []
   },
   "outputs": [
    {
     "name": "stdout",
     "output_type": "stream",
     "text": [
      "Collecting pytket\n",
      "  Downloading pytket-1.1.0-cp39-cp39-macosx_10_14_x86_64.whl (8.9 MB)\n",
      "\u001b[K     |████████████████████████████████| 8.9 MB 949 kB/s eta 0:00:01\n",
      "\u001b[?25hCollecting jinja2~=3.0\n",
      "  Downloading Jinja2-3.1.1-py3-none-any.whl (132 kB)\n",
      "\u001b[K     |████████████████████████████████| 132 kB 20.0 MB/s eta 0:00:01\n",
      "\u001b[?25hRequirement already satisfied: networkx~=2.4 in /Users/sprotasov/opt/anaconda3/lib/python3.9/site-packages (from pytket) (2.6.3)\n",
      "Collecting lark-parser~=0.7\n",
      "  Downloading lark_parser-0.12.0-py2.py3-none-any.whl (103 kB)\n",
      "\u001b[K     |████████████████████████████████| 103 kB 23.3 MB/s eta 0:00:01\n",
      "\u001b[?25hCollecting numpy<2.0,>=1.21.4\n",
      "  Using cached numpy-1.22.3-cp39-cp39-macosx_10_14_x86_64.whl (17.6 MB)\n",
      "Collecting types-pkg-resources\n",
      "  Downloading types_pkg_resources-0.1.3-py2.py3-none-any.whl (4.8 kB)\n",
      "Collecting typing-extensions~=3.7\n",
      "  Downloading typing_extensions-3.10.0.2-py3-none-any.whl (26 kB)\n",
      "Collecting graphviz~=0.14\n",
      "  Downloading graphviz-0.20-py3-none-any.whl (46 kB)\n",
      "\u001b[K     |████████████████████████████████| 46 kB 17.6 MB/s eta 0:00:01\n",
      "\u001b[?25hCollecting scipy<2.0,>=1.7.2\n",
      "  Using cached scipy-1.8.0-cp39-cp39-macosx_12_0_universal2.macosx_10_9_x86_64.whl (55.6 MB)\n",
      "Requirement already satisfied: sympy~=1.6 in /Users/sprotasov/opt/anaconda3/lib/python3.9/site-packages (from pytket) (1.9)\n",
      "Collecting MarkupSafe>=2.0\n",
      "  Downloading MarkupSafe-2.1.1-cp39-cp39-macosx_10_9_x86_64.whl (13 kB)\n",
      "Requirement already satisfied: mpmath>=0.19 in /Users/sprotasov/opt/anaconda3/lib/python3.9/site-packages (from sympy~=1.6->pytket) (1.2.1)\n",
      "Installing collected packages: numpy, MarkupSafe, typing-extensions, types-pkg-resources, scipy, lark-parser, jinja2, graphviz, pytket\n",
      "  Attempting uninstall: numpy\n",
      "    Found existing installation: numpy 1.20.3\n",
      "    Uninstalling numpy-1.20.3:\n",
      "      Successfully uninstalled numpy-1.20.3\n",
      "  Attempting uninstall: MarkupSafe\n",
      "    Found existing installation: MarkupSafe 1.1.1\n",
      "    Uninstalling MarkupSafe-1.1.1:\n",
      "      Successfully uninstalled MarkupSafe-1.1.1\n",
      "  Attempting uninstall: typing-extensions\n",
      "    Found existing installation: typing-extensions 4.1.1\n",
      "    Uninstalling typing-extensions-4.1.1:\n",
      "      Successfully uninstalled typing-extensions-4.1.1\n",
      "  Attempting uninstall: scipy\n",
      "    Found existing installation: scipy 1.7.1\n",
      "    Uninstalling scipy-1.7.1:\n",
      "      Successfully uninstalled scipy-1.7.1\n",
      "  Attempting uninstall: jinja2\n",
      "    Found existing installation: Jinja2 2.11.3\n",
      "    Uninstalling Jinja2-2.11.3:\n",
      "      Successfully uninstalled Jinja2-2.11.3\n",
      "\u001b[31mERROR: pip's dependency resolver does not currently take into account all the packages that are installed. This behaviour is the source of the following dependency conflicts.\n",
      "daal4py 2021.3.0 requires daal==2021.2.3, which is not installed.\n",
      "anaconda-project 0.10.1 requires ruamel-yaml, which is not installed.\n",
      "numba 0.54.1 requires numpy<1.21,>=1.17, but you have numpy 1.22.3 which is incompatible.\n",
      "cookiecutter 1.7.2 requires Jinja2<3.0.0, but you have jinja2 3.1.1 which is incompatible.\n",
      "cookiecutter 1.7.2 requires MarkupSafe<2.0.0, but you have markupsafe 2.1.1 which is incompatible.\n",
      "azure-core 1.23.0 requires typing-extensions>=4.0.1, but you have typing-extensions 3.10.0.2 which is incompatible.\u001b[0m\n",
      "Successfully installed MarkupSafe-2.1.1 graphviz-0.20 jinja2-3.1.1 lark-parser-0.12.0 numpy-1.22.3 pytket-1.1.0 scipy-1.8.0 types-pkg-resources-0.1.3 typing-extensions-3.10.0.2\n"
     ]
    }
   ],
   "source": [
    "!pip install pytket"
   ]
  },
  {
   "cell_type": "code",
   "execution_count": 3,
   "id": "dab9ee1f-ad01-4f5a-a5f0-46c9af296163",
   "metadata": {},
   "outputs": [],
   "source": [
    "from pytket import Circuit\n",
    "c = Circuit(4)"
   ]
  },
  {
   "cell_type": "code",
   "execution_count": 4,
   "id": "6ddd1e28-5260-4c53-be3e-943494421123",
   "metadata": {
    "collapsed": true,
    "jupyter": {
     "outputs_hidden": true
    },
    "tags": []
   },
   "outputs": [
    {
     "name": "stdout",
     "output_type": "stream",
     "text": [
      "Collecting pytket-qiskit\n",
      "  Downloading pytket_qiskit-0.24.0-py3-none-any.whl (36 kB)\n",
      "Collecting qiskit~=0.36.0\n",
      "  Downloading qiskit-0.36.0.tar.gz (13 kB)\n",
      "Requirement already satisfied: pytket~=1.1 in /Users/sprotasov/opt/anaconda3/lib/python3.9/site-packages (from pytket-qiskit) (1.1.0)\n",
      "Requirement already satisfied: lark-parser~=0.7 in /Users/sprotasov/opt/anaconda3/lib/python3.9/site-packages (from pytket~=1.1->pytket-qiskit) (0.12.0)\n",
      "Requirement already satisfied: sympy~=1.6 in /Users/sprotasov/opt/anaconda3/lib/python3.9/site-packages (from pytket~=1.1->pytket-qiskit) (1.9)\n",
      "Requirement already satisfied: graphviz~=0.14 in /Users/sprotasov/opt/anaconda3/lib/python3.9/site-packages (from pytket~=1.1->pytket-qiskit) (0.20)\n",
      "Requirement already satisfied: types-pkg-resources in /Users/sprotasov/opt/anaconda3/lib/python3.9/site-packages (from pytket~=1.1->pytket-qiskit) (0.1.3)\n",
      "Requirement already satisfied: numpy<2.0,>=1.21.4 in /Users/sprotasov/opt/anaconda3/lib/python3.9/site-packages (from pytket~=1.1->pytket-qiskit) (1.22.3)\n",
      "Requirement already satisfied: networkx~=2.4 in /Users/sprotasov/opt/anaconda3/lib/python3.9/site-packages (from pytket~=1.1->pytket-qiskit) (2.6.3)\n",
      "Requirement already satisfied: scipy<2.0,>=1.7.2 in /Users/sprotasov/opt/anaconda3/lib/python3.9/site-packages (from pytket~=1.1->pytket-qiskit) (1.8.0)\n",
      "Requirement already satisfied: typing-extensions~=3.7 in /Users/sprotasov/opt/anaconda3/lib/python3.9/site-packages (from pytket~=1.1->pytket-qiskit) (3.10.0.2)\n",
      "Requirement already satisfied: jinja2~=3.0 in /Users/sprotasov/opt/anaconda3/lib/python3.9/site-packages (from pytket~=1.1->pytket-qiskit) (3.1.1)\n",
      "Requirement already satisfied: MarkupSafe>=2.0 in /Users/sprotasov/opt/anaconda3/lib/python3.9/site-packages (from jinja2~=3.0->pytket~=1.1->pytket-qiskit) (2.1.1)\n",
      "Collecting qiskit-terra==0.20.0\n",
      "  Downloading qiskit_terra-0.20.0-cp39-cp39-macosx_10_9_x86_64.whl (6.2 MB)\n",
      "\u001b[K     |████████████████████████████████| 6.2 MB 1.1 MB/s eta 0:00:01\n",
      "\u001b[?25hCollecting qiskit-aer==0.10.4\n",
      "  Downloading qiskit_aer-0.10.4-cp39-cp39-macosx_10_9_x86_64.whl (8.6 MB)\n",
      "\u001b[K     |████████████████████████████████| 8.6 MB 10.6 MB/s eta 0:00:01\n",
      "\u001b[?25hCollecting qiskit-ibmq-provider==0.19.0\n",
      "  Downloading qiskit_ibmq_provider-0.19.0-py3-none-any.whl (240 kB)\n",
      "\u001b[K     |████████████████████████████████| 240 kB 22.4 MB/s eta 0:00:01\n",
      "\u001b[?25hRequirement already satisfied: qiskit-ignis==0.7.0 in /Users/sprotasov/opt/anaconda3/lib/python3.9/site-packages (from qiskit~=0.36.0->pytket-qiskit) (0.7.0)\n",
      "Requirement already satisfied: requests>=2.19 in /Users/sprotasov/opt/anaconda3/lib/python3.9/site-packages (from qiskit-ibmq-provider==0.19.0->qiskit~=0.36.0->pytket-qiskit) (2.26.0)\n",
      "Requirement already satisfied: requests-ntlm>=1.1.0 in /Users/sprotasov/opt/anaconda3/lib/python3.9/site-packages (from qiskit-ibmq-provider==0.19.0->qiskit~=0.36.0->pytket-qiskit) (1.1.0)\n",
      "Requirement already satisfied: websocket-client>=1.0.1 in /Users/sprotasov/opt/anaconda3/lib/python3.9/site-packages (from qiskit-ibmq-provider==0.19.0->qiskit~=0.36.0->pytket-qiskit) (1.3.1)\n",
      "Requirement already satisfied: urllib3>=1.21.1 in /Users/sprotasov/opt/anaconda3/lib/python3.9/site-packages (from qiskit-ibmq-provider==0.19.0->qiskit~=0.36.0->pytket-qiskit) (1.26.7)\n",
      "Requirement already satisfied: python-dateutil>=2.8.0 in /Users/sprotasov/opt/anaconda3/lib/python3.9/site-packages (from qiskit-ibmq-provider==0.19.0->qiskit~=0.36.0->pytket-qiskit) (2.8.2)\n",
      "Collecting websockets>=10.0\n",
      "  Downloading websockets-10.3-cp39-cp39-macosx_10_9_x86_64.whl (97 kB)\n",
      "\u001b[K     |████████████████████████████████| 97 kB 16.0 MB/s eta 0:00:01\n",
      "\u001b[?25hRequirement already satisfied: retworkx>=0.8.0 in /Users/sprotasov/opt/anaconda3/lib/python3.9/site-packages (from qiskit-ignis==0.7.0->qiskit~=0.36.0->pytket-qiskit) (0.11.0)\n",
      "Requirement already satisfied: setuptools>=40.1.0 in /Users/sprotasov/opt/anaconda3/lib/python3.9/site-packages (from qiskit-ignis==0.7.0->qiskit~=0.36.0->pytket-qiskit) (58.0.4)\n",
      "Requirement already satisfied: psutil>=5 in /Users/sprotasov/opt/anaconda3/lib/python3.9/site-packages (from qiskit-terra==0.20.0->qiskit~=0.36.0->pytket-qiskit) (5.8.0)\n",
      "Requirement already satisfied: symengine>=0.9 in /Users/sprotasov/opt/anaconda3/lib/python3.9/site-packages (from qiskit-terra==0.20.0->qiskit~=0.36.0->pytket-qiskit) (0.9.2)\n",
      "Requirement already satisfied: dill>=0.3 in /Users/sprotasov/opt/anaconda3/lib/python3.9/site-packages (from qiskit-terra==0.20.0->qiskit~=0.36.0->pytket-qiskit) (0.3.4)\n",
      "Requirement already satisfied: python-constraint>=1.4 in /Users/sprotasov/opt/anaconda3/lib/python3.9/site-packages (from qiskit-terra==0.20.0->qiskit~=0.36.0->pytket-qiskit) (1.4.0)\n",
      "Requirement already satisfied: stevedore>=3.0.0 in /Users/sprotasov/opt/anaconda3/lib/python3.9/site-packages (from qiskit-terra==0.20.0->qiskit~=0.36.0->pytket-qiskit) (3.5.0)\n",
      "Requirement already satisfied: tweedledum<2.0,>=1.1 in /Users/sprotasov/opt/anaconda3/lib/python3.9/site-packages (from qiskit-terra==0.20.0->qiskit~=0.36.0->pytket-qiskit) (1.1.1)\n",
      "Requirement already satisfied: ply>=3.10 in /Users/sprotasov/opt/anaconda3/lib/python3.9/site-packages (from qiskit-terra==0.20.0->qiskit~=0.36.0->pytket-qiskit) (3.11)\n",
      "Requirement already satisfied: six>=1.5 in /Users/sprotasov/opt/anaconda3/lib/python3.9/site-packages (from python-dateutil>=2.8.0->qiskit-ibmq-provider==0.19.0->qiskit~=0.36.0->pytket-qiskit) (1.16.0)\n",
      "Requirement already satisfied: idna<4,>=2.5 in /Users/sprotasov/opt/anaconda3/lib/python3.9/site-packages (from requests>=2.19->qiskit-ibmq-provider==0.19.0->qiskit~=0.36.0->pytket-qiskit) (3.2)\n",
      "Requirement already satisfied: certifi>=2017.4.17 in /Users/sprotasov/opt/anaconda3/lib/python3.9/site-packages (from requests>=2.19->qiskit-ibmq-provider==0.19.0->qiskit~=0.36.0->pytket-qiskit) (2021.10.8)\n",
      "Requirement already satisfied: charset-normalizer~=2.0.0 in /Users/sprotasov/opt/anaconda3/lib/python3.9/site-packages (from requests>=2.19->qiskit-ibmq-provider==0.19.0->qiskit~=0.36.0->pytket-qiskit) (2.0.4)\n",
      "Requirement already satisfied: cryptography>=1.3 in /Users/sprotasov/opt/anaconda3/lib/python3.9/site-packages (from requests-ntlm>=1.1.0->qiskit-ibmq-provider==0.19.0->qiskit~=0.36.0->pytket-qiskit) (3.4.8)\n",
      "Requirement already satisfied: ntlm-auth>=1.0.2 in /Users/sprotasov/opt/anaconda3/lib/python3.9/site-packages (from requests-ntlm>=1.1.0->qiskit-ibmq-provider==0.19.0->qiskit~=0.36.0->pytket-qiskit) (1.5.0)\n",
      "Requirement already satisfied: cffi>=1.12 in /Users/sprotasov/opt/anaconda3/lib/python3.9/site-packages (from cryptography>=1.3->requests-ntlm>=1.1.0->qiskit-ibmq-provider==0.19.0->qiskit~=0.36.0->pytket-qiskit) (1.14.6)\n",
      "Requirement already satisfied: pycparser in /Users/sprotasov/opt/anaconda3/lib/python3.9/site-packages (from cffi>=1.12->cryptography>=1.3->requests-ntlm>=1.1.0->qiskit-ibmq-provider==0.19.0->qiskit~=0.36.0->pytket-qiskit) (2.20)\n",
      "Requirement already satisfied: pbr!=2.1.0,>=2.0.0 in /Users/sprotasov/opt/anaconda3/lib/python3.9/site-packages (from stevedore>=3.0.0->qiskit-terra==0.20.0->qiskit~=0.36.0->pytket-qiskit) (5.8.1)\n",
      "Requirement already satisfied: mpmath>=0.19 in /Users/sprotasov/opt/anaconda3/lib/python3.9/site-packages (from sympy~=1.6->pytket~=1.1->pytket-qiskit) (1.2.1)\n",
      "Building wheels for collected packages: qiskit\n",
      "  Building wheel for qiskit (setup.py) ... \u001b[?25ldone\n",
      "\u001b[?25h  Created wheel for qiskit: filename=qiskit-0.36.0-py3-none-any.whl size=11861 sha256=e39aadf640795a9c69272af1c99a6ec3cca44bf4ae54b7ee62f403f060654c65\n",
      "  Stored in directory: /Users/sprotasov/Library/Caches/pip/wheels/24/39/30/c6b14b7f0da4785d1104b97ebabce487ab3d501ee0ccc9686e\n",
      "Successfully built qiskit\n",
      "Installing collected packages: websockets, qiskit-terra, qiskit-ibmq-provider, qiskit-aer, qiskit, pytket-qiskit\n",
      "  Attempting uninstall: qiskit-terra\n",
      "    Found existing installation: qiskit-terra 0.19.2\n",
      "    Uninstalling qiskit-terra-0.19.2:\n",
      "      Successfully uninstalled qiskit-terra-0.19.2\n",
      "  Attempting uninstall: qiskit-ibmq-provider\n",
      "    Found existing installation: qiskit-ibmq-provider 0.18.3\n",
      "    Uninstalling qiskit-ibmq-provider-0.18.3:\n",
      "      Successfully uninstalled qiskit-ibmq-provider-0.18.3\n",
      "  Attempting uninstall: qiskit-aer\n",
      "    Found existing installation: qiskit-aer 0.10.3\n",
      "    Uninstalling qiskit-aer-0.10.3:\n",
      "      Successfully uninstalled qiskit-aer-0.10.3\n",
      "  Attempting uninstall: qiskit\n",
      "    Found existing installation: qiskit 0.34.2\n",
      "    Uninstalling qiskit-0.34.2:\n",
      "      Successfully uninstalled qiskit-0.34.2\n",
      "Successfully installed pytket-qiskit-0.24.0 qiskit-0.36.0 qiskit-aer-0.10.4 qiskit-ibmq-provider-0.19.0 qiskit-terra-0.20.0 websockets-10.3\n"
     ]
    }
   ],
   "source": [
    "!pip install pytket-qiskit "
   ]
  },
  {
   "cell_type": "code",
   "execution_count": 13,
   "id": "d14aff1f-5186-4c96-acf8-b0b2ea8dff6c",
   "metadata": {},
   "outputs": [
    {
     "name": "stdout",
     "output_type": "stream",
     "text": [
      "26\n",
      "26\n"
     ]
    }
   ],
   "source": [
    "import numpy as np\n",
    "from qiskit import QuantumCircuit, transpile, BasicAer\n",
    "qc = QuantumCircuit(4)\n",
    "\n",
    "v = np.random.random(16).astype(np.float128)\n",
    "v = v / sum(v * v) ** .5\n",
    "qc.initialize(v)\n",
    "qc = transpile(qc, backend=BasicAer.get_backend('qasm_simulator'))\n",
    "print(qc.depth())\n",
    "\n",
    "from pytket.extensions.qiskit import qiskit_to_tk\n",
    "c = qiskit_to_tk(qc)\n",
    "print(c.depth())"
   ]
  },
  {
   "cell_type": "code",
   "execution_count": 16,
   "id": "954d8631-b880-425c-bfde-45f24d99058b",
   "metadata": {},
   "outputs": [
    {
     "data": {
      "text/plain": [
       "True"
      ]
     },
     "execution_count": 16,
     "metadata": {},
     "output_type": "execute_result"
    }
   ],
   "source": [
    "from pytket.passes import CliffordSimp, PauliSimp\n",
    "from pytket.passes import RemoveRedundancies, EulerAngleReduction, KAKDecomposition\n",
    "\n",
    "RemoveRedundancies().apply(c)\n",
    "CliffordSimp().apply(c)\n",
    "# PauliSimp().apply(c)"
   ]
  },
  {
   "cell_type": "code",
   "execution_count": 17,
   "id": "45656cf4-f1f9-426e-8fcc-633b0c9760d3",
   "metadata": {},
   "outputs": [
    {
     "data": {
      "text/plain": [
       "26"
      ]
     },
     "execution_count": 17,
     "metadata": {},
     "output_type": "execute_result"
    }
   ],
   "source": [
    "c.depth()"
   ]
  }
 ],
 "metadata": {
  "kernelspec": {
   "display_name": "qiskit",
   "language": "python",
   "name": "qiskit"
  },
  "language_info": {
   "codemirror_mode": {
    "name": "ipython",
    "version": 3
   },
   "file_extension": ".py",
   "mimetype": "text/x-python",
   "name": "python",
   "nbconvert_exporter": "python",
   "pygments_lexer": "ipython3",
   "version": "3.9.7"
  }
 },
 "nbformat": 4,
 "nbformat_minor": 5
}
