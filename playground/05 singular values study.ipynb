{
 "cells": [
  {
   "cell_type": "code",
   "execution_count": 1,
   "id": "e2cca04a-b668-4661-8018-86ae715ecb75",
   "metadata": {},
   "outputs": [],
   "source": [
    "import matplotlib.pyplot as plt\n",
    "import tensorly as tl\n",
    "from tensorly import decomposition\n",
    "import numpy as np\n",
    "np.set_printoptions(formatter={\n",
    "    'float': lambda x: \"{0:+0.5f}\".format(x), \n",
    "    'double': lambda x: \"{0:0.5d}\".format(x),\n",
    "    'complexfloat': lambda x: \"{0.real:0.5f}\".format(x) + '+ '[int(x.imag < 0)] + \"{0.imag:0.5f}j\".format(x)\n",
    "})"
   ]
  },
  {
   "cell_type": "markdown",
   "id": "bf716547-9443-4fdd-9f23-2b13d4daf791",
   "metadata": {},
   "source": [
    "# Hypothesis\n",
    "\n",
    "1. The Tucker decomposition is based on SVD ($M=U\\Sigma V^\\dagger$). For each tensor mode we can say, that the corresponding matrix is a unitary $U$, while the core tensor represent $\\Sigma V^\\dagger$ (not exactly, but affected by the other matrices).\n",
    "2. For $\\mathbb{R}^{2^N}$ tensors $\\Sigma$ matrix is always $2\\times 2$ diagonal matrix with singular values. The second value is 0 is the corresponding mode is not \"entangled\" with the others. To be precise, if we can say that the tensor can be decomposed into a tensor product of this mode ($2\\times 1$ vector) and the remaining subtensor $\\mathbb{R}^{2^{N-1}}$.\n",
    "3. If the second singular value is 0 (or near 0), them we will see the second half of the core tensor filled with 0 ($(0, 0)\\times V^\\dagger$) or near-0 values.\n",
    "4. We can inspect \"second halves\" of each mode of core tensor to observe entanglement properties.\n",
    "\n",
    "## Test 0\n",
    "\n",
    "One out of 3 disentangled qubits make a zero slice in a cube of a core tensor.\n",
    "\n",
    "### $1\\otimes \\{2, 3\\}$"
   ]
  },
  {
   "cell_type": "code",
   "execution_count": 2,
   "id": "c0cbef8d-d481-461e-9643-dd58d3d2a90f",
   "metadata": {},
   "outputs": [
    {
     "name": "stdout",
     "output_type": "stream",
     "text": [
      "Clean [+0.00000 +0.00000 +0.00000 +0.00000 +0.70711 +0.00000 +0.00000 +0.70711]\n",
      "Dirty [+0.00000 +0.00002 -0.00004 -0.00003 +0.70711 -0.00005 +0.00000 +0.70709]\n"
     ]
    }
   ],
   "source": [
    "a = [0, 1]           # disentangled qubit 0\n",
    "bc = [1, 0, 0, 1]     # bell state on 1+2\n",
    "state = np.kron(a, bc)\n",
    "state = state / np.linalg.norm(state)\n",
    "print(\"Clean\", state)\n",
    "noise = (np.random.random(state.shape) - .5) / 10000\n",
    "state = state + noise\n",
    "print(\"Dirty\", state)"
   ]
  },
  {
   "cell_type": "code",
   "execution_count": 3,
   "id": "d9e1dca9-604c-4706-8a9b-a408a37fef82",
   "metadata": {},
   "outputs": [
    {
     "data": {
      "image/png": "[encoded data removed]",
      "text/plain": [
       "<Figure size 432x288 with 2 Axes>"
      ]
     },
     "metadata": {
      "needs_background": "light"
     },
     "output_type": "display_data"
    },
    {
     "name": "stdout",
     "output_type": "stream",
     "text": [
      "[[+0.70712 -0.00002]\n",
      " [+0.00002 +0.70707]]\n"
     ]
    }
   ],
   "source": [
    "tensor_shape = tuple([2]*3)\n",
    "tensor = state.reshape(*tensor_shape)\n",
    "t_core, t_matrices = tl.decomposition.tucker(tensor, rank=tensor_shape)\n",
    "\n",
    "plt.imshow(t_core.reshape(4, -1), vmax=1, vmin=-1, cmap=\"RdBu\")\n",
    "plt.colorbar()\n",
    "plt.show()\n",
    "\n",
    "# non-0 slice, corresponding to the first singular value\n",
    "print(t_core[0, :, :])"
   ]
  },
  {
   "cell_type": "code",
   "execution_count": 4,
   "id": "6039b8cb-151f-49be-bf94-94ed98c68d13",
   "metadata": {},
   "outputs": [
    {
     "name": "stdout",
     "output_type": "stream",
     "text": [
      "[[-0.00001 -0.00004]\n",
      " [+0.00002 +0.00001]]\n"
     ]
    }
   ],
   "source": [
    "# slice of zeros\n",
    "print(t_core[1, :, :])\n",
    "assert np.allclose(t_core[1, :, :], np.zeros(t_core[1, :, :].shape), atol=1e-4), \"Hypothesis failed, the slice is far from 0\""
   ]
  },
  {
   "cell_type": "code",
   "execution_count": 5,
   "id": "d518b9e9-0a5b-4b54-95aa-c202b688c563",
   "metadata": {},
   "outputs": [
    {
     "name": "stdout",
     "output_type": "stream",
     "text": [
      "[0.7071241917405932, 1.3744870578639862e-05]\n"
     ]
    }
   ],
   "source": [
    "print([t_core[i, i, i] for i in range(2)])"
   ]
  },
  {
   "cell_type": "markdown",
   "id": "7d979173-11d6-4617-bfb0-73dabad78330",
   "metadata": {},
   "source": [
    "### $\\{1, 2\\} \\otimes 3$"
   ]
  },
  {
   "cell_type": "code",
   "execution_count": 6,
   "id": "f273deaa-6141-4c06-adab-2077721cdb0f",
   "metadata": {},
   "outputs": [
    {
     "name": "stdout",
     "output_type": "stream",
     "text": [
      "Clean [+0.00000 +0.70711 +0.00000 +0.00000 +0.00000 +0.00000 +0.00000 +0.70711]\n",
      "Dirty [-0.00003 +0.70707 -0.00000 +0.00004 -0.00004 -0.00004 +0.00001 +0.70710]\n"
     ]
    },
    {
     "data": {
      "image/png": "[encoded data removed]",
      "text/plain": [
       "<Figure size 432x288 with 2 Axes>"
      ]
     },
     "metadata": {
      "needs_background": "light"
     },
     "output_type": "display_data"
    },
    {
     "name": "stdout",
     "output_type": "stream",
     "text": [
      "Non-0 slice\n",
      " [[+0.70710 -0.00002]\n",
      " [+0.00002 +0.70706]]\n"
     ]
    }
   ],
   "source": [
    "c = [0, 1]           # disentangled qubit 0\n",
    "ab = [1, 0, 0, 1]     # bell state\n",
    "state = np.kron(ab, c)\n",
    "state = state / np.linalg.norm(state)\n",
    "print(\"Clean\", state)\n",
    "noise = (np.random.random(state.shape) - .5) / 10000\n",
    "state = state + noise\n",
    "print(\"Dirty\", state)\n",
    "\n",
    "tensor_shape = tuple([2]*3)\n",
    "tensor = state.reshape(*tensor_shape)\n",
    "t_core, t_matrices = tl.decomposition.tucker(tensor, rank=tensor_shape)\n",
    "\n",
    "plt.imshow(t_core.reshape(4, -1), vmax=1, vmin=-1, cmap=\"RdBu\")\n",
    "plt.colorbar()\n",
    "plt.show()\n",
    "\n",
    "# non-0 slice, corresponding to the first singular value\n",
    "print(\"Non-0 slice\\n\", t_core[:, :, 0])"
   ]
  },
  {
   "cell_type": "code",
   "execution_count": 7,
   "id": "3ddb4f24-6b8e-4bbf-8e9b-7d1cb8386ccb",
   "metadata": {},
   "outputs": [
    {
     "name": "stdout",
     "output_type": "stream",
     "text": [
      "[[-0.00002 -0.00005]\n",
      " [-0.00001 +0.00002]]\n"
     ]
    }
   ],
   "source": [
    "# slice of zeros\n",
    "print(t_core[:, :, 1])\n",
    "assert np.allclose(t_core[:, :, 1], np.zeros(t_core[:, :, 1].shape), atol=1e-4), \"Hypothesis failed, the slice is far from 0\""
   ]
  },
  {
   "cell_type": "markdown",
   "id": "cc3c7c90-7d40-4a24-82b7-dd0ac22935ad",
   "metadata": {},
   "source": [
    "### $\\{1, 3\\}\\otimes 2$"
   ]
  },
  {
   "cell_type": "code",
   "execution_count": 8,
   "id": "d85d9c2c-c177-44b5-b1c2-aeb804ddbe5d",
   "metadata": {},
   "outputs": [
    {
     "data": {
      "image/png": "[encoded data removed]",
      "text/plain": [
       "<Figure size 432x288 with 2 Axes>"
      ]
     },
     "metadata": {
      "needs_background": "light"
     },
     "output_type": "display_data"
    },
    {
     "name": "stdout",
     "output_type": "stream",
     "text": [
      "Non-0 slice\n",
      " [[+0.70714 -0.00000]\n",
      " [+0.00000 +0.70708]]\n"
     ]
    }
   ],
   "source": [
    "a = [0, 1]           # disentangled qubit 0\n",
    "bc = [1, 0, 0, 1]     # bell state on 1+2\n",
    "state = np.kron(a, bc)\n",
    "state = state / np.linalg.norm(state)\n",
    "noise = (np.random.random(state.shape) - .5) / 10000\n",
    "state = state + noise\n",
    "\n",
    "tensor_shape = tuple([2]*3)\n",
    "tensor = state.reshape(*tensor_shape)\n",
    "\n",
    "# AXIS REORDER\n",
    "tensor = tl.moveaxis(tensor, [0, 1, 2], [1, 0, 2])\n",
    "\n",
    "t_core, t_matrices = tl.decomposition.tucker(tensor, rank=tensor_shape)\n",
    "\n",
    "plt.imshow(t_core.reshape(4, -1), vmax=1, vmin=-1, cmap=\"RdBu\")\n",
    "plt.colorbar()\n",
    "plt.show()\n",
    "\n",
    "# non-0 slice, corresponding to the first singular value\n",
    "print(\"Non-0 slice\\n\", t_core[:, 0, :])"
   ]
  },
  {
   "cell_type": "code",
   "execution_count": 9,
   "id": "d5873c88-da8f-4178-9435-aa711e33693f",
   "metadata": {},
   "outputs": [
    {
     "name": "stdout",
     "output_type": "stream",
     "text": [
      "[[-0.00005 -0.00004]\n",
      " [-0.00003 +0.00005]]\n"
     ]
    }
   ],
   "source": [
    "# slice of zeros\n",
    "print(t_core[:, 1, :])\n",
    "assert np.allclose(t_core[:, 1, :], np.zeros(t_core[:, 1, :].shape), atol=1e-4), \"Hypothesis failed, the slice is far from 0\""
   ]
  },
  {
   "cell_type": "code",
   "execution_count": 10,
   "id": "7536f4a9-3da1-435f-89dc-a7e6c01d61ed",
   "metadata": {},
   "outputs": [
    {
     "name": "stdout",
     "output_type": "stream",
     "text": [
      "[0.7071417147434383, 4.826999525346085e-05]\n"
     ]
    }
   ],
   "source": [
    "print([t_core[i, i, i] for i in range(2)])"
   ]
  },
  {
   "cell_type": "markdown",
   "id": "9c49e474-3959-4d00-933a-cfd11f8fbffe",
   "metadata": {},
   "source": [
    "### $\\{1, 3, 4\\}\\otimes 2$"
   ]
  },
  {
   "cell_type": "code",
   "execution_count": 11,
   "id": "1f8b1e87-bd10-400f-8a96-4b68488a246b",
   "metadata": {},
   "outputs": [
    {
     "name": "stdout",
     "output_type": "stream",
     "text": [
      "Clean [+0.68599 +0.00000 +0.00000 +0.00000 +0.00000 +0.00000 +0.00000 +0.68599\n",
      " +0.17150 +0.00000 +0.00000 +0.00000 +0.00000 +0.00000 +0.00000 +0.17150]\n",
      "Dirty [+0.68624 +0.00040 +0.00034 +0.00028 -0.00047 +0.00004 -0.00040 +0.68564\n",
      " +0.17171 -0.00025 -0.00049 +0.00040 +0.00002 -0.00001 -0.00001 +0.17172]\n"
     ]
    },
    {
     "data": {
      "image/png": "[encoded data removed]",
      "text/plain": [
       "<Figure size 432x288 with 2 Axes>"
      ]
     },
     "metadata": {
      "needs_background": "light"
     },
     "output_type": "display_data"
    },
    {
     "name": "stdout",
     "output_type": "stream",
     "text": [
      "Non-0 slice\n",
      " [[[+0.69065 +0.02514]\n",
      "  [-0.13857 -0.05984]]\n",
      "\n",
      " [[+0.04508 +0.14416]\n",
      "  [-0.04667 +0.68891]]]\n"
     ]
    }
   ],
   "source": [
    "a = [4, 1]                         # disentangled qubit 0\n",
    "bcd = [1, 0, 0, 0, 0, 0, 0, 1]     # GHZ state\n",
    "state = np.kron(a, bcd)\n",
    "state = state / np.linalg.norm(state)\n",
    "print(\"Clean\", state)\n",
    "noise = (np.random.random(state.shape) - .5) / 1000\n",
    "state = state + noise\n",
    "state = state / np.linalg.norm(state)\n",
    "print(\"Dirty\", state)\n",
    "\n",
    "tensor_shape = tuple([2]*4)\n",
    "tensor = state.reshape(*tensor_shape)\n",
    "tensor = tl.moveaxis(tensor, [0, 1, 2, 3], [1, 0, 2, 3])\n",
    "t_core, t_matrices = tl.decomposition.tucker(tensor, rank=tensor_shape)\n",
    "\n",
    "plt.imshow(t_core.reshape(4, -1), vmax=1, vmin=-1, cmap=\"RdBu\")\n",
    "plt.colorbar()\n",
    "plt.show()\n",
    "\n",
    "# non-0 slice, corresponding to the first singular value\n",
    "print(\"Non-0 slice\\n\", t_core[:, 0, :, :])"
   ]
  },
  {
   "cell_type": "code",
   "execution_count": 12,
   "id": "796dc7df-2dac-4154-840a-b6124e4af2df",
   "metadata": {},
   "outputs": [
    {
     "name": "stdout",
     "output_type": "stream",
     "text": [
      "0-es slice\n",
      " [[[-0.00018 -0.00027]\n",
      "  [-0.00055 +0.00034]]\n",
      "\n",
      " [[+0.00013 -0.00002]\n",
      "  [+0.00001 +0.00011]]]\n"
     ]
    }
   ],
   "source": [
    "print(\"0-es slice\\n\", t_core[:, 1, :, :])"
   ]
  },
  {
   "cell_type": "code",
   "execution_count": 13,
   "id": "55928da2-116e-4023-9d9c-0b01618fb908",
   "metadata": {},
   "outputs": [
    {
     "name": "stdout",
     "output_type": "stream",
     "text": [
      "[0.6906515007214417, 0.00010651801280622932]\n"
     ]
    }
   ],
   "source": [
    "print([t_core[i, i, i, i] for i in range(2)])"
   ]
  },
  {
   "cell_type": "markdown",
   "id": "fce2bbf8-59b0-4217-80d7-7046face353a",
   "metadata": {},
   "source": [
    "At this point we observe our hypothesis has a glance of justification.\n",
    "\n",
    "## What if we have 2 bell pairs? how will we observe this it in the core tensor?"
   ]
  },
  {
   "cell_type": "code",
   "execution_count": 14,
   "id": "6a6e9cc7-c70d-45a1-a55f-e29d005a490a",
   "metadata": {},
   "outputs": [
    {
     "name": "stdout",
     "output_type": "stream",
     "text": [
      "[[[[+0.64993 +0.00000]\n",
      "   [-0.00000 +0.64993]]\n",
      "\n",
      "  [[-0.00000 -0.00000]\n",
      "   [-0.00000 +0.00000]]]\n",
      "\n",
      "\n",
      " [[[+0.00000 -0.00000]\n",
      "   [-0.00000 -0.00000]]\n",
      "\n",
      "  [[-0.27854 -0.00000]\n",
      "   [+0.00000 -0.27854]]]]\n"
     ]
    }
   ],
   "source": [
    "ab = [0, 7, 3, 0]      # skewed bell state\n",
    "cd = [5, 0, 0, 5]     # bell state \n",
    "state = np.kron(ab, cd)\n",
    "state = state / np.linalg.norm(state)\n",
    "noise = (np.random.random(state.shape) - .5) / 1000000\n",
    "state = state + noise\n",
    "\n",
    "tensor_shape = tuple([2]*4)\n",
    "tensor = state.reshape(*tensor_shape)\n",
    "t_core, t_matrices = tl.decomposition.tucker(tensor, rank=(2, 2, 2, 2))\n",
    "print(t_core)"
   ]
  },
  {
   "cell_type": "code",
   "execution_count": 15,
   "id": "ba3409b8-c4cc-4538-8d7c-edd3c6a44d8a",
   "metadata": {},
   "outputs": [
    {
     "data": {
      "image/png": "[encoded data removed]",
      "text/plain": [
       "<Figure size 432x288 with 2 Axes>"
      ]
     },
     "metadata": {
      "needs_background": "light"
     },
     "output_type": "display_data"
    }
   ],
   "source": [
    "plt.imshow(t_core.reshape(4, -1), vmax=1, vmin=-1, cmap=\"RdBu\")\n",
    "plt.colorbar()\n",
    "plt.show()"
   ]
  },
  {
   "cell_type": "code",
   "execution_count": 16,
   "id": "043efa12-d943-430b-a5a9-c36fb1f2f352",
   "metadata": {},
   "outputs": [
    {
     "data": {
      "text/plain": [
       "array([[-0.00000, -0.00000],\n",
       "       [-0.00000, +0.00000]])"
      ]
     },
     "execution_count": 16,
     "metadata": {},
     "output_type": "execute_result"
    }
   ],
   "source": [
    "# not sure, but the evidence can sit here\n",
    "t_core[0, 1, :, :]"
   ]
  },
  {
   "cell_type": "code",
   "execution_count": 17,
   "id": "cf16f659-ac2e-45ab-ba0e-0d652f8dc849",
   "metadata": {},
   "outputs": [
    {
     "data": {
      "text/plain": [
       "array([[-0.00000, -0.00000],\n",
       "       [-0.00000, +0.00000]])"
      ]
     },
     "execution_count": 17,
     "metadata": {},
     "output_type": "execute_result"
    }
   ],
   "source": [
    "# not sure, but the evidence can sit here\n",
    "t_core[0, 1, :, :]"
   ]
  },
  {
   "cell_type": "code",
   "execution_count": 18,
   "id": "54f095a0-f942-4ba5-aa38-312336119804",
   "metadata": {},
   "outputs": [
    {
     "name": "stdout",
     "output_type": "stream",
     "text": [
      "[[[+0.70710 +0.00005]\n",
      "  [-0.00005 +0.70707]]\n",
      "\n",
      " [[+0.00002 -0.00006]\n",
      "  [+0.00000 -0.00002]]\n",
      "\n",
      " [[+0.00001 +0.00001]\n",
      "  [+0.00003 -0.00001]]\n",
      "\n",
      " [[+0.00000 +0.00000]\n",
      "  [-0.00000 -0.00000]]]\n"
     ]
    }
   ],
   "source": [
    "ab = [0, 7, 3, 0]      # skewed bell state\n",
    "cd = [5, 0, 0, 5]     # bell state \n",
    "state = np.kron(ab, cd)\n",
    "state = state / np.linalg.norm(state)\n",
    "noise = (np.random.random(state.shape) - .5) / 10000\n",
    "state = state + noise\n",
    "\n",
    "tensor4_shape = (4, 2, 2)\n",
    "tensor = state.reshape(*tensor4_shape)\n",
    "t_core, t_matrices = tl.decomposition.tucker(tensor, rank=tensor4_shape)\n",
    "print(t_core)"
   ]
  },
  {
   "cell_type": "code",
   "execution_count": 20,
   "id": "d106e166-fe5e-4fa1-a2c9-e581765c809b",
   "metadata": {},
   "outputs": [
    {
     "data": {
      "text/plain": [
       "<matplotlib.colorbar.Colorbar at 0x7fd72b12a730>"
      ]
     },
     "execution_count": 20,
     "metadata": {},
     "output_type": "execute_result"
    },
    {
     "data": {
      "image/png": "[encoded data removed]",
      "text/plain": [
       "<Figure size 432x288 with 2 Axes>"
      ]
     },
     "metadata": {
      "needs_background": "light"
     },
     "output_type": "display_data"
    }
   ],
   "source": [
    "plt.imshow(t_core.reshape(4, -1), vmax=1, vmin=-1, cmap=\"RdBu\")\n",
    "plt.colorbar()"
   ]
  },
  {
   "cell_type": "markdown",
   "id": "f2d43829-15df-490f-aa37-02661cfe59a1",
   "metadata": {},
   "source": [
    "https://en.wikipedia.org/wiki/Tensor_rank_decomposition#Field_dependence"
   ]
  },
  {
   "cell_type": "markdown",
   "id": "f98782d0-91f1-4f10-863b-c3772da2931e",
   "metadata": {},
   "source": [
    "### Parafac?\n",
    "\n",
    "Parafac has no \"core tensor\", as it is always diagonal, so it sits in coefficients vector"
   ]
  },
  {
   "cell_type": "code",
   "execution_count": 24,
   "id": "3598a222-f93c-4bcc-8592-9105f0894fed",
   "metadata": {},
   "outputs": [],
   "source": [
    "w, fac = tl.decomposition.parafac(tensor.reshape(2, 2, 2, 2), rank=2)"
   ]
  },
  {
   "cell_type": "code",
   "execution_count": 25,
   "id": "4284068b-2144-424f-bf9c-dce9a0463c76",
   "metadata": {},
   "outputs": [
    {
     "data": {
      "text/plain": [
       "[array([[+0.64991, -0.43040],\n",
       "        [+0.00002, -0.00003]]),\n",
       " array([[-0.00005, -0.00005],\n",
       "        [+1.00000, -1.50996]]),\n",
       " array([[+0.95922, -0.28262],\n",
       "        [+0.28267, +0.95923]]),\n",
       " array([[+0.95923, -0.28264],\n",
       "        [+0.28262, +0.95923]])]"
      ]
     },
     "execution_count": 25,
     "metadata": {},
     "output_type": "execute_result"
    }
   ],
   "source": [
    "fac"
   ]
  },
  {
   "cell_type": "code",
   "execution_count": 26,
   "id": "da2c4713-82a1-4efa-b2ef-a9e5aebca0ae",
   "metadata": {},
   "outputs": [
    {
     "data": {
      "text/plain": [
       "array([+1.00000, +1.00000])"
      ]
     },
     "execution_count": 26,
     "metadata": {},
     "output_type": "execute_result"
    }
   ],
   "source": [
    "w"
   ]
  }
 ],
 "metadata": {
  "kernelspec": {
   "display_name": "qiskit",
   "language": "python",
   "name": "qiskit"
  },
  "language_info": {
   "codemirror_mode": {
    "name": "ipython",
    "version": 3
   },
   "file_extension": ".py",
   "mimetype": "text/x-python",
   "name": "python",
   "nbconvert_exporter": "python",
   "pygments_lexer": "ipython3",
   "version": "3.9.7"
  }
 },
 "nbformat": 4,
 "nbformat_minor": 5
}
