{
 "cells": [
  {
   "cell_type": "markdown",
   "id": "c08a6084-4c98-4b5f-ae42-2a6c374c586f",
   "metadata": {},
   "source": [
    "# Assessing entanglement detection methods\n",
    "\n",
    "1. First, we show that all 3 methods report the same qubits as the least entangled.\n",
    "2. Second, these methods report equivalent decompositions (TODO).\n",
    "2. Third, we assess memory and time consumption methods.\n",
    "\n",
    "## Helper functions"
   ]
  },
  {
   "cell_type": "code",
   "execution_count": 1,
   "id": "9f86649d-58d9-487d-863a-6f039b350f3d",
   "metadata": {},
   "outputs": [
    {
     "name": "stdout",
     "output_type": "stream",
     "text": [
      "Requirement already satisfied: psutil in /Users/sprotasov/opt/anaconda3/lib/python3.9/site-packages (5.8.0)\n"
     ]
    }
   ],
   "source": [
    "!pip install psutil"
   ]
  },
  {
   "cell_type": "code",
   "execution_count": 2,
   "id": "da951287-c322-43e8-a088-44efb875c551",
   "metadata": {
    "tags": []
   },
   "outputs": [],
   "source": [
    "import numpy as np\n",
    "import time\n",
    "import psutil\n",
    "import tensorly as tl\n",
    "import gc\n",
    "\n",
    "from ncon import ncon\n",
    "from tqdm import tqdm\n",
    "from tensorly import decomposition\n",
    "from qiskit import transpile, QuantumCircuit, quantum_info\n",
    "from qiskit.providers.aer.backends import AerSimulator\n",
    "from qiskit.quantum_info import Statevector\n",
    "from qclib.state_preparation import LowRankInitialize, BaaLowRankInitialize\n",
    "\n",
    "backend = AerSimulator()\n",
    "\n",
    "\n",
    "def to_state(vector):\n",
    "    return vector / sum(abs(vector) ** 2) ** .5\n",
    "\n",
    "\n",
    "def to_tensor(vector):\n",
    "    n = int(np.log2(vector.size))\n",
    "    return vector.reshape([2] * n)\n",
    "\n",
    "\n",
    "def get_real_svec(ndim):\n",
    "    return to_state(np.array(np.random.random(2 ** ndim)))\n",
    "\n",
    "\n",
    "def get_compex_svec(ndim):\n",
    "    amp = get_real_svec(ndim)\n",
    "    pha = get_real_svec(ndim) * np.pi * 2\n",
    "    return to_state(np.array([a * np.e ** (1j * p) for a, p in zip(amp, pha)]))\n",
    "\n",
    "\n",
    "def shuffle_tensor(vec):\n",
    "    res = to_tensor(vec)\n",
    "    shuf = list(range(res.ndim))\n",
    "    np.random.shuffle(shuf)\n",
    "    return tl.moveaxis(res, range(res.ndim), shuf)\n",
    "\n",
    "\n",
    "def some_noise(tensor, amplitude=0.0001):\n",
    "    shape = tensor.shape\n",
    "    noise = (np.random.random(tensor.size) - 0.5) * amplitude * 2\n",
    "    return (tensor.reshape(-1) + noise).reshape(shape)\n",
    "\n",
    "\n",
    "def prepare_bipartite_tensor(i, j, noise_amplitude=0.000001):\n",
    "    return some_noise(shuffle_tensor(np.kron(get_compex_svec(i), get_compex_svec(j))), noise_amplitude)\n",
    "\n",
    "\n",
    "def get_mem():\n",
    "    import resource\n",
    "    # return resource.getrusage(resource.RUSAGE_SELF).ru_maxrss\n",
    "    return psutil.Process().memory_info().rss"
   ]
  },
  {
   "cell_type": "code",
   "execution_count": 3,
   "id": "32bb1322-b436-4115-ae21-d6f53c6c6dfc",
   "metadata": {},
   "outputs": [
    {
     "data": {
      "text/plain": [
       "132104192"
      ]
     },
     "execution_count": 3,
     "metadata": {},
     "output_type": "execute_result"
    }
   ],
   "source": [
    "get_mem()"
   ]
  },
  {
   "cell_type": "code",
   "execution_count": 4,
   "id": "b4f964e0-396b-4e87-b22e-b9768de138df",
   "metadata": {},
   "outputs": [
    {
     "data": {
      "text/plain": [
       "array([[[ 0.13926835+0.34193901j, -0.25304515+0.46045095j],\n",
       "        [ 0.16337376+0.01021285j,  0.13517291+0.18970857j]],\n",
       "\n",
       "       [[ 0.03235555+0.48150941j, -0.32202707+0.29455282j],\n",
       "        [ 0.19853056+0.07978194j,  0.05563697+0.18531803j]]])"
      ]
     },
     "execution_count": 4,
     "metadata": {},
     "output_type": "execute_result"
    }
   ],
   "source": [
    "def recombine(state_one, state_other, position):\n",
    "    tensor = np.tensordot(state_one, state_other, 0)\n",
    "    target = list(range(1, position+1)) + [0] + list(range(position+1, tensor.ndim))\n",
    "    return tl.moveaxis(tensor, range(tensor.ndim), target)\n",
    "    \n",
    "a = get_compex_svec(2).reshape(2, 2)\n",
    "b = get_compex_svec(1).reshape(2)\n",
    "recombine(b, a, 1)"
   ]
  },
  {
   "cell_type": "markdown",
   "id": "4b8f4138-348a-441a-9eaa-0aa6574ccd4b",
   "metadata": {},
   "source": [
    "We will assess 3 methods. `single_split` from `qclib`, and two our methods: counting based and contraction-based. For each method we will assess the following things:\n",
    "- Equal detection of disentangled qubit.\n",
    "- CPU time and memory to find disentangled qubit.\n",
    "- CPU time to prepare the partition states."
   ]
  },
  {
   "cell_type": "markdown",
   "id": "c9259add-6c63-4ea9-a118-00333ad3bcf9",
   "metadata": {},
   "source": [
    "# Iterative SVD\n",
    "\n",
    "    # We need to swap qubits from their subsystem2 position to the end of the\n",
    "    # mode as we expect that we do LSB to be on the left-most side.\n",
    "\n",
    "ok, they use `np.moveaxis`, `np.reshape`, and `np.linalg.svd` for this: [code](https://github.com/qclib/qclib/blob/18313110165daf94308b7d417a517e0b4a12117f/qclib/entanglement.py#L143).\n",
    "\n",
    "    # Maintains the relative position between the qubits of the two subsystems.\n",
    " \n",
    "Ok, here [code](https://github.com/qclib/qclib/blob/18313110165daf94308b7d417a517e0b4a12117f/qclib/state_preparation/util/baa.py#L290)."
   ]
  },
  {
   "cell_type": "code",
   "execution_count": 5,
   "id": "863100db-8f8d-43de-829f-84673e3eedbf",
   "metadata": {},
   "outputs": [
    {
     "name": "stdout",
     "output_type": "stream",
     "text": [
      "{'search_time': 3.4271140098571777, 'separate_time': 0.0007429122924804688, 'entanglement': [0.3550931279460915, 0.3558071177988411, 3.702554736519266e-05, 0.34902328673523764, 0.35131678944017425, 0.3496355822286039, 0.3586838224314115, 0.35791927182816474, 0.3569548534114317, 0.3564265911195804, 0.35236780062296547, 0.3538147432316693, 0.3568097249579846], 'min_qubit': 2, 'state1': None, 'state2': None, 'memory': 269721600, 'state0': None}\n"
     ]
    }
   ],
   "source": [
    "def test_svd(nqubits, seed, returnStates=False):\n",
    "    np.random.seed(seed)\n",
    "    T = prepare_bipartite_tensor(nqubits - 1, 1)\n",
    "    # gc.collect()\n",
    "    min_mem = get_mem()\n",
    "    max_mem = min_mem\n",
    "    \n",
    "    result = []\n",
    "    \n",
    "    start = time.time()\n",
    "    for i in range(T.ndim):\n",
    "        victim = np.moveaxis(T, i, -1).reshape(-1, 2)\n",
    "        u, s, v = np.linalg.svd(victim)\n",
    "        result.append(s[1])\n",
    "        max_mem = max(max_mem, get_mem())\n",
    "    searchtime = time.time() - start\n",
    "    \n",
    "    minqubit = np.argmin(result)\n",
    "    \n",
    "    partitions = np.moveaxis(T, minqubit, 0).reshape(2, -1)\n",
    "    max_mem = max(max_mem, get_mem())\n",
    "    u, s, v = np.linalg.svd(victim)\n",
    "    start = time.time()\n",
    "    state1 = to_state(u[:, 0])\n",
    "    state2 = to_state(v[0, :].T)\n",
    "    separatetime = time.time() - start\n",
    "    max_mem = max(max_mem, get_mem())\n",
    "\n",
    "    return {\n",
    "        \"search_time\": searchtime,\n",
    "        \"separate_time\": separatetime,\n",
    "        \"entanglement\": result,\n",
    "        \"min_qubit\": minqubit,\n",
    "        \"state1\": state1 if returnStates else None,\n",
    "        \"state2\": state2 if returnStates else None,\n",
    "        \"memory\": max_mem - min_mem,\n",
    "        \"state0\": T.reshape(-1) if returnStates else None\n",
    "    }\n",
    "\n",
    "\n",
    "print(test_svd(13, seed=12))"
   ]
  },
  {
   "cell_type": "markdown",
   "id": "0c0b1abf-d848-4c00-9139-a22e1a9d62de",
   "metadata": {},
   "source": [
    "# Tucker + reduction"
   ]
  },
  {
   "cell_type": "code",
   "execution_count": 6,
   "id": "fc97aa42-d902-410f-b3c5-07be9bb102ea",
   "metadata": {},
   "outputs": [
    {
     "name": "stdout",
     "output_type": "stream",
     "text": [
      "{'search_time': 0.833388090133667, 'separate_time': 0.0061609745025634766, 'entanglement': [array(0.20172854), array(0.19922641), array(0.1994618), array(0.19980421), array(0.20072013), array(8.74485915e-05), array(0.201299), array(0.19912068), array(0.20110123), array(0.19940567), array(0.19945356), array(0.20182796), array(0.19972769), array(0.19914872), array(0.19987024), array(0.20023147)], 'min_qubit': 5, 'state1': None, 'state2': None, 'memory': 33488896, 'state0': None}\n"
     ]
    }
   ],
   "source": [
    "def test_ncon(nqubits, seed, returnStates=False):\n",
    "    np.random.seed(seed)\n",
    "    T = prepare_bipartite_tensor(nqubits - 1, 1)\n",
    "    # gc.collect()\n",
    "    min_mem = get_mem()\n",
    "    max_mem = min_mem\n",
    "\n",
    "    result = []\n",
    "    \n",
    "    start = time.time()\n",
    "    \n",
    "    c, m = decomposition.tucker(T, rank=T.shape)\n",
    "    max_mem = max(max_mem, get_mem())\n",
    "\n",
    "    cabs = abs(c)\n",
    "    plus = np.array([1, 1]) * .5 ** .5\n",
    "    one = np.array([0, 1])\n",
    "\n",
    "    contractions = []\n",
    "    # outgoing contractions of core tensor\n",
    "    contractions.append(list(range(1, T.ndim + 1)))\n",
    "    # measurements\n",
    "    contractions += [[q] for q in contractions[0]]\n",
    "\n",
    "\n",
    "    for i in range(T.ndim):\n",
    "        # for each mode i we will replace m[i] with I tensor\n",
    "        # while for the others we will contract to |+>\n",
    "        measurements = [plus] * T.ndim\n",
    "        measurements[i] = one        \n",
    "        tensors = [cabs] + measurements\n",
    "        # hang a free leg\n",
    "        result.append(ncon(tensors, contractions))\n",
    "        max_mem = max(max_mem, get_mem())\n",
    "\n",
    "\n",
    "    searchtime = time.time() - start\n",
    "    \n",
    "    minqubit = np.argmin(result)\n",
    "        \n",
    "    start = time.time()\n",
    "    state1 = to_state(m[minqubit][:, 0].reshape(-1))\n",
    "    contractions = []\n",
    "    contractions.append(list(range(1, T.ndim + 1)))\n",
    "    contractions += [[q, -q] for q in contractions[0]]    \n",
    "    m[minqubit] = state1\n",
    "    contractions[minqubit + 1] = [minqubit + 1]\n",
    "    state2 = to_state(ncon([c] + m, contractions).reshape(-1))\n",
    "    separatetime = time.time() - start\n",
    "    max_mem = max(max_mem, get_mem())\n",
    "    \n",
    "    return {\n",
    "        \"search_time\": searchtime,\n",
    "        \"separate_time\": separatetime,\n",
    "        \"entanglement\": result,\n",
    "        \"min_qubit\": minqubit,\n",
    "        \"state1\": state1 if returnStates else None,\n",
    "        \"state2\": state2 if returnStates else None,\n",
    "        \"memory\": max_mem - min_mem,\n",
    "        \"state0\": T.reshape(-1) if returnStates else None\n",
    "    }\n",
    "\n",
    "\n",
    "print(test_ncon(16, seed=12))"
   ]
  },
  {
   "cell_type": "markdown",
   "id": "6538a9ba-2c1f-45c4-9598-468d01fba774",
   "metadata": {
    "tags": []
   },
   "source": [
    "# Tucker + count"
   ]
  },
  {
   "cell_type": "code",
   "execution_count": 7,
   "id": "280e3de1-7503-481b-8387-f22ea1fa717e",
   "metadata": {},
   "outputs": [
    {
     "name": "stdout",
     "output_type": "stream",
     "text": [
      "{'search_time': 0.16744613647460938, 'separate_time': 0.0012660026550292969, 'entanglement': [0.1260911295145393, 0.12659870507631868, 1.3708911576921328e-09, 0.12181725468346796, 0.123423486542552, 0.12224504036033522, 0.12865408447400856, 0.12810620514600368, 0.1274167673739769, 0.12703991485712493, 0.1241630669158665, 0.12518487252809224, 0.12731317982459261], 'min_qubit': 2, 'state1': None, 'state2': None, 'memory': 1552384, 'state0': None}\n"
     ]
    }
   ],
   "source": [
    "def get_singular_sum(core):\n",
    "    import itertools\n",
    "    from collections import Counter\n",
    "    result = np.zeros((core.ndim,))\n",
    "    for index in itertools.product([0, 1], repeat=core.ndim):\n",
    "        for i, v in enumerate(index):\n",
    "            if v == 1: \n",
    "                result[i] += abs(core[index]) ** 2\n",
    "    return result.tolist()\n",
    "\n",
    "\n",
    "def test_counting(nqubits, seed, returnStates=False):\n",
    "    np.random.seed(seed)\n",
    "    T = prepare_bipartite_tensor(nqubits - 1, 1)\n",
    "    # gc.collect()\n",
    "    min_mem = get_mem()\n",
    "    max_mem = min_mem\n",
    "\n",
    "    result = []\n",
    "    \n",
    "    start = time.time()\n",
    "    c, m = decomposition.tucker(T, rank=T.shape)\n",
    "    result = get_singular_sum(c)\n",
    "    searchtime = time.time() - start\n",
    "    max_mem = max(max_mem, get_mem())\n",
    "    \n",
    "    minqubit = np.argmin(result)\n",
    "        \n",
    "    start = time.time()\n",
    "    state1 = to_state(m[minqubit][:, 0].reshape(-1))\n",
    "    contractions = []\n",
    "    contractions.append(list(range(1, T.ndim + 1)))\n",
    "    contractions += [[q, -q] for q in contractions[0]]\n",
    "    m[minqubit] = state1\n",
    "    contractions[minqubit + 1] = [minqubit + 1]\n",
    "    state2 = to_state(ncon([c] + m, contractions).reshape(-1))\n",
    "    separatetime = time.time() - start\n",
    "    max_mem = max(max_mem, get_mem())\n",
    "    \n",
    "    return {\n",
    "        \"search_time\": searchtime,\n",
    "        \"separate_time\": separatetime,\n",
    "        \"entanglement\": result,\n",
    "        \"min_qubit\": minqubit,\n",
    "        \"state1\": state1 if returnStates else None,\n",
    "        \"state2\": state2 if returnStates else None,\n",
    "        \"memory\": max_mem - min_mem,\n",
    "        \"state0\": T.reshape(-1) if returnStates else None\n",
    "    }\n",
    "\n",
    "\n",
    "print(test_counting(13, seed=12))"
   ]
  },
  {
   "cell_type": "markdown",
   "id": "1119f70c-daa1-4d80-a58b-1b541bd5f710",
   "metadata": {},
   "source": [
    "## Correctness validation"
   ]
  },
  {
   "cell_type": "code",
   "execution_count": 8,
   "id": "cccba881-3b59-4b51-b756-b1ab64b32881",
   "metadata": {},
   "outputs": [
    {
     "name": "stdout",
     "output_type": "stream",
     "text": [
      "\n",
      "SVD\n",
      "Qubit = 6\n",
      "NCON\n",
      "Qubit = 6\n",
      "Count\n",
      "Qubit = 6\n",
      "\n",
      "SVD\n",
      "Qubit = 6\n",
      "NCON\n",
      "Qubit = 6\n",
      "Count\n",
      "Qubit = 6\n",
      "\n",
      "SVD\n",
      "Qubit = 3\n",
      "NCON\n",
      "Qubit = 3\n",
      "Count\n",
      "Qubit = 3\n",
      "\n",
      "SVD\n",
      "Qubit = 4\n",
      "NCON\n",
      "Qubit = 4\n",
      "Count\n",
      "Qubit = 4\n",
      "\n",
      "SVD\n",
      "Qubit = 1\n",
      "NCON\n",
      "Qubit = 1\n",
      "Count\n",
      "Qubit = 1\n",
      "\n",
      "SVD\n",
      "Qubit = 6\n",
      "NCON\n",
      "Qubit = 6\n",
      "Count\n",
      "Qubit = 6\n",
      "\n",
      "SVD\n",
      "Qubit = 6\n",
      "NCON\n",
      "Qubit = 6\n",
      "Count\n",
      "Qubit = 6\n",
      "\n",
      "SVD\n",
      "Qubit = 1\n",
      "NCON\n",
      "Qubit = 1\n",
      "Count\n",
      "Qubit = 1\n",
      "\n",
      "SVD\n",
      "Qubit = 3\n",
      "NCON\n",
      "Qubit = 3\n",
      "Count\n",
      "Qubit = 3\n",
      "\n",
      "SVD\n",
      "Qubit = 2\n",
      "NCON\n",
      "Qubit = 2\n",
      "Count\n",
      "Qubit = 2\n",
      "\n",
      "SVD\n",
      "Qubit = 9\n",
      "NCON\n",
      "Qubit = 9\n",
      "Count\n",
      "Qubit = 9\n",
      "\n",
      "SVD\n",
      "Qubit = 0\n",
      "NCON\n",
      "Qubit = 0\n",
      "Count\n",
      "Qubit = 0\n",
      "\n",
      "SVD\n",
      "Qubit = 4\n",
      "NCON\n",
      "Qubit = 4\n",
      "Count\n",
      "Qubit = 4\n",
      "\n",
      "SVD\n",
      "Qubit = 8\n",
      "NCON\n",
      "Qubit = 8\n",
      "Count\n",
      "Qubit = 8\n",
      "\n",
      "SVD\n",
      "Qubit = 6\n",
      "NCON\n",
      "Qubit = 6\n",
      "Count\n",
      "Qubit = 6\n",
      "\n",
      "SVD\n",
      "Qubit = 4\n",
      "NCON\n",
      "Qubit = 4\n",
      "Count\n",
      "Qubit = 4\n",
      "\n",
      "SVD\n",
      "Qubit = 7\n",
      "NCON\n",
      "Qubit = 7\n",
      "Count\n",
      "Qubit = 7\n",
      "\n",
      "SVD\n",
      "Qubit = 8\n",
      "NCON\n",
      "Qubit = 8\n",
      "Count\n",
      "Qubit = 8\n",
      "\n",
      "SVD\n",
      "Qubit = 7\n",
      "NCON\n",
      "Qubit = 7\n",
      "Count\n",
      "Qubit = 7\n",
      "\n",
      "SVD\n",
      "Qubit = 6\n",
      "NCON\n",
      "Qubit = 6\n",
      "Count\n",
      "Qubit = 6\n"
     ]
    }
   ],
   "source": [
    "sizes = [7, 10]\n",
    "attempts = 10\n",
    "\n",
    "for size in sizes:\n",
    "    for attempt in range(attempts):\n",
    "        print()\n",
    "        r = test_svd(size, seed=attempt, returnStates=True)\n",
    "        print(\"SVD\")\n",
    "        print(f\"Qubit = {r['min_qubit']}\")\n",
    "        # s0 = to_tensor(r['state0'])\n",
    "        # s1 = to_tensor(r['state1'])\n",
    "        # s2 = to_tensor(r['state2'])\n",
    "        # s = recombine(s1, s2, r['min_qubit']).reshape(-1)        \n",
    "        # print(f\"Fidelity = {quantum_info.state_fidelity(to_state(s), to_state(r['state0']))}\")\n",
    "\n",
    "        r = test_ncon(size, seed=attempt, returnStates=True)\n",
    "        print(\"NCON\")\n",
    "        print(f\"Qubit = {r['min_qubit']}\")\n",
    "        # s0 = to_tensor(r['state0'])\n",
    "        # s1 = to_tensor(r['state1'])\n",
    "        # s2 = to_tensor(r['state2'])\n",
    "        # s = recombine(s1, s2, r['min_qubit']).reshape(-1)        \n",
    "        # print(f\"Fidelity = {quantum_info.state_fidelity(to_state(s), to_state(r['state0']))}\")\n",
    "\n",
    "        \n",
    "        r = test_counting(size, seed=attempt, returnStates=True)\n",
    "        print(\"Count\")\n",
    "        print(f\"Qubit = {r['min_qubit']}\")\n",
    "        # s0 = to_tensor(r['state0'])\n",
    "        # s1 = to_tensor(r['state1'])\n",
    "        # s2 = to_tensor(r['state2'])\n",
    "        # s = recombine(s1, s2, r['min_qubit']).reshape(-1)        \n",
    "        # print(f\"Fidelity = {quantum_info.state_fidelity(to_state(s), to_state(r['state0']))}\")\n"
   ]
  },
  {
   "cell_type": "code",
   "execution_count": 9,
   "id": "8116911a-d958-4906-afe0-882f88c4c7d3",
   "metadata": {},
   "outputs": [],
   "source": [
    "sizes = [2, 3, 4, 5, 6, 7, 8, 9, 10, 11, 12, 13, 14, 15, 16, 17, 18, 19, 20]\n",
    "attempts = 25"
   ]
  },
  {
   "cell_type": "code",
   "execution_count": 11,
   "id": "af47cfa9-7e73-4020-bea9-cee3253e74cc",
   "metadata": {},
   "outputs": [
    {
     "name": "stdout",
     "output_type": "stream",
     "text": [
      "Size 2\n"
     ]
    },
    {
     "name": "stderr",
     "output_type": "stream",
     "text": [
      "100%|██████████| 25/25 [00:00<00:00, 1888.34it/s]\n"
     ]
    },
    {
     "name": "stdout",
     "output_type": "stream",
     "text": [
      "Size 3\n"
     ]
    },
    {
     "name": "stderr",
     "output_type": "stream",
     "text": [
      "100%|██████████| 25/25 [00:00<00:00, 1752.04it/s]\n"
     ]
    },
    {
     "name": "stdout",
     "output_type": "stream",
     "text": [
      "Size 4\n"
     ]
    },
    {
     "name": "stderr",
     "output_type": "stream",
     "text": [
      "100%|██████████| 25/25 [00:00<00:00, 1463.80it/s]\n"
     ]
    },
    {
     "name": "stdout",
     "output_type": "stream",
     "text": [
      "Size 5\n"
     ]
    },
    {
     "name": "stderr",
     "output_type": "stream",
     "text": [
      "100%|██████████| 25/25 [00:00<00:00, 1639.55it/s]\n"
     ]
    },
    {
     "name": "stdout",
     "output_type": "stream",
     "text": [
      "Size 6\n"
     ]
    },
    {
     "name": "stderr",
     "output_type": "stream",
     "text": [
      "100%|██████████| 25/25 [00:00<00:00, 1282.38it/s]\n"
     ]
    },
    {
     "name": "stdout",
     "output_type": "stream",
     "text": [
      "Size 7\n"
     ]
    },
    {
     "name": "stderr",
     "output_type": "stream",
     "text": [
      "100%|██████████| 25/25 [00:00<00:00, 803.11it/s]\n"
     ]
    },
    {
     "name": "stdout",
     "output_type": "stream",
     "text": [
      "Size 8\n"
     ]
    },
    {
     "name": "stderr",
     "output_type": "stream",
     "text": [
      "100%|██████████| 25/25 [00:00<00:00, 182.45it/s]\n"
     ]
    },
    {
     "name": "stdout",
     "output_type": "stream",
     "text": [
      "Size 9\n"
     ]
    },
    {
     "name": "stderr",
     "output_type": "stream",
     "text": [
      "100%|██████████| 25/25 [00:00<00:00, 70.34it/s]\n"
     ]
    },
    {
     "name": "stdout",
     "output_type": "stream",
     "text": [
      "Size 10\n"
     ]
    },
    {
     "name": "stderr",
     "output_type": "stream",
     "text": [
      "100%|██████████| 25/25 [00:01<00:00, 19.58it/s]\n"
     ]
    },
    {
     "name": "stdout",
     "output_type": "stream",
     "text": [
      "Size 11\n"
     ]
    },
    {
     "name": "stderr",
     "output_type": "stream",
     "text": [
      "100%|██████████| 25/25 [00:04<00:00,  5.22it/s]\n"
     ]
    },
    {
     "name": "stdout",
     "output_type": "stream",
     "text": [
      "Size 12\n"
     ]
    },
    {
     "name": "stderr",
     "output_type": "stream",
     "text": [
      "100%|██████████| 25/25 [00:15<00:00,  1.63it/s]\n"
     ]
    },
    {
     "name": "stdout",
     "output_type": "stream",
     "text": [
      "Size 13\n"
     ]
    },
    {
     "name": "stderr",
     "output_type": "stream",
     "text": [
      "100%|██████████| 25/25 [01:33<00:00,  3.73s/it]\n"
     ]
    },
    {
     "name": "stdout",
     "output_type": "stream",
     "text": [
      "Size 14\n"
     ]
    },
    {
     "name": "stderr",
     "output_type": "stream",
     "text": [
      "100%|██████████| 25/25 [05:53<00:00, 14.12s/it]\n"
     ]
    },
    {
     "name": "stdout",
     "output_type": "stream",
     "text": [
      "Size 15\n"
     ]
    },
    {
     "name": "stderr",
     "output_type": "stream",
     "text": [
      "100%|██████████| 10/10 [25:29<00:00, 152.97s/it]\n"
     ]
    }
   ],
   "source": [
    "svd_results = {}\n",
    "\n",
    "for i in sizes:\n",
    "    lattempts = attempts\n",
    "    if i == 15: lattempts = 10\n",
    "    if i > 15: continue\n",
    "        \n",
    "    svd_results[i] = []\n",
    "    print(f\"Size {i}\")\n",
    "    for attempt in tqdm(range(lattempts)):\n",
    "        svd_results[i].append(test_svd(nqubits=i, seed=attempt))"
   ]
  },
  {
   "cell_type": "code",
   "execution_count": 12,
   "id": "7af9bdee-b415-4302-b928-683b600bfe1e",
   "metadata": {},
   "outputs": [
    {
     "name": "stdout",
     "output_type": "stream",
     "text": [
      "Size 2\n"
     ]
    },
    {
     "name": "stderr",
     "output_type": "stream",
     "text": [
      "100%|██████████| 25/25 [00:00<00:00, 560.65it/s]\n"
     ]
    },
    {
     "name": "stdout",
     "output_type": "stream",
     "text": [
      "Size 3\n"
     ]
    },
    {
     "name": "stderr",
     "output_type": "stream",
     "text": [
      "100%|██████████| 25/25 [00:00<00:00, 491.10it/s]\n"
     ]
    },
    {
     "name": "stdout",
     "output_type": "stream",
     "text": [
      "Size 4\n"
     ]
    },
    {
     "name": "stderr",
     "output_type": "stream",
     "text": [
      "100%|██████████| 25/25 [00:00<00:00, 380.36it/s]\n"
     ]
    },
    {
     "name": "stdout",
     "output_type": "stream",
     "text": [
      "Size 5\n"
     ]
    },
    {
     "name": "stderr",
     "output_type": "stream",
     "text": [
      "100%|██████████| 25/25 [00:00<00:00, 268.91it/s]\n"
     ]
    },
    {
     "name": "stdout",
     "output_type": "stream",
     "text": [
      "Size 6\n"
     ]
    },
    {
     "name": "stderr",
     "output_type": "stream",
     "text": [
      "100%|██████████| 25/25 [00:00<00:00, 188.16it/s]\n"
     ]
    },
    {
     "name": "stdout",
     "output_type": "stream",
     "text": [
      "Size 7\n"
     ]
    },
    {
     "name": "stderr",
     "output_type": "stream",
     "text": [
      "100%|██████████| 25/25 [00:00<00:00, 129.55it/s]\n"
     ]
    },
    {
     "name": "stdout",
     "output_type": "stream",
     "text": [
      "Size 8\n"
     ]
    },
    {
     "name": "stderr",
     "output_type": "stream",
     "text": [
      "100%|██████████| 25/25 [00:00<00:00, 84.91it/s]\n"
     ]
    },
    {
     "name": "stdout",
     "output_type": "stream",
     "text": [
      "Size 9\n"
     ]
    },
    {
     "name": "stderr",
     "output_type": "stream",
     "text": [
      "100%|██████████| 25/25 [00:00<00:00, 53.81it/s]\n"
     ]
    },
    {
     "name": "stdout",
     "output_type": "stream",
     "text": [
      "Size 10\n"
     ]
    },
    {
     "name": "stderr",
     "output_type": "stream",
     "text": [
      "100%|██████████| 25/25 [00:00<00:00, 37.16it/s]\n"
     ]
    },
    {
     "name": "stdout",
     "output_type": "stream",
     "text": [
      "Size 11\n"
     ]
    },
    {
     "name": "stderr",
     "output_type": "stream",
     "text": [
      "100%|██████████| 25/25 [00:01<00:00, 22.12it/s]\n"
     ]
    },
    {
     "name": "stdout",
     "output_type": "stream",
     "text": [
      "Size 12\n"
     ]
    },
    {
     "name": "stderr",
     "output_type": "stream",
     "text": [
      "100%|██████████| 25/25 [00:01<00:00, 13.04it/s]\n"
     ]
    },
    {
     "name": "stdout",
     "output_type": "stream",
     "text": [
      "Size 13\n"
     ]
    },
    {
     "name": "stderr",
     "output_type": "stream",
     "text": [
      "100%|██████████| 25/25 [00:03<00:00,  7.16it/s]\n"
     ]
    },
    {
     "name": "stdout",
     "output_type": "stream",
     "text": [
      "Size 14\n"
     ]
    },
    {
     "name": "stderr",
     "output_type": "stream",
     "text": [
      "100%|██████████| 25/25 [00:06<00:00,  3.69it/s]\n"
     ]
    },
    {
     "name": "stdout",
     "output_type": "stream",
     "text": [
      "Size 15\n"
     ]
    },
    {
     "name": "stderr",
     "output_type": "stream",
     "text": [
      "100%|██████████| 25/25 [05:14<00:00, 12.57s/it]\n"
     ]
    },
    {
     "name": "stdout",
     "output_type": "stream",
     "text": [
      "Size 16\n"
     ]
    },
    {
     "name": "stderr",
     "output_type": "stream",
     "text": [
      "100%|██████████| 25/25 [00:25<00:00,  1.02s/it]\n"
     ]
    },
    {
     "name": "stdout",
     "output_type": "stream",
     "text": [
      "Size 17\n"
     ]
    },
    {
     "name": "stderr",
     "output_type": "stream",
     "text": [
      "100%|██████████| 25/25 [00:50<00:00,  2.01s/it]\n"
     ]
    },
    {
     "name": "stdout",
     "output_type": "stream",
     "text": [
      "Size 18\n"
     ]
    },
    {
     "name": "stderr",
     "output_type": "stream",
     "text": [
      "100%|██████████| 25/25 [01:42<00:00,  4.09s/it]\n"
     ]
    },
    {
     "name": "stdout",
     "output_type": "stream",
     "text": [
      "Size 19\n"
     ]
    },
    {
     "name": "stderr",
     "output_type": "stream",
     "text": [
      "100%|██████████| 25/25 [03:42<00:00,  8.92s/it]\n"
     ]
    },
    {
     "name": "stdout",
     "output_type": "stream",
     "text": [
      "Size 20\n"
     ]
    },
    {
     "name": "stderr",
     "output_type": "stream",
     "text": [
      "100%|██████████| 25/25 [08:32<00:00, 20.49s/it]\n"
     ]
    }
   ],
   "source": [
    "contraction_results = {}\n",
    "\n",
    "for i in sizes:\n",
    "    contraction_results[i] = []\n",
    "    print(f\"Size {i}\")\n",
    "    for attempt in tqdm(range(attempts)):\n",
    "        contraction_results[i].append(test_ncon(nqubits=i, seed=attempt))"
   ]
  },
  {
   "cell_type": "code",
   "execution_count": 13,
   "id": "7c375b43-2587-4a84-9932-245ff1783c37",
   "metadata": {},
   "outputs": [
    {
     "name": "stdout",
     "output_type": "stream",
     "text": [
      "Size 2\n"
     ]
    },
    {
     "name": "stderr",
     "output_type": "stream",
     "text": [
      "100%|██████████| 25/25 [00:00<00:00, 597.32it/s]\n"
     ]
    },
    {
     "name": "stdout",
     "output_type": "stream",
     "text": [
      "Size 3\n"
     ]
    },
    {
     "name": "stderr",
     "output_type": "stream",
     "text": [
      "100%|██████████| 25/25 [00:00<00:00, 396.90it/s]\n"
     ]
    },
    {
     "name": "stdout",
     "output_type": "stream",
     "text": [
      "Size 4\n"
     ]
    },
    {
     "name": "stderr",
     "output_type": "stream",
     "text": [
      "100%|██████████| 25/25 [00:00<00:00, 312.49it/s]\n"
     ]
    },
    {
     "name": "stdout",
     "output_type": "stream",
     "text": [
      "Size 5\n"
     ]
    },
    {
     "name": "stderr",
     "output_type": "stream",
     "text": [
      "100%|██████████| 25/25 [00:00<00:00, 258.37it/s]\n"
     ]
    },
    {
     "name": "stdout",
     "output_type": "stream",
     "text": [
      "Size 6\n"
     ]
    },
    {
     "name": "stderr",
     "output_type": "stream",
     "text": [
      "100%|██████████| 25/25 [00:00<00:00, 183.83it/s]\n"
     ]
    },
    {
     "name": "stdout",
     "output_type": "stream",
     "text": [
      "Size 7\n"
     ]
    },
    {
     "name": "stderr",
     "output_type": "stream",
     "text": [
      "100%|██████████| 25/25 [00:00<00:00, 117.22it/s]\n"
     ]
    },
    {
     "name": "stdout",
     "output_type": "stream",
     "text": [
      "Size 8\n"
     ]
    },
    {
     "name": "stderr",
     "output_type": "stream",
     "text": [
      "100%|██████████| 25/25 [00:00<00:00, 78.40it/s]\n"
     ]
    },
    {
     "name": "stdout",
     "output_type": "stream",
     "text": [
      "Size 9\n"
     ]
    },
    {
     "name": "stderr",
     "output_type": "stream",
     "text": [
      "100%|██████████| 25/25 [00:00<00:00, 53.20it/s]\n"
     ]
    },
    {
     "name": "stdout",
     "output_type": "stream",
     "text": [
      "Size 10\n"
     ]
    },
    {
     "name": "stderr",
     "output_type": "stream",
     "text": [
      "100%|██████████| 25/25 [00:00<00:00, 31.61it/s]\n"
     ]
    },
    {
     "name": "stdout",
     "output_type": "stream",
     "text": [
      "Size 11\n"
     ]
    },
    {
     "name": "stderr",
     "output_type": "stream",
     "text": [
      "100%|██████████| 25/25 [00:01<00:00, 21.31it/s]\n"
     ]
    },
    {
     "name": "stdout",
     "output_type": "stream",
     "text": [
      "Size 12\n"
     ]
    },
    {
     "name": "stderr",
     "output_type": "stream",
     "text": [
      "100%|██████████| 25/25 [00:02<00:00, 12.28it/s]\n"
     ]
    },
    {
     "name": "stdout",
     "output_type": "stream",
     "text": [
      "Size 13\n"
     ]
    },
    {
     "name": "stderr",
     "output_type": "stream",
     "text": [
      "100%|██████████| 25/25 [00:03<00:00,  6.91it/s]\n"
     ]
    },
    {
     "name": "stdout",
     "output_type": "stream",
     "text": [
      "Size 14\n"
     ]
    },
    {
     "name": "stderr",
     "output_type": "stream",
     "text": [
      "100%|██████████| 25/25 [00:07<00:00,  3.46it/s]\n"
     ]
    },
    {
     "name": "stdout",
     "output_type": "stream",
     "text": [
      "Size 15\n"
     ]
    },
    {
     "name": "stderr",
     "output_type": "stream",
     "text": [
      "100%|██████████| 25/25 [00:13<00:00,  1.84it/s]\n"
     ]
    },
    {
     "name": "stdout",
     "output_type": "stream",
     "text": [
      "Size 16\n"
     ]
    },
    {
     "name": "stderr",
     "output_type": "stream",
     "text": [
      "100%|██████████| 25/25 [00:27<00:00,  1.10s/it]\n"
     ]
    },
    {
     "name": "stdout",
     "output_type": "stream",
     "text": [
      "Size 17\n"
     ]
    },
    {
     "name": "stderr",
     "output_type": "stream",
     "text": [
      "100%|██████████| 25/25 [00:54<00:00,  2.17s/it]\n"
     ]
    },
    {
     "name": "stdout",
     "output_type": "stream",
     "text": [
      "Size 18\n"
     ]
    },
    {
     "name": "stderr",
     "output_type": "stream",
     "text": [
      "100%|██████████| 25/25 [01:49<00:00,  4.39s/it]\n"
     ]
    },
    {
     "name": "stdout",
     "output_type": "stream",
     "text": [
      "Size 19\n"
     ]
    },
    {
     "name": "stderr",
     "output_type": "stream",
     "text": [
      "100%|██████████| 25/25 [08:53<00:00, 21.32s/it]\n"
     ]
    },
    {
     "name": "stdout",
     "output_type": "stream",
     "text": [
      "Size 20\n"
     ]
    },
    {
     "name": "stderr",
     "output_type": "stream",
     "text": [
      "100%|██████████| 25/25 [07:54<00:00, 18.97s/it]\n"
     ]
    }
   ],
   "source": [
    "counting_results = {}\n",
    "\n",
    "for i in sizes:\n",
    "    counting_results[i] = []\n",
    "    print(f\"Size {i}\")\n",
    "    for attempt in tqdm(range(attempts)):\n",
    "        counting_results[i].append(test_ncon(nqubits=i, seed=attempt))"
   ]
  },
  {
   "cell_type": "code",
   "execution_count": 14,
   "id": "4879a983-2241-4d3c-b74c-fff969eadf81",
   "metadata": {},
   "outputs": [],
   "source": [
    "import pickle\n",
    "\n",
    "with open(\"dump.pkl\", 'wb') as f:\n",
    "    pickle.dump({\"svd\" : svd_results, \"contraction\": contraction_results, \"counting\": counting_results}, f)"
   ]
  },
  {
   "cell_type": "markdown",
   "id": "c29a3809-67e4-472b-838e-2fa2f078c7e0",
   "metadata": {},
   "source": [
    "## Search time"
   ]
  },
  {
   "cell_type": "code",
   "execution_count": 22,
   "id": "71ca548d-bc28-467e-86d0-e05963991d38",
   "metadata": {},
   "outputs": [
    {
     "data": {
      "image/png": "[encoded data removed]",
      "text/plain": [
       "<Figure size 864x432 with 1 Axes>"
      ]
     },
     "metadata": {
      "needs_background": "light"
     },
     "output_type": "display_data"
    }
   ],
   "source": [
    "import matplotlib.pyplot as plt\n",
    "import matplotlib\n",
    "matplotlib.rcParams['font.size'] = 18\n",
    "\n",
    "\n",
    "graphs = {\"svd\" : svd_results, \"contraction\": contraction_results, \"counting\": counting_results}\n",
    "colors = ['red', 'blue', 'green']\n",
    "\n",
    "plt.figure(figsize=(12, 6))\n",
    "\n",
    "for g, graph in enumerate(graphs):\n",
    "    low, c, high = [], [], []\n",
    "\n",
    "    for i in sizes:\n",
    "        if i not in graphs[graph]: continue\n",
    "        times = [x['search_time'] for x in graphs[graph][i]]\n",
    "        avg = (sum(times) - min(times) - max(times)) / (len(times) - 2)\n",
    "        std = (\n",
    "                sum([(t - avg) ** 2 for t in times])\n",
    "                    - (max(times) - avg) ** 2 \n",
    "                    - (min(times) - avg) ** 2\n",
    "                ) / (len(times) - 2) ** .5\n",
    "        c.append(avg)\n",
    "        low.append(avg - std)\n",
    "        high.append(avg + std)\n",
    "    plt.plot(sizes[:len(c)], c, color=colors[g], label=graph, lw=2)\n",
    "    plt.fill_between(sizes[:len(c)], low, high, color=colors[g], alpha=.1)\n",
    "\n",
    "\n",
    "plt.xlabel(\"Qubits\")\n",
    "plt.ylabel(\"Time, sec\")\n",
    "plt.xticks(sizes[:len(c)])\n",
    "plt.yscale('log')\n",
    "plt.grid()\n",
    "plt.legend()\n",
    "plt.show()"
   ]
  },
  {
   "cell_type": "markdown",
   "id": "163fe3d3-0ede-45b9-9c33-51b1c523ac2a",
   "metadata": {},
   "source": [
    "## Decomposition time"
   ]
  },
  {
   "cell_type": "code",
   "execution_count": 24,
   "id": "d565db65-5277-4996-bcd5-13d82cd40560",
   "metadata": {},
   "outputs": [
    {
     "data": {
      "image/png": "[encoded data removed]",
      "text/plain": [
       "<Figure size 864x432 with 1 Axes>"
      ]
     },
     "metadata": {
      "needs_background": "light"
     },
     "output_type": "display_data"
    }
   ],
   "source": [
    "graphs = {\"svd\" : svd_results, \"contraction\": contraction_results, \"counting\": counting_results}\n",
    "colors = ['red', 'blue', 'green']\n",
    "\n",
    "plt.figure(figsize=(12, 6))\n",
    "\n",
    "for g, graph in enumerate(graphs):\n",
    "    low, c, high = [], [], []\n",
    "\n",
    "    for i in sizes:\n",
    "        if i not in graphs[graph]: continue\n",
    "        times = [x['separate_time'] for x in graphs[graph][i]]\n",
    "        avg = (sum(times) - min(times) - max(times)) / (len(times) - 2)\n",
    "        std = (\n",
    "                sum([(t - avg) ** 2 for t in times])\n",
    "                    - (max(times) - avg) ** 2 \n",
    "                    - (min(times) - avg) ** 2\n",
    "                ) / (len(times) - 2) ** .5        \n",
    "        c.append(avg)\n",
    "        low.append(avg - std)\n",
    "        high.append(avg + std)\n",
    "\n",
    "    plt.plot(sizes[:len(c)], c, color=colors[g], label=graph, lw=2)\n",
    "    plt.fill_between(sizes[:len(c)], low, high, color=colors[g], alpha=.1)\n",
    "\n",
    "plt.xlabel(\"Qubits\")\n",
    "plt.ylabel(\"Time, sec\")\n",
    "plt.xticks(sizes[:len(c)])\n",
    "plt.yscale('log')\n",
    "plt.grid()\n",
    "plt.legend()\n",
    "plt.show()"
   ]
  },
  {
   "cell_type": "markdown",
   "id": "6789076a-210f-4bda-99c5-b0a511215f54",
   "metadata": {},
   "source": [
    "## Total time"
   ]
  },
  {
   "cell_type": "code",
   "execution_count": 25,
   "id": "1f8b2907-b8f7-4926-afde-095593cf66bd",
   "metadata": {},
   "outputs": [
    {
     "data": {
      "image/png": "[encoded data removed]",
      "text/plain": [
       "<Figure size 864x432 with 1 Axes>"
      ]
     },
     "metadata": {
      "needs_background": "light"
     },
     "output_type": "display_data"
    }
   ],
   "source": [
    "graphs = {\"svd\" : svd_results, \"contraction\": contraction_results, \"counting\": counting_results}\n",
    "colors = ['red', 'blue', 'green']\n",
    "\n",
    "plt.figure(figsize=(12, 6))\n",
    "\n",
    "for g, graph in enumerate(graphs):\n",
    "    low, c, high = [], [], []\n",
    "\n",
    "    for i in sizes:\n",
    "        if i not in graphs[graph]: continue\n",
    "        \n",
    "        times = [x['separate_time'] + x['search_time'] for x in graphs[graph][i]]\n",
    "        avg = (sum(times) - min(times) - max(times)) / (len(times) - 2)\n",
    "        std = (\n",
    "                sum([(t - avg) ** 2 for t in times])\n",
    "                    - (max(times) - avg) ** 2 \n",
    "                    - (min(times) - avg) ** 2\n",
    "                ) / (len(times) - 2) ** .5\n",
    "        c.append(avg)\n",
    "        low.append(avg - std)\n",
    "        high.append(avg + std)\n",
    "\n",
    "    plt.plot(sizes[:len(c)], c, color=colors[g], label=graph, lw=2)\n",
    "    plt.fill_between(sizes[:len(c)], low, high, color=colors[g], alpha=.1)\n",
    "\n",
    "\n",
    "plt.xlabel(\"Qubits\")\n",
    "plt.ylabel(\"Time, sec\")\n",
    "plt.xticks(sizes[:len(c)])\n",
    "plt.yscale('log')\n",
    "plt.grid()\n",
    "plt.legend()\n",
    "plt.show()"
   ]
  },
  {
   "cell_type": "markdown",
   "id": "6b388efb-e658-40f6-9d71-ef5b1dc24f02",
   "metadata": {},
   "source": [
    "## Memory"
   ]
  },
  {
   "cell_type": "code",
   "execution_count": 30,
   "id": "2ca4da50-b7fa-4c0f-8028-191d068ccfdc",
   "metadata": {},
   "outputs": [
    {
     "data": {
      "image/png": "[encoded data removed]",
      "text/plain": [
       "<Figure size 864x432 with 1 Axes>"
      ]
     },
     "metadata": {
      "needs_background": "light"
     },
     "output_type": "display_data"
    }
   ],
   "source": [
    "import matplotlib.pyplot as plt\n",
    "\n",
    "graphs = {\"svd\" : svd_results, \"contraction\": contraction_results, \"counting\": counting_results}\n",
    "colors = ['red', 'blue', 'green']\n",
    "\n",
    "plt.figure(figsize=(12, 6))\n",
    "\n",
    "for g, graph in enumerate(graphs):\n",
    "    low, c, high = [], [], []\n",
    "    for i in sizes:\n",
    "        if i not in graphs[graph]: continue\n",
    "        mems = [f['memory'] for f in graphs[graph][i]]\n",
    "        avg = max(mems + [0])\n",
    "        # std = sum([(m - avg) ** 2 for m in mems]) ** .5\n",
    "        c.append(avg)\n",
    "        # low.append(avg - std)\n",
    "        # high.append(avg + std)\n",
    "\n",
    "    plt.plot(sizes[:len(c)], c, color=colors[g], label=graph)\n",
    "    # plt.fill_between(sizes[:len(c)], low, high, color=colors[g], alpha=.1)\n",
    "\n",
    "plt.xlabel(\"Qubits\")\n",
    "plt.ylabel(\"Bytes\")\n",
    "plt.xticks(sizes[:len(c)])\n",
    "\n",
    "plt.yscale('log')\n",
    "plt.grid()\n",
    "plt.legend()\n",
    "plt.show()"
   ]
  }
 ],
 "metadata": {
  "kernelspec": {
   "display_name": "qiskit",
   "language": "python",
   "name": "qiskit"
  },
  "language_info": {
   "codemirror_mode": {
    "name": "ipython",
    "version": 3
   },
   "file_extension": ".py",
   "mimetype": "text/x-python",
   "name": "python",
   "nbconvert_exporter": "python",
   "pygments_lexer": "ipython3",
   "version": "3.9.7"
  }
 },
 "nbformat": 4,
 "nbformat_minor": 5
}
