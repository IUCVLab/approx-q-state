{
 "cells": [
  {
   "cell_type": "code",
   "execution_count": 1,
   "id": "6e4b6db9-a233-47dd-a27d-32b0e9cc23c0",
   "metadata": {},
   "outputs": [],
   "source": [
    "from sympy import Array, symbols, tensorproduct, tensorcontraction, permutedims, simplify, collect,tensordiagonal\n",
    "import numpy as np"
   ]
  },
  {
   "cell_type": "code",
   "execution_count": 2,
   "id": "5726f138-fe2d-45f6-93e5-16ac8bd6b4f3",
   "metadata": {},
   "outputs": [],
   "source": [
    "t = symbols(\"a_0 a_1 a_2 a_3 a_4 a_5 a_6 a_7 a_8 a_9 a_10 a_11 a_12 a_13 a_14 a_15\")\n",
    "u = symbols(\"u_0 u_1 u_2 u_3\")\n",
    "v = symbols(\"v_0 v_1 v_2 v_3\")\n",
    "w = symbols(\"w_0 w_1 w_2 w_3\")\n",
    "q = symbols(\"q_0 q_1 q_2 q_3\")"
   ]
  },
  {
   "cell_type": "code",
   "execution_count": 3,
   "id": "f7413376-16f8-4474-abb7-68b4c0eff11c",
   "metadata": {},
   "outputs": [],
   "source": [
    "CT = Array(t[:8]).reshape(2, 2, 2)\n",
    "U = Array(u).reshape(2, 2).tomatrix()\n",
    "V = Array(v).reshape(2, 2).tomatrix()\n",
    "W = Array(w).reshape(2, 2).tomatrix()\n",
    "Q = Array(q).reshape(2, 2).tomatrix()"
   ]
  },
  {
   "cell_type": "code",
   "execution_count": 4,
   "id": "0a7c7f63-24c3-4197-8a88-b875f1f1ca64",
   "metadata": {},
   "outputs": [
    {
     "data": {
      "text/latex": [
       "$\\displaystyle \\left[\\begin{matrix}\\left[\\begin{matrix}a_{0} u_{0} + a_{4} u_{1} & a_{1} u_{0} + a_{5} u_{1}\\\\a_{2} u_{0} + a_{6} u_{1} & a_{3} u_{0} + a_{7} u_{1}\\end{matrix}\\right] & \\left[\\begin{matrix}a_{0} u_{2} + a_{4} u_{3} & a_{1} u_{2} + a_{5} u_{3}\\\\a_{2} u_{2} + a_{6} u_{3} & a_{3} u_{2} + a_{7} u_{3}\\end{matrix}\\right]\\end{matrix}\\right]$"
      ],
      "text/plain": [
       "[[[a_0*u_0 + a_4*u_1, a_1*u_0 + a_5*u_1], [a_2*u_0 + a_6*u_1, a_3*u_0 + a_7*u_1]], [[a_0*u_2 + a_4*u_3, a_1*u_2 + a_5*u_3], [a_2*u_2 + a_6*u_3, a_3*u_2 + a_7*u_3]]]"
      ]
     },
     "execution_count": 4,
     "metadata": {},
     "output_type": "execute_result"
    }
   ],
   "source": [
    "UCT = Array(U @ CT.reshape(2, 4).tomatrix()).reshape(2, 2, 2)\n",
    "UCT"
   ]
  },
  {
   "cell_type": "code",
   "execution_count": 5,
   "id": "3a3e9255-9bc7-4069-af84-56b89cda573f",
   "metadata": {},
   "outputs": [
    {
     "data": {
      "text/latex": [
       "$\\displaystyle \\left[\\begin{matrix}\\left[\\begin{matrix}v_{0} \\left(a_{0} u_{0} + a_{4} u_{1}\\right) + v_{1} \\left(a_{2} u_{0} + a_{6} u_{1}\\right) & v_{0} \\left(a_{1} u_{0} + a_{5} u_{1}\\right) + v_{1} \\left(a_{3} u_{0} + a_{7} u_{1}\\right)\\\\v_{2} \\left(a_{0} u_{0} + a_{4} u_{1}\\right) + v_{3} \\left(a_{2} u_{0} + a_{6} u_{1}\\right) & v_{2} \\left(a_{1} u_{0} + a_{5} u_{1}\\right) + v_{3} \\left(a_{3} u_{0} + a_{7} u_{1}\\right)\\end{matrix}\\right] & \\left[\\begin{matrix}v_{0} \\left(a_{0} u_{2} + a_{4} u_{3}\\right) + v_{1} \\left(a_{2} u_{2} + a_{6} u_{3}\\right) & v_{0} \\left(a_{1} u_{2} + a_{5} u_{3}\\right) + v_{1} \\left(a_{3} u_{2} + a_{7} u_{3}\\right)\\\\v_{2} \\left(a_{0} u_{2} + a_{4} u_{3}\\right) + v_{3} \\left(a_{2} u_{2} + a_{6} u_{3}\\right) & v_{2} \\left(a_{1} u_{2} + a_{5} u_{3}\\right) + v_{3} \\left(a_{3} u_{2} + a_{7} u_{3}\\right)\\end{matrix}\\right]\\end{matrix}\\right]$"
      ],
      "text/plain": [
       "[[[v_0*(a_0*u_0 + a_4*u_1) + v_1*(a_2*u_0 + a_6*u_1), v_0*(a_1*u_0 + a_5*u_1) + v_1*(a_3*u_0 + a_7*u_1)], [v_2*(a_0*u_0 + a_4*u_1) + v_3*(a_2*u_0 + a_6*u_1), v_2*(a_1*u_0 + a_5*u_1) + v_3*(a_3*u_0 + a_7*u_1)]], [[v_0*(a_0*u_2 + a_4*u_3) + v_1*(a_2*u_2 + a_6*u_3), v_0*(a_1*u_2 + a_5*u_3) + v_1*(a_3*u_2 + a_7*u_3)], [v_2*(a_0*u_2 + a_4*u_3) + v_3*(a_2*u_2 + a_6*u_3), v_2*(a_1*u_2 + a_5*u_3) + v_3*(a_3*u_2 + a_7*u_3)]]]"
      ]
     },
     "execution_count": 5,
     "metadata": {},
     "output_type": "execute_result"
    }
   ],
   "source": [
    "UCT = permutedims(UCT, (1, 0, 2))\n",
    "UVCT = Array(V @ UCT.reshape(2, 4).tomatrix()).reshape(2, 2, 2)\n",
    "UCT = permutedims(UCT, (1, 0, 2))\n",
    "UVCT = permutedims(UVCT, (1, 0, 2))\n",
    "UVCT"
   ]
  },
  {
   "cell_type": "code",
   "execution_count": 6,
   "id": "cda1233e-0122-4dad-b423-749e6470c867",
   "metadata": {
    "tags": []
   },
   "outputs": [
    {
     "data": {
      "text/latex": [
       "$\\displaystyle \\left[\\begin{matrix}\\left[\\begin{matrix}w_{0} \\left(v_{0} \\left(a_{0} u_{0} + a_{4} u_{1}\\right) + v_{1} \\left(a_{2} u_{0} + a_{6} u_{1}\\right)\\right) + w_{1} \\left(v_{0} \\left(a_{1} u_{0} + a_{5} u_{1}\\right) + v_{1} \\left(a_{3} u_{0} + a_{7} u_{1}\\right)\\right) & w_{2} \\left(v_{0} \\left(a_{0} u_{0} + a_{4} u_{1}\\right) + v_{1} \\left(a_{2} u_{0} + a_{6} u_{1}\\right)\\right) + w_{3} \\left(v_{0} \\left(a_{1} u_{0} + a_{5} u_{1}\\right) + v_{1} \\left(a_{3} u_{0} + a_{7} u_{1}\\right)\\right)\\\\w_{0} \\left(v_{2} \\left(a_{0} u_{0} + a_{4} u_{1}\\right) + v_{3} \\left(a_{2} u_{0} + a_{6} u_{1}\\right)\\right) + w_{1} \\left(v_{2} \\left(a_{1} u_{0} + a_{5} u_{1}\\right) + v_{3} \\left(a_{3} u_{0} + a_{7} u_{1}\\right)\\right) & w_{2} \\left(v_{2} \\left(a_{0} u_{0} + a_{4} u_{1}\\right) + v_{3} \\left(a_{2} u_{0} + a_{6} u_{1}\\right)\\right) + w_{3} \\left(v_{2} \\left(a_{1} u_{0} + a_{5} u_{1}\\right) + v_{3} \\left(a_{3} u_{0} + a_{7} u_{1}\\right)\\right)\\end{matrix}\\right] & \\left[\\begin{matrix}w_{0} \\left(v_{0} \\left(a_{0} u_{2} + a_{4} u_{3}\\right) + v_{1} \\left(a_{2} u_{2} + a_{6} u_{3}\\right)\\right) + w_{1} \\left(v_{0} \\left(a_{1} u_{2} + a_{5} u_{3}\\right) + v_{1} \\left(a_{3} u_{2} + a_{7} u_{3}\\right)\\right) & w_{2} \\left(v_{0} \\left(a_{0} u_{2} + a_{4} u_{3}\\right) + v_{1} \\left(a_{2} u_{2} + a_{6} u_{3}\\right)\\right) + w_{3} \\left(v_{0} \\left(a_{1} u_{2} + a_{5} u_{3}\\right) + v_{1} \\left(a_{3} u_{2} + a_{7} u_{3}\\right)\\right)\\\\w_{0} \\left(v_{2} \\left(a_{0} u_{2} + a_{4} u_{3}\\right) + v_{3} \\left(a_{2} u_{2} + a_{6} u_{3}\\right)\\right) + w_{1} \\left(v_{2} \\left(a_{1} u_{2} + a_{5} u_{3}\\right) + v_{3} \\left(a_{3} u_{2} + a_{7} u_{3}\\right)\\right) & w_{2} \\left(v_{2} \\left(a_{0} u_{2} + a_{4} u_{3}\\right) + v_{3} \\left(a_{2} u_{2} + a_{6} u_{3}\\right)\\right) + w_{3} \\left(v_{2} \\left(a_{1} u_{2} + a_{5} u_{3}\\right) + v_{3} \\left(a_{3} u_{2} + a_{7} u_{3}\\right)\\right)\\end{matrix}\\right]\\end{matrix}\\right]$"
      ],
      "text/plain": [
       "[[[w_0*(v_0*(a_0*u_0 + a_4*u_1) + v_1*(a_2*u_0 + a_6*u_1)) + w_1*(v_0*(a_1*u_0 + a_5*u_1) + v_1*(a_3*u_0 + a_7*u_1)), w_2*(v_0*(a_0*u_0 + a_4*u_1) + v_1*(a_2*u_0 + a_6*u_1)) + w_3*(v_0*(a_1*u_0 + a_5*u_1) + v_1*(a_3*u_0 + a_7*u_1))], [w_0*(v_2*(a_0*u_0 + a_4*u_1) + v_3*(a_2*u_0 + a_6*u_1)) + w_1*(v_2*(a_1*u_0 + a_5*u_1) + v_3*(a_3*u_0 + a_7*u_1)), w_2*(v_2*(a_0*u_0 + a_4*u_1) + v_3*(a_2*u_0 + a_6*u_1)) + w_3*(v_2*(a_1*u_0 + a_5*u_1) + v_3*(a_3*u_0 + a_7*u_1))]], [[w_0*(v_0*(a_0*u_2 + a_4*u_3) + v_1*(a_2*u_2 + a_6*u_3)) + w_1*(v_0*(a_1*u_2 + a_5*u_3) + v_1*(a_3*u_2 + a_7*u_3)), w_2*(v_0*(a_0*u_2 + a_4*u_3) + v_1*(a_2*u_2 + a_6*u_3)) + w_3*(v_0*(a_1*u_2 + a_5*u_3) + v_1*(a_3*u_2 + a_7*u_3))], [w_0*(v_2*(a_0*u_2 + a_4*u_3) + v_3*(a_2*u_2 + a_6*u_3)) + w_1*(v_2*(a_1*u_2 + a_5*u_3) + v_3*(a_3*u_2 + a_7*u_3)), w_2*(v_2*(a_0*u_2 + a_4*u_3) + v_3*(a_2*u_2 + a_6*u_3)) + w_3*(v_2*(a_1*u_2 + a_5*u_3) + v_3*(a_3*u_2 + a_7*u_3))]]]"
      ]
     },
     "execution_count": 6,
     "metadata": {},
     "output_type": "execute_result"
    }
   ],
   "source": [
    "UVCT = permutedims(UVCT, (2, 1, 0))\n",
    "T = Array(W @ UVCT.reshape(2, 4).tomatrix()).reshape(2, 2, 2)\n",
    "UVCT = permutedims(UVCT, (2, 1, 0))\n",
    "T = permutedims(T, (2, 1, 0))\n",
    "T"
   ]
  },
  {
   "cell_type": "markdown",
   "id": "724f24eb-af35-4174-a92f-85e1c49525c3",
   "metadata": {},
   "source": [
    "Matrix product is equivalent to a tensor product of two rank-2 arrays, followed by a contraction of the 2nd and 3rd axes (in Python indexing axes number 1, 2)."
   ]
  },
  {
   "cell_type": "code",
   "execution_count": 7,
   "id": "51ab23de-5acc-4297-98d5-f3006642d600",
   "metadata": {
    "tags": []
   },
   "outputs": [
    {
     "data": {
      "text/latex": [
       "$\\displaystyle \\left[\\begin{matrix}\\left[\\begin{matrix}a_{0} u_{0} + a_{4} u_{1} & a_{1} u_{0} + a_{5} u_{1}\\\\a_{2} u_{0} + a_{6} u_{1} & a_{3} u_{0} + a_{7} u_{1}\\end{matrix}\\right] & \\left[\\begin{matrix}a_{0} u_{2} + a_{4} u_{3} & a_{1} u_{2} + a_{5} u_{3}\\\\a_{2} u_{2} + a_{6} u_{3} & a_{3} u_{2} + a_{7} u_{3}\\end{matrix}\\right]\\end{matrix}\\right]$"
      ],
      "text/plain": [
       "[[[a_0*u_0 + a_4*u_1, a_1*u_0 + a_5*u_1], [a_2*u_0 + a_6*u_1, a_3*u_0 + a_7*u_1]], [[a_0*u_2 + a_4*u_3, a_1*u_2 + a_5*u_3], [a_2*u_2 + a_6*u_3, a_3*u_2 + a_7*u_3]]]"
      ]
     },
     "execution_count": 7,
     "metadata": {},
     "output_type": "execute_result"
    }
   ],
   "source": [
    "UCT1 = tensorcontraction(tensorproduct(U, CT.reshape(2, 4)), (1, 2)).reshape(2, 2, 2)\n",
    "UCT1"
   ]
  },
  {
   "cell_type": "markdown",
   "id": "5fa20b2c-f6ba-45fd-b074-b6c29ec2b82e",
   "metadata": {},
   "source": [
    "With no reshape - the same result!"
   ]
  },
  {
   "cell_type": "code",
   "execution_count": 8,
   "id": "e8dee7f4-a313-4092-aac9-6bcf03f5011a",
   "metadata": {
    "tags": []
   },
   "outputs": [
    {
     "data": {
      "text/latex": [
       "$\\displaystyle \\left[\\begin{matrix}\\left[\\begin{matrix}a_{0} u_{0} + a_{4} u_{1} & a_{1} u_{0} + a_{5} u_{1}\\\\a_{2} u_{0} + a_{6} u_{1} & a_{3} u_{0} + a_{7} u_{1}\\end{matrix}\\right] & \\left[\\begin{matrix}a_{0} u_{2} + a_{4} u_{3} & a_{1} u_{2} + a_{5} u_{3}\\\\a_{2} u_{2} + a_{6} u_{3} & a_{3} u_{2} + a_{7} u_{3}\\end{matrix}\\right]\\end{matrix}\\right]$"
      ],
      "text/plain": [
       "[[[a_0*u_0 + a_4*u_1, a_1*u_0 + a_5*u_1], [a_2*u_0 + a_6*u_1, a_3*u_0 + a_7*u_1]], [[a_0*u_2 + a_4*u_3, a_1*u_2 + a_5*u_3], [a_2*u_2 + a_6*u_3, a_3*u_2 + a_7*u_3]]]"
      ]
     },
     "execution_count": 8,
     "metadata": {},
     "output_type": "execute_result"
    }
   ],
   "source": [
    "UCT2 = tensorcontraction(tensorproduct(U, CT), (1, 2))\n",
    "UCT2"
   ]
  },
  {
   "cell_type": "code",
   "execution_count": 9,
   "id": "e68c1578-fb28-456c-a677-b56b82e3b597",
   "metadata": {},
   "outputs": [
    {
     "data": {
      "text/latex": [
       "$\\displaystyle \\left[\\begin{matrix}\\left[\\begin{matrix}v_{0} \\left(a_{0} u_{0} + a_{4} u_{1}\\right) + v_{1} \\left(a_{2} u_{0} + a_{6} u_{1}\\right) & v_{0} \\left(a_{1} u_{0} + a_{5} u_{1}\\right) + v_{1} \\left(a_{3} u_{0} + a_{7} u_{1}\\right)\\\\v_{2} \\left(a_{0} u_{0} + a_{4} u_{1}\\right) + v_{3} \\left(a_{2} u_{0} + a_{6} u_{1}\\right) & v_{2} \\left(a_{1} u_{0} + a_{5} u_{1}\\right) + v_{3} \\left(a_{3} u_{0} + a_{7} u_{1}\\right)\\end{matrix}\\right] & \\left[\\begin{matrix}v_{0} \\left(a_{0} u_{2} + a_{4} u_{3}\\right) + v_{1} \\left(a_{2} u_{2} + a_{6} u_{3}\\right) & v_{0} \\left(a_{1} u_{2} + a_{5} u_{3}\\right) + v_{1} \\left(a_{3} u_{2} + a_{7} u_{3}\\right)\\\\v_{2} \\left(a_{0} u_{2} + a_{4} u_{3}\\right) + v_{3} \\left(a_{2} u_{2} + a_{6} u_{3}\\right) & v_{2} \\left(a_{1} u_{2} + a_{5} u_{3}\\right) + v_{3} \\left(a_{3} u_{2} + a_{7} u_{3}\\right)\\end{matrix}\\right]\\end{matrix}\\right]$"
      ],
      "text/plain": [
       "[[[v_0*(a_0*u_0 + a_4*u_1) + v_1*(a_2*u_0 + a_6*u_1), v_0*(a_1*u_0 + a_5*u_1) + v_1*(a_3*u_0 + a_7*u_1)], [v_2*(a_0*u_0 + a_4*u_1) + v_3*(a_2*u_0 + a_6*u_1), v_2*(a_1*u_0 + a_5*u_1) + v_3*(a_3*u_0 + a_7*u_1)]], [[v_0*(a_0*u_2 + a_4*u_3) + v_1*(a_2*u_2 + a_6*u_3), v_0*(a_1*u_2 + a_5*u_3) + v_1*(a_3*u_2 + a_7*u_3)], [v_2*(a_0*u_2 + a_4*u_3) + v_3*(a_2*u_2 + a_6*u_3), v_2*(a_1*u_2 + a_5*u_3) + v_3*(a_3*u_2 + a_7*u_3)]]]"
      ]
     },
     "execution_count": 9,
     "metadata": {},
     "output_type": "execute_result"
    }
   ],
   "source": [
    "UVCT2 = permutedims(tensorcontraction(tensorproduct(V, UCT2), (1, 3)), (1, 0, 2))\n",
    "UVCT2"
   ]
  },
  {
   "cell_type": "markdown",
   "id": "8ca3ed60-f4bd-4b3b-ba24-122a36a2828e",
   "metadata": {},
   "source": [
    "# Two contractions!\n",
    "\n",
    "Or even simpler! Collect the tensor first"
   ]
  },
  {
   "cell_type": "code",
   "execution_count": 10,
   "id": "7fc858cb-fe10-4cfd-b3db-cc2b9f79c28e",
   "metadata": {},
   "outputs": [
    {
     "data": {
      "text/latex": [
       "$\\displaystyle \\left( 2, \\  2, \\  2, \\  2, \\  2, \\  2, \\  2\\right)$"
      ],
      "text/plain": [
       "(2, 2, 2, 2, 2, 2, 2)"
      ]
     },
     "execution_count": 10,
     "metadata": {},
     "output_type": "execute_result"
    }
   ],
   "source": [
    "TP = tensorproduct(V, U, CT)\n",
    "TP.shape"
   ]
  },
  {
   "cell_type": "code",
   "execution_count": 11,
   "id": "4e5f9d00-e9de-459e-9bd6-47457abcdd41",
   "metadata": {
    "tags": []
   },
   "outputs": [
    {
     "data": {
      "text/latex": [
       "$\\displaystyle \\left[\\begin{matrix}\\left[\\begin{matrix}v_{0} \\left(a_{0} u_{0} + a_{4} u_{1}\\right) + v_{1} \\left(a_{2} u_{0} + a_{6} u_{1}\\right) & v_{0} \\left(a_{1} u_{0} + a_{5} u_{1}\\right) + v_{1} \\left(a_{3} u_{0} + a_{7} u_{1}\\right)\\\\v_{2} \\left(a_{0} u_{0} + a_{4} u_{1}\\right) + v_{3} \\left(a_{2} u_{0} + a_{6} u_{1}\\right) & v_{2} \\left(a_{1} u_{0} + a_{5} u_{1}\\right) + v_{3} \\left(a_{3} u_{0} + a_{7} u_{1}\\right)\\end{matrix}\\right] & \\left[\\begin{matrix}v_{0} \\left(a_{0} u_{2} + a_{4} u_{3}\\right) + v_{1} \\left(a_{2} u_{2} + a_{6} u_{3}\\right) & v_{0} \\left(a_{1} u_{2} + a_{5} u_{3}\\right) + v_{1} \\left(a_{3} u_{2} + a_{7} u_{3}\\right)\\\\v_{2} \\left(a_{0} u_{2} + a_{4} u_{3}\\right) + v_{3} \\left(a_{2} u_{2} + a_{6} u_{3}\\right) & v_{2} \\left(a_{1} u_{2} + a_{5} u_{3}\\right) + v_{3} \\left(a_{3} u_{2} + a_{7} u_{3}\\right)\\end{matrix}\\right]\\end{matrix}\\right]$"
      ],
      "text/plain": [
       "[[[v_0*(a_0*u_0 + a_4*u_1) + v_1*(a_2*u_0 + a_6*u_1), v_0*(a_1*u_0 + a_5*u_1) + v_1*(a_3*u_0 + a_7*u_1)], [v_2*(a_0*u_0 + a_4*u_1) + v_3*(a_2*u_0 + a_6*u_1), v_2*(a_1*u_0 + a_5*u_1) + v_3*(a_3*u_0 + a_7*u_1)]], [[v_0*(a_0*u_2 + a_4*u_3) + v_1*(a_2*u_2 + a_6*u_3), v_0*(a_1*u_2 + a_5*u_3) + v_1*(a_3*u_2 + a_7*u_3)], [v_2*(a_0*u_2 + a_4*u_3) + v_3*(a_2*u_2 + a_6*u_3), v_2*(a_1*u_2 + a_5*u_3) + v_3*(a_3*u_2 + a_7*u_3)]]]"
      ]
     },
     "execution_count": 11,
     "metadata": {},
     "output_type": "execute_result"
    }
   ],
   "source": [
    "permutedims(\n",
    "    tensorcontraction(tensorcontraction(TP, (3, 4)), (1, 3))\n",
    "    ,\n",
    "    (1, 0, 2)\n",
    ").applyfunc(lambda e: collect(e, v))"
   ]
  }
 ],
 "metadata": {
  "kernelspec": {
   "display_name": "qiskit",
   "language": "python",
   "name": "qiskit"
  },
  "language_info": {
   "codemirror_mode": {
    "name": "ipython",
    "version": 3
   },
   "file_extension": ".py",
   "mimetype": "text/x-python",
   "name": "python",
   "nbconvert_exporter": "python",
   "pygments_lexer": "ipython3",
   "version": "3.9.7"
  }
 },
 "nbformat": 4,
 "nbformat_minor": 5
}
