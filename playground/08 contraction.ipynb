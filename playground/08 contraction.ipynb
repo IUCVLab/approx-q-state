{
 "cells": [
  {
   "cell_type": "code",
   "execution_count": 1,
   "id": "a1c3dd21-f297-4a04-85be-049f5275a89b",
   "metadata": {},
   "outputs": [],
   "source": [
    "# !pip install tensorly"
   ]
  },
  {
   "cell_type": "code",
   "execution_count": 2,
   "id": "cdd8b3c8-cd88-4b58-a814-634b2fecdffa",
   "metadata": {},
   "outputs": [],
   "source": [
    "import numpy as np\n",
    "from ncon import ncon\n",
    "\n",
    "import numpy as np\n",
    "np.set_printoptions(formatter={\n",
    "    'float': lambda x: \"{0:+0.5f}\".format(x), \n",
    "    'double': lambda x: \"{0:0.5d}\".format(x),\n",
    "    'complexfloat': lambda x: \"{0.real:0.5f}\".format(x) + '+ '[int(x.imag < 0)] + \"{0.imag:0.5f}j\".format(x)\n",
    "})"
   ]
  },
  {
   "cell_type": "code",
   "execution_count": 3,
   "id": "d568fbaf-0cbb-47c8-857b-b57109d974a0",
   "metadata": {},
   "outputs": [],
   "source": [
    "\n",
    "\n",
    "PLUS = np.array([1, 1]) * .5 ** .5\n",
    "PP = np.kron(PLUS, PLUS)\n",
    "PPT = PP.reshape(2, 2)\n",
    "\n",
    "BELL = np.array([0.6, 0, 0, -0.4])\n",
    "BELLPHI = np.array([0, 1, 1, 0]) * .5 ** .5\n",
    "BELLT = BELL.reshape(2, 2)\n",
    "BELLPHIT = BELLPHI.reshape(2, 2)\n",
    "\n",
    "BB = np.kron(BELL, BELL).reshape(2, 2, 2, 2)\n",
    "PPPPT = np.kron(PP, PP).reshape(2, 2, 2, 2)\n",
    "\n",
    "FENT = np.array([1, 0, 0, 0, 0, 0, 0, 0, 0, 0, 0, 0, 0, 0, 0, 1]).reshape(2, 2, 2, 2)\n",
    "FENT = FENT / np.linalg.norm(FENT.reshape(-1))\n",
    "\n",
    "E = np.array([[0, 1], [-1, 0]])\n",
    "\n",
    "GHZP = np.kron(np.array([1, 0, 0, 0, 0, 0, 0, 1]), PLUS).reshape(2, 2, 2, 2) * .5 ** .5\n",
    "\n",
    "PARTIALLY = np.kron(np.array([0.6, 0.4, 0.4, 0.6]), np.array([0.6, 0.4, 0.4, -0.6])).reshape(2, 2, 2, 2)\n",
    "PARTIALLY = PARTIALLY / np.linalg.norm(PARTIALLY.reshape(-1))\n",
    "\n",
    "W = np.array([0, 1, 1, 0, 1, 0, 0, 0]) * ((1/3) ** .5)\n",
    "WP = np.kron(W, PLUS).reshape(2, 2, 2, 2)\n",
    "\n",
    "ZERO = np.array([1, 0])\n",
    "ONE = np.array([0, 1])"
   ]
  },
  {
   "cell_type": "code",
   "execution_count": 4,
   "id": "60070607-f8fa-43e8-afd0-0f47958a28df",
   "metadata": {},
   "outputs": [
    {
     "name": "stdout",
     "output_type": "stream",
     "text": [
      "[+1.00000 +1.00000]\n",
      "[+0.00000 +0.00000]\n"
     ]
    }
   ],
   "source": [
    "COPY = np.zeros((2, 2, 2))\n",
    "COPY[0, 0, 0] = 1\n",
    "COPY[1, 1, 1] = 1\n",
    "print(ncon(COPY, [1, 1, -1]))\n",
    "print(ncon([COPY, E], [[1, 2, -1], [1, 2]]))"
   ]
  },
  {
   "cell_type": "code",
   "execution_count": 5,
   "id": "60ca7d5a-f185-4562-b4fb-a5c3f6b5ca90",
   "metadata": {},
   "outputs": [
    {
     "data": {
      "text/plain": [
       "array(+0.52000)"
      ]
     },
     "execution_count": 5,
     "metadata": {},
     "output_type": "execute_result"
    }
   ],
   "source": [
    "# contracting BELL state with itself: measured in it's basis\n",
    "ncon((BELLT, BELLT), [[1, 2], [1, 2]])"
   ]
  },
  {
   "cell_type": "code",
   "execution_count": 6,
   "id": "6802129f-3719-4ccd-b30f-ea1ee29e94c9",
   "metadata": {},
   "outputs": [
    {
     "data": {
      "text/plain": [
       "array(+0.10000)"
      ]
     },
     "execution_count": 6,
     "metadata": {},
     "output_type": "execute_result"
    }
   ],
   "source": [
    "# contracting BELL state with |++>: measured in it's basis\n",
    "ncon((BELLT, PPT), [[1, 2], [1, 2]])"
   ]
  },
  {
   "cell_type": "code",
   "execution_count": 7,
   "id": "cc7b4215-2a4d-40d4-a548-c0e16136ce99",
   "metadata": {},
   "outputs": [
    {
     "data": {
      "text/plain": [
       "array(+0.00000)"
      ]
     },
     "execution_count": 7,
     "metadata": {},
     "output_type": "execute_result"
    }
   ],
   "source": [
    "# contracting BELL state with |PHI+>: measured in it's basis\n",
    "ncon((BELLT, BELLPHIT), [[1, 2], [1, 2]])"
   ]
  },
  {
   "cell_type": "code",
   "execution_count": 8,
   "id": "a5e691ed-5bcb-4f7f-81ed-e3465243faee",
   "metadata": {},
   "outputs": [
    {
     "data": {
      "text/plain": [
       "array([[+0.00000, -0.24000],\n",
       "       [+0.24000, +0.00000]])"
      ]
     },
     "execution_count": 8,
     "metadata": {},
     "output_type": "execute_result"
    }
   ],
   "source": [
    "# compute matrix determinant\n",
    "ncon((BELLT.T, E, BELLT), [[-1, 1], [1, 2], [2, -2]])"
   ]
  },
  {
   "cell_type": "code",
   "execution_count": 9,
   "id": "42f6d436-7f3f-4bc0-b06a-9d6fff477645",
   "metadata": {},
   "outputs": [
    {
     "data": {
      "text/plain": [
       "0.48"
      ]
     },
     "execution_count": 9,
     "metadata": {},
     "output_type": "execute_result"
    }
   ],
   "source": [
    "# compute concurrence of a bell state. Concurrence is a module\n",
    "abs(ncon((BELLT, E, E, BELLT.conj()), [[1, 2], [1, 3], [2, 4], [3, 4]]))"
   ]
  },
  {
   "cell_type": "code",
   "execution_count": 10,
   "id": "dd4a9fee-a290-44a9-83db-6751eec63042",
   "metadata": {},
   "outputs": [
    {
     "data": {
      "text/plain": [
       "0.0"
      ]
     },
     "execution_count": 10,
     "metadata": {},
     "output_type": "execute_result"
    }
   ],
   "source": [
    "# compute concurrence of |++> state\n",
    "abs(ncon((PPT, E, E, PPT.conj()), [[1, 2], [1, 3], [2, 4], [3, 4]]))"
   ]
  },
  {
   "cell_type": "code",
   "execution_count": 11,
   "id": "737d1aea-3083-4c93-aa90-43d98b7092d8",
   "metadata": {},
   "outputs": [
    {
     "data": {
      "text/plain": [
       "0.23040000000000002"
      ]
     },
     "execution_count": 11,
     "metadata": {},
     "output_type": "execute_result"
    }
   ],
   "source": [
    "# Contract double-bell state to measure its concurrence\n",
    "# but this is irrelevant, as this for 2-state only\n",
    "abs(ncon((BB, E, E, E, E, BB.conj()), [\n",
    "    [1, 2, 3, 4], # BB\n",
    "    [1, 5],  # eps0\n",
    "    [2, 6], # eps1\n",
    "    [3, 7], # eps2\n",
    "    [4, 8], # eps3\n",
    "    [5, 6, 7, 8]# BB\n",
    "]))"
   ]
  },
  {
   "cell_type": "code",
   "execution_count": 12,
   "id": "ed2d1036-1269-4e59-a48f-ba3a7b7f467e",
   "metadata": {},
   "outputs": [
    {
     "data": {
      "text/plain": [
       "0.2496"
      ]
     },
     "execution_count": 12,
     "metadata": {},
     "output_type": "execute_result"
    }
   ],
   "source": [
    "# pairwise\n",
    "\n",
    "abs(ncon((BB, E, E, BB.conj()), [\n",
    "    [1, 2, 3, 4], # BB\n",
    "    [1, 5],  # eps0\n",
    "    [2, 6], # eps1\n",
    "    [5, 6, 3, 4]# BB.conj() wired\n",
    "]))"
   ]
  },
  {
   "cell_type": "code",
   "execution_count": 13,
   "id": "a089f123-3eb0-4735-b024-0c7361508c81",
   "metadata": {},
   "outputs": [
    {
     "data": {
      "text/plain": [
       "0.0"
      ]
     },
     "execution_count": 13,
     "metadata": {},
     "output_type": "execute_result"
    }
   ],
   "source": [
    "# pairwise\n",
    "\n",
    "abs(ncon((BB, E, E, BB.conj()), [\n",
    "    [1, 2, 3, 4], # BB\n",
    "    [1, 5],  # eps0\n",
    "    [3, 6], # eps1\n",
    "    [5, 2, 6, 4]# BB.conj() wired\n",
    "]))"
   ]
  },
  {
   "cell_type": "markdown",
   "id": "6521f42c-ba7a-43b0-bf51-f8b4a3166009",
   "metadata": {},
   "source": [
    "Using $\\epsilon$ tensor for more than 2 modes is illegal. There is a more sphisticated approach. But let us see if it shows anything."
   ]
  },
  {
   "cell_type": "code",
   "execution_count": 14,
   "id": "3b7df3b6-2360-4d8e-a478-22aaa8150cc0",
   "metadata": {},
   "outputs": [
    {
     "data": {
      "text/plain": [
       "array(-0.38462)"
      ]
     },
     "execution_count": 14,
     "metadata": {},
     "output_type": "execute_result"
    }
   ],
   "source": [
    "# Contract partially-entangled state to measure its concurrence\n",
    "ncon((PARTIALLY, E, E, E, E, PARTIALLY.conj()), [\n",
    "    [1, 2, 3, 4], # BB\n",
    "    [1, 5],  # eps0\n",
    "    [2, 6], # eps1\n",
    "    [3, 7], # eps2\n",
    "    [4, 8], # eps3\n",
    "    [5, 6, 7, 8]# BB\n",
    "])"
   ]
  },
  {
   "cell_type": "code",
   "execution_count": 15,
   "id": "b44a0f56-00d8-43ce-a973-8f8c7c6ae962",
   "metadata": {},
   "outputs": [
    {
     "data": {
      "text/plain": [
       "array(+1.00000)"
      ]
     },
     "execution_count": 15,
     "metadata": {},
     "output_type": "execute_result"
    }
   ],
   "source": [
    "# Contract FULLY-ent state to measure its concurrence\n",
    "ncon((FENT, E, E, E, E, FENT.conj()), [\n",
    "    [1, 2, 3, 4], # BB\n",
    "    [1, 5],  # eps0\n",
    "    [2, 6], # eps1\n",
    "    [3, 7], # eps2\n",
    "    [4, 8], # eps3\n",
    "    [5, 6, 7, 8]# BB\n",
    "])"
   ]
  },
  {
   "cell_type": "code",
   "execution_count": 16,
   "id": "4ac35d82-96d4-4c02-b6bf-c0402fdb2844",
   "metadata": {},
   "outputs": [
    {
     "data": {
      "text/plain": [
       "array(+0.00000)"
      ]
     },
     "execution_count": 16,
     "metadata": {},
     "output_type": "execute_result"
    }
   ],
   "source": [
    "# Contract WP state to measure its concurrence\n",
    "ncon((WP, E, E, E, E, WP.conj()), [\n",
    "    [1, 2, 3, 4], # BB\n",
    "    [1, 5],  # eps0\n",
    "    [2, 6], # eps1\n",
    "    [3, 7], # eps2\n",
    "    [4, 8], # eps3\n",
    "    [5, 6, 7, 8]# BB\n",
    "])"
   ]
  },
  {
   "cell_type": "code",
   "execution_count": 17,
   "id": "c38431c4-d51e-4961-ad89-33c72a5d96ec",
   "metadata": {},
   "outputs": [
    {
     "data": {
      "text/plain": [
       "(array(+0.36000), array(+0.16000))"
      ]
     },
     "execution_count": 17,
     "metadata": {},
     "output_type": "execute_result"
    }
   ],
   "source": [
    "# contract core tensor of BELL's core to |0> and |1>\n",
    "import tensorly as tl\n",
    "from tensorly import decomposition\n",
    "core, matrices = tl.decomposition.tucker(BB, rank=BB.shape)\n",
    "\n",
    "ncon([core, ZERO, ZERO, ZERO, ZERO], [[1, 2, 3, 4], [1], [2], [3], [4]]), \\\n",
    "ncon([core, ONE, ONE, ONE, ONE], [[1, 2, 3, 4], [1], [2], [3], [4]])"
   ]
  },
  {
   "cell_type": "code",
   "execution_count": 18,
   "id": "7ede0110-f124-4ac5-b0b4-f9c1d6b190ed",
   "metadata": {},
   "outputs": [
    {
     "data": {
      "text/plain": [
       "(array(+1.00000), array(+0.00000))"
      ]
     },
     "execution_count": 18,
     "metadata": {},
     "output_type": "execute_result"
    }
   ],
   "source": [
    "# contract core tensor of +'s core to |0> and |1>\n",
    "core, matrices = tl.decomposition.tucker(PPPPT, rank=PPPPT.shape)\n",
    "\n",
    "ncon([core, ZERO, ZERO, ZERO, ZERO], [[1, 2, 3, 4], [1], [2], [3], [4]]), \\\n",
    "ncon([core, ONE, ONE, ONE, ONE], [[1, 2, 3, 4], [1], [2], [3], [4]])"
   ]
  },
  {
   "cell_type": "code",
   "execution_count": 19,
   "id": "19296e61-d436-4d7b-b9c4-1eb933f27424",
   "metadata": {},
   "outputs": [
    {
     "data": {
      "text/plain": [
       "(array(+0.70711), array(+0.70711))"
      ]
     },
     "execution_count": 19,
     "metadata": {},
     "output_type": "execute_result"
    }
   ],
   "source": [
    "# contract core tensor of 0000+1111 to |0> and |1>\n",
    "\n",
    "core, matrices = tl.decomposition.tucker(FENT, rank=FENT.shape)\n",
    "ncon([core, ZERO, ZERO, ZERO, ZERO], [[1, 2, 3, 4], [1], [2], [3], [4]]), \\\n",
    "ncon([core, ONE, ONE, ONE, ONE], [[1, 2, 3, 4], [1], [2], [3], [4]])"
   ]
  },
  {
   "cell_type": "code",
   "execution_count": 20,
   "id": "66b73d69-8eb1-49d5-b717-1bfa2c0ba645",
   "metadata": {},
   "outputs": [
    {
     "data": {
      "text/plain": [
       "(array(-0.70711), array(+0.00000))"
      ]
     },
     "execution_count": 20,
     "metadata": {},
     "output_type": "execute_result"
    }
   ],
   "source": [
    "# contract core tensor of GHZ+P to |0> and |1>\n",
    "\n",
    "core, matrices = tl.decomposition.tucker(GHZP, rank=GHZP.shape)\n",
    "ncon([core, ZERO, ZERO, ZERO, ZERO], [[1, 2, 3, 4], [1], [2], [3], [4]]), \\\n",
    "ncon([core, ONE, ONE, ONE, ONE], [[1, 2, 3, 4], [1], [2], [3], [4]])"
   ]
  },
  {
   "cell_type": "code",
   "execution_count": 21,
   "id": "66fd0732-488d-4651-9bfa-f27ae641b30d",
   "metadata": {},
   "outputs": [
    {
     "data": {
      "text/plain": [
       "(array(+0.00000), array(+0.00000))"
      ]
     },
     "execution_count": 21,
     "metadata": {},
     "output_type": "execute_result"
    }
   ],
   "source": [
    "# contract core tensor of W+P to |0> and |1>\n",
    "\n",
    "core, matrices = tl.decomposition.tucker(WP, rank=WP.shape)\n",
    "ncon([core, ZERO, ZERO, ZERO, ZERO], [[1, 2, 3, 4], [1], [2], [3], [4]]), \\\n",
    "ncon([core, ONE, ONE, ONE, ONE], [[1, 2, 3, 4], [1], [2], [3], [4]])"
   ]
  },
  {
   "cell_type": "markdown",
   "id": "5dd3c079-3ff9-4658-af60-7c8b92c503c1",
   "metadata": {},
   "source": [
    "# Proposed methods"
   ]
  },
  {
   "cell_type": "code",
   "execution_count": 22,
   "id": "8fcbcd9a-0193-4805-b986-17c269663d3b",
   "metadata": {},
   "outputs": [],
   "source": [
    "def free_leg_test(T):\n",
    "    # array legs contracted\n",
    "    result = np.zeros((T.ndim,))\n",
    "\n",
    "    plus = np.array([1, 1]) * .5 ** .5\n",
    "    one = np.array([0, 1])\n",
    "\n",
    "    c, m = decomposition.tucker(T, rank=T.shape)\n",
    "    cabs = abs(c)\n",
    "    mc = m.copy()\n",
    "    \n",
    "    for i in range(T.ndim):\n",
    "        \n",
    "        # for each mode i we will replace m[i] with I tensor\n",
    "        # while for the others we will contract to |+>\n",
    "        measurements = [plus] * T.ndim\n",
    "        measurements[i] = one\n",
    "        \n",
    "        tensors = [cabs] + measurements\n",
    "        \n",
    "        contractions = []\n",
    "        # outgoing contractions of core tensor\n",
    "        contractions.append(list(range(1, T.ndim + 1)))\n",
    "        # measurements\n",
    "        contractions += [[q] for q in contractions[0]]\n",
    "        # hang a free leg\n",
    "        result[i] = ncon(tensors, contractions)\n",
    "    return result"
   ]
  },
  {
   "cell_type": "code",
   "execution_count": 23,
   "id": "b184a59c-28c4-44f3-aa2d-00be35fb6796",
   "metadata": {},
   "outputs": [],
   "source": [
    "def test_tensor(T):\n",
    "    result = np.zeros((T.ndim, T.ndim))\n",
    "\n",
    "    plus = np.array([1, 1]) * .5 ** .5\n",
    "    eps = np.array([0, 1, -1, 0]).reshape(2, 2)\n",
    "    \n",
    "    for i in range(T.ndim):\n",
    "        for j in range(i + 1, T.ndim):        \n",
    "            tensors = [T, eps, eps, T.conj()]\n",
    "\n",
    "            contractions = []\n",
    "            # outgoing contractions of core tensor\n",
    "            contractions.append(list(range(1, T.ndim + 1)))\n",
    "            # 2 wires to eps\n",
    "            contractions.append([i + 1, T.ndim + 1])\n",
    "            contractions.append([j + 1, T.ndim + 2])\n",
    "            # incoming\n",
    "            incoming = list(range(1, T.ndim + 1))\n",
    "            incoming[i] = T.ndim + 1\n",
    "            incoming[j] = T.ndim + 2\n",
    "            contractions.append(incoming)\n",
    "            # print(contractions)\n",
    "            result[i, j] = abs(ncon(tensors, contractions))\n",
    "            result[j, i] = result[i, j]\n",
    "    return result"
   ]
  },
  {
   "cell_type": "code",
   "execution_count": 24,
   "id": "eb6cb547-782e-47ac-9be7-d569617318f0",
   "metadata": {},
   "outputs": [
    {
     "name": "stdout",
     "output_type": "stream",
     "text": [
      "GHZ+P\n",
      " [+0.25000 +0.25000 +0.25000 +0.00000]\n",
      "W+P\n",
      " [+0.20412 +0.20412 +0.20412 +0.00000]\n",
      "BELL\n",
      " [+0.28284 +0.28284]\n",
      "BELL+BELL\n",
      " [+0.14142 +0.14142 +0.14142 +0.14142]\n",
      "++++\n",
      " [+0.00000 +0.00000 +0.00000 +0.00000]\n"
     ]
    }
   ],
   "source": [
    "print(\"GHZ+P\\n\", free_leg_test(GHZP))\n",
    "print(\"W+P\\n\", free_leg_test(WP))\n",
    "print(\"BELL\\n\", free_leg_test(BELLT))\n",
    "print(\"BELL+BELL\\n\", free_leg_test(BB))\n",
    "print(\"++++\\n\", free_leg_test(PPPPT))"
   ]
  },
  {
   "cell_type": "code",
   "execution_count": 25,
   "id": "644518b7-daf0-4725-bc8f-032c0a72849c",
   "metadata": {},
   "outputs": [
    {
     "name": "stdout",
     "output_type": "stream",
     "text": [
      "GHZ+P\n",
      " [[+0.00000 +0.00000 +0.00000 +0.00000]\n",
      " [+0.00000 +0.00000 +0.00000 +0.00000]\n",
      " [+0.00000 +0.00000 +0.00000 +0.00000]\n",
      " [+0.00000 +0.00000 +0.00000 +0.00000]]\n",
      "W+P\n",
      " [[+0.00000 +0.66667 +0.66667 +0.00000]\n",
      " [+0.66667 +0.00000 +0.66667 +0.00000]\n",
      " [+0.66667 +0.66667 +0.00000 +0.00000]\n",
      " [+0.00000 +0.00000 +0.00000 +0.00000]]\n",
      "BELL\n",
      " [[+0.00000 +0.48000]\n",
      " [+0.48000 +0.00000]]\n",
      "BELL+BELL\n",
      " [[+0.00000 +0.24960 +0.00000 +0.00000]\n",
      " [+0.24960 +0.00000 +0.00000 +0.00000]\n",
      " [+0.00000 +0.00000 +0.00000 +0.24960]\n",
      " [+0.00000 +0.00000 +0.24960 +0.00000]]\n",
      "++++\n",
      " [[+0.00000 +0.00000 +0.00000 +0.00000]\n",
      " [+0.00000 +0.00000 +0.00000 +0.00000]\n",
      " [+0.00000 +0.00000 +0.00000 +0.00000]\n",
      " [+0.00000 +0.00000 +0.00000 +0.00000]]\n"
     ]
    }
   ],
   "source": [
    "print(\"GHZ+P\\n\", test_tensor(GHZP))\n",
    "print(\"W+P\\n\", test_tensor(WP))\n",
    "print(\"BELL\\n\", test_tensor(BELLT))\n",
    "print(\"BELL+BELL\\n\", test_tensor(BB))\n",
    "print(\"++++\\n\", test_tensor(PPPPT))"
   ]
  },
  {
   "cell_type": "code",
   "execution_count": null,
   "id": "c5b86cb2-06a2-4fb1-a852-9181e53645f4",
   "metadata": {},
   "outputs": [],
   "source": []
  }
 ],
 "metadata": {
  "kernelspec": {
   "display_name": "qiskit",
   "language": "python",
   "name": "qiskit"
  },
  "language_info": {
   "codemirror_mode": {
    "name": "ipython",
    "version": 3
   },
   "file_extension": ".py",
   "mimetype": "text/x-python",
   "name": "python",
   "nbconvert_exporter": "python",
   "pygments_lexer": "ipython3",
   "version": "3.9.7"
  }
 },
 "nbformat": 4,
 "nbformat_minor": 5
}
