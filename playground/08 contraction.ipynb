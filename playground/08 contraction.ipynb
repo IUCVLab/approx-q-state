{
 "cells": [
  {
   "cell_type": "code",
   "execution_count": 35,
   "id": "a1c3dd21-f297-4a04-85be-049f5275a89b",
   "metadata": {},
   "outputs": [
    {
     "name": "stdout",
     "output_type": "stream",
     "text": [
      "Requirement already satisfied: tensorly in /Users/sprotasov/opt/anaconda3/lib/python3.9/site-packages (0.7.0)\n",
      "Requirement already satisfied: scipy in /Users/sprotasov/opt/anaconda3/lib/python3.9/site-packages (from tensorly) (1.8.0)\n",
      "Requirement already satisfied: nose in /Users/sprotasov/opt/anaconda3/lib/python3.9/site-packages (from tensorly) (1.3.7)\n",
      "Requirement already satisfied: numpy in /Users/sprotasov/opt/anaconda3/lib/python3.9/site-packages (from tensorly) (1.22.3)\n",
      "Collecting ncon\n",
      "  Downloading ncon-1.0.0-py3-none-any.whl (7.8 kB)\n",
      "Requirement already satisfied: numpy>=1.11.0 in /Users/sprotasov/opt/anaconda3/lib/python3.9/site-packages (from ncon) (1.22.3)\n",
      "Installing collected packages: ncon\n",
      "Successfully installed ncon-1.0.0\n"
     ]
    }
   ],
   "source": [
    "!pip install --user ncon"
   ]
  },
  {
   "cell_type": "code",
   "execution_count": 51,
   "id": "d568fbaf-0cbb-47c8-857b-b57109d974a0",
   "metadata": {},
   "outputs": [],
   "source": [
    "import numpy as np\n",
    "from ncon import ncon\n",
    "# import networkx as nx\n",
    "\n",
    "PLUS = np.array([1, 1]) * .5 ** .5\n",
    "PP = np.kron(PLUS, PLUS)\n",
    "BELL = np.array([1, 0, 0, 1]) * .5 ** .5\n",
    "T = np.kron(BELL, BELL).reshape(2, 2, 2, 2)\n",
    "eps = np.array([[0, 1], [-1, 0]])"
   ]
  },
  {
   "cell_type": "code",
   "execution_count": 47,
   "id": "60ca7d5a-f185-4562-b4fb-a5c3f6b5ca90",
   "metadata": {},
   "outputs": [
    {
     "data": {
      "text/plain": [
       "array(1.)"
      ]
     },
     "execution_count": 47,
     "metadata": {},
     "output_type": "execute_result"
    }
   ],
   "source": [
    "# contracting state measured in it's basis\n",
    "ncon((BELL, BELL), [[1], [1]])"
   ]
  },
  {
   "cell_type": "code",
   "execution_count": 48,
   "id": "a5e691ed-5bcb-4f7f-81ed-e3465243faee",
   "metadata": {},
   "outputs": [
    {
     "data": {
      "text/plain": [
       "array([[ 0. ,  0.5],\n",
       "       [-0.5,  0. ]])"
      ]
     },
     "execution_count": 48,
     "metadata": {},
     "output_type": "execute_result"
    }
   ],
   "source": [
    "# compute matrix determinant\n",
    "ncon((BELL.reshape(2, 2).T, eps, BELL.reshape(2, 2)), [[-1, 1], [1, 2], [2, -2]])"
   ]
  },
  {
   "cell_type": "code",
   "execution_count": 49,
   "id": "42f6d436-7f3f-4bc0-b06a-9d6fff477645",
   "metadata": {},
   "outputs": [
    {
     "data": {
      "text/plain": [
       "array(1.)"
      ]
     },
     "execution_count": 49,
     "metadata": {},
     "output_type": "execute_result"
    }
   ],
   "source": [
    "# compute concurrence of a bell state\n",
    "ncon((BELL.reshape(2, 2), eps, eps, BELL.reshape(2, 2)), [[1, 2], [1, 3], [2, 4], [3, 4]])"
   ]
  },
  {
   "cell_type": "code",
   "execution_count": 50,
   "id": "dd4a9fee-a290-44a9-83db-6751eec63042",
   "metadata": {},
   "outputs": [
    {
     "data": {
      "text/plain": [
       "array(0.)"
      ]
     },
     "execution_count": 50,
     "metadata": {},
     "output_type": "execute_result"
    }
   ],
   "source": [
    "# compute concurrence of |++> state\n",
    "ncon((PP.reshape(2, 2), eps, eps, PP.reshape(2, 2)), [[1, 2], [1, 3], [2, 4], [3, 4]])"
   ]
  },
  {
   "cell_type": "code",
   "execution_count": 57,
   "id": "737d1aea-3083-4c93-aa90-43d98b7092d8",
   "metadata": {},
   "outputs": [
    {
     "data": {
      "text/plain": [
       "array(1.)"
      ]
     },
     "execution_count": 57,
     "metadata": {},
     "output_type": "execute_result"
    }
   ],
   "source": [
    "# Contact double-bell state\n",
    "BB = np.kron(BELL, BELL).reshape(2, 2, 2, 2)\n",
    "\n",
    "ncon((BB, eps, eps, eps, eps, BB), [\n",
    "    [1, 2, 3, 4], # BB\n",
    "    [1, 5],  # eps0\n",
    "    [2, 6], # eps1\n",
    "    [3, 7], # eps2\n",
    "    [4, 8], # eps4\n",
    "    [5, 6, 7, 8]# BB\n",
    "])"
   ]
  }
 ],
 "metadata": {
  "kernelspec": {
   "display_name": "qiskit",
   "language": "python",
   "name": "qiskit"
  },
  "language_info": {
   "codemirror_mode": {
    "name": "ipython",
    "version": 3
   },
   "file_extension": ".py",
   "mimetype": "text/x-python",
   "name": "python",
   "nbconvert_exporter": "python",
   "pygments_lexer": "ipython3",
   "version": "3.9.7"
  }
 },
 "nbformat": 4,
 "nbformat_minor": 5
}
